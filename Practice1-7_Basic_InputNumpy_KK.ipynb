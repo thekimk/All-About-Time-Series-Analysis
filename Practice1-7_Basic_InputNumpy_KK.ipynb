{
 "cells": [
  {
   "cell_type": "markdown",
   "metadata": {
    "tags": []
   },
   "source": [
    "# **데이터분석 특화 데이터 라이브러리: [Numpy](https://numpy.org/doc/stable/index.html)**\n",
    "\n",
    "[![Open in Colab](http://colab.research.google.com/assets/colab-badge.svg)](https://colab.research.google.com/github/thekimk/Tutorial-Python-Programming/blob/main/Practice1-7_Basic_InputNumpy_KK.ipynb)\n",
    "\n",
    "| **라이브러리 종류** | **Numpy** | **Pandas** |\n",
    "|:---:|:---|:---|\n",
    "| **지원가능 데이터** | `값으로만` 구성된 형태 | `값과 이름`이 부여된 테이블 형태 |\n",
    "| **데이터 사용형태** | N차원 `Array` | 1차원 `Series` + N차원 `DataFrame` |\n",
    "| **데이터 위치인덱싱** | `열인덱싱` | Series는 `행인덱싱` + DataFrame은 `행과 열인덱싱` |\n",
    "| **데이터분석 활용** | 수치계산 | 데이터분석 및 시각화 |\n",
    "| **성능** | 복잡한 작업에서도 `빠름` | 복잡한 작업에선 `느린편` |\n",
    "| **개발 언어** | `C언어` 기반 | `R언어` 기반 |\n",
    "| **머신러닝 및 딥러닝 적용** | 대부분 알고리즘의 `입력으로 사용` | 대부분 알고리즘의 `입력으로 사용하지 않음` |\n",
    "\n",
    "---\n",
    "\n",
    "- **Numpy:** `Numerical Python`의 약자로 `수치를 다루는 분야`를 위한 파이썬 패키지\n",
    "\n",
    "> - 데이터분석 패키지 중 하나로 `고차원 데이터 연산(선형대수학)`과 `컴퓨팅 연산(자료구조)`에 특화\n",
    "> - 대표적으로 사용되는 `표준 수학 함수기능` 지원\n",
    "> - `저차원 및 고차원 데이터` 입출력 및 산술연산\n",
    "> - `Array 또는 Matrix와 같은 데이터 구조` 수치를 다루는 Python 데이터형태\n",
    "> - **Array:** `numpy.array`함수로 변환된 `다차원의 데이터 형태`(모든 값은 같은 자료형)\n"
   ]
  },
  {
   "cell_type": "markdown",
   "metadata": {},
   "source": [
    "## 설치 및 호출"
   ]
  },
  {
   "cell_type": "code",
   "execution_count": 1,
   "metadata": {
    "ExecuteTime": {
     "end_time": "2022-07-21T16:16:06.241901Z",
     "start_time": "2022-07-21T16:16:00.938344Z"
    },
    "execution": {
     "iopub.execute_input": "2023-09-05T04:56:48.780363Z",
     "iopub.status.busy": "2023-09-05T04:56:48.780363Z",
     "iopub.status.idle": "2023-09-05T04:56:53.726371Z",
     "shell.execute_reply": "2023-09-05T04:56:53.726371Z",
     "shell.execute_reply.started": "2023-09-05T04:56:48.780363Z"
    }
   },
   "outputs": [
    {
     "name": "stdout",
     "output_type": "stream",
     "text": [
      "Requirement already satisfied: numpy in c:\\users\\kk\\anaconda3\\lib\\site-packages (1.24.3)\n"
     ]
    }
   ],
   "source": [
    "# 주피터 노트북에서 Numpy 설치\n",
    "# Anaconda 설치하면 기 설치되어 있어서 진행할 필요 없음\n",
    "!pip install numpy"
   ]
  },
  {
   "cell_type": "code",
   "execution_count": 2,
   "metadata": {
    "ExecuteTime": {
     "end_time": "2022-07-21T16:16:06.468901Z",
     "start_time": "2022-07-21T16:16:06.243904Z"
    },
    "execution": {
     "iopub.execute_input": "2023-09-05T04:56:53.727382Z",
     "iopub.status.busy": "2023-09-05T04:56:53.727382Z",
     "iopub.status.idle": "2023-09-05T04:56:53.872297Z",
     "shell.execute_reply": "2023-09-05T04:56:53.872297Z",
     "shell.execute_reply.started": "2023-09-05T04:56:53.727382Z"
    }
   },
   "outputs": [],
   "source": [
    "# Numpy 사용을 위해 패키지 불러오기\n",
    "# import 패키지명 as 닉네임\n",
    "# 관례적으로 np라는 약자를 많이 사용\n",
    "import numpy as np"
   ]
  },
  {
   "cell_type": "markdown",
   "metadata": {},
   "source": [
    "## List vs Array\n",
    "\n",
    "> **\"`List`로 `다차원 데이터`를 구현할 수 있는데 `Numpy ndarray`로 다차원을 다루는 이유는?\"**\n",
    "\n",
    "- **유사점:** List의 다차원이나 Numpy ndarray의 다차원 데이터의 출력은 (거의)같음"
   ]
  },
  {
   "cell_type": "code",
   "execution_count": 3,
   "metadata": {
    "ExecuteTime": {
     "end_time": "2022-07-21T16:16:06.483901Z",
     "start_time": "2022-07-21T16:16:06.470903Z"
    },
    "execution": {
     "iopub.execute_input": "2023-09-05T04:56:53.874303Z",
     "iopub.status.busy": "2023-09-05T04:56:53.873301Z",
     "iopub.status.idle": "2023-09-05T04:56:53.877953Z",
     "shell.execute_reply": "2023-09-05T04:56:53.876937Z",
     "shell.execute_reply.started": "2023-09-05T04:56:53.874303Z"
    }
   },
   "outputs": [],
   "source": [
    "import numpy as np\n",
    "a = [1,2,3,4,5]\n",
    "b = np.array(a)"
   ]
  },
  {
   "cell_type": "code",
   "execution_count": 4,
   "metadata": {
    "ExecuteTime": {
     "end_time": "2022-07-21T16:16:06.498904Z",
     "start_time": "2022-07-21T16:16:06.484903Z"
    },
    "execution": {
     "iopub.execute_input": "2023-09-05T04:56:53.879956Z",
     "iopub.status.busy": "2023-09-05T04:56:53.879956Z",
     "iopub.status.idle": "2023-09-05T04:56:53.884801Z",
     "shell.execute_reply": "2023-09-05T04:56:53.884801Z",
     "shell.execute_reply.started": "2023-09-05T04:56:53.879956Z"
    }
   },
   "outputs": [
    {
     "name": "stdout",
     "output_type": "stream",
     "text": [
      "[1, 2, 3, 4, 5] [1 2 3 4 5]\n"
     ]
    }
   ],
   "source": [
    "print(a, b)"
   ]
  },
  {
   "cell_type": "code",
   "execution_count": 5,
   "metadata": {
    "ExecuteTime": {
     "end_time": "2022-07-21T16:16:06.513902Z",
     "start_time": "2022-07-21T16:16:06.499904Z"
    },
    "execution": {
     "iopub.execute_input": "2023-09-05T04:56:53.886812Z",
     "iopub.status.busy": "2023-09-05T04:56:53.885811Z",
     "iopub.status.idle": "2023-09-05T04:56:53.894796Z",
     "shell.execute_reply": "2023-09-05T04:56:53.894796Z",
     "shell.execute_reply.started": "2023-09-05T04:56:53.886812Z"
    }
   },
   "outputs": [
    {
     "data": {
      "text/plain": [
       "[1, 2, 3, 4, 5]"
      ]
     },
     "execution_count": 5,
     "metadata": {},
     "output_type": "execute_result"
    }
   ],
   "source": [
    "a"
   ]
  },
  {
   "cell_type": "code",
   "execution_count": 6,
   "metadata": {
    "ExecuteTime": {
     "end_time": "2022-07-21T16:16:06.528902Z",
     "start_time": "2022-07-21T16:16:06.515902Z"
    },
    "execution": {
     "iopub.execute_input": "2023-09-05T04:56:53.896806Z",
     "iopub.status.busy": "2023-09-05T04:56:53.895810Z",
     "iopub.status.idle": "2023-09-05T04:56:53.900534Z",
     "shell.execute_reply": "2023-09-05T04:56:53.900534Z",
     "shell.execute_reply.started": "2023-09-05T04:56:53.896806Z"
    }
   },
   "outputs": [
    {
     "data": {
      "text/plain": [
       "array([1, 2, 3, 4, 5])"
      ]
     },
     "execution_count": 6,
     "metadata": {},
     "output_type": "execute_result"
    }
   ],
   "source": [
    "b"
   ]
  },
  {
   "cell_type": "code",
   "execution_count": 7,
   "metadata": {
    "ExecuteTime": {
     "end_time": "2022-07-21T16:16:06.543901Z",
     "start_time": "2022-07-21T16:16:06.529904Z"
    },
    "execution": {
     "iopub.execute_input": "2023-09-05T04:56:53.902545Z",
     "iopub.status.busy": "2023-09-05T04:56:53.901545Z",
     "iopub.status.idle": "2023-09-05T04:56:53.906533Z",
     "shell.execute_reply": "2023-09-05T04:56:53.906533Z",
     "shell.execute_reply.started": "2023-09-05T04:56:53.902545Z"
    }
   },
   "outputs": [
    {
     "name": "stdout",
     "output_type": "stream",
     "text": [
      "<class 'list'> <class 'numpy.ndarray'>\n"
     ]
    }
   ],
   "source": [
    "print(type(a), type(b))"
   ]
  },
  {
   "cell_type": "markdown",
   "metadata": {},
   "source": [
    "- **차이점:** `고차원이거나 빅데이터`의 경우 `Numpy array 데이터`로 저장된 경우 `연산에 유리함`\n",
    "| **List** | **Array** |\n",
    "|:---:|:---:|\n",
    "| `여러 Type의 값`을 가질 수 있음 | `동일한 Type의 값`만 가질 수 있음 |\n",
    "| 메모리를 많이 점유하고 `계산 속도가 느림` | 메모리를 최적으로 쓰고 `계산 속도 향상` |\n",
    "| 각 `값마다 연산 필요` $\\rightarrow$ `반복문` 필요 | `벡터화(값의 묶음)로 연산` 가능 $\\rightarrow$ `반복문 불필요` |\n",
    ">\n",
    ">\n",
    "> - array를 사용하면 `list에서는 다소 독립적`으로만 사용했던 `콤마(,)기반으로 인덱싱과 슬라이싱 융합사용` 가능\n",
    "> - array를 사용하면 `정수 또는 불리언 형식으로 값을 선택`가능\n"
   ]
  },
  {
   "cell_type": "code",
   "execution_count": 8,
   "metadata": {
    "ExecuteTime": {
     "end_time": "2022-07-21T16:16:06.558910Z",
     "start_time": "2022-07-21T16:16:06.544904Z"
    },
    "execution": {
     "iopub.execute_input": "2023-09-05T04:56:53.908544Z",
     "iopub.status.busy": "2023-09-05T04:56:53.908544Z",
     "iopub.status.idle": "2023-09-05T04:56:53.914261Z",
     "shell.execute_reply": "2023-09-05T04:56:53.914261Z",
     "shell.execute_reply.started": "2023-09-05T04:56:53.908544Z"
    }
   },
   "outputs": [
    {
     "data": {
      "text/plain": [
       "[0, 1, 2, 3, 4, 5, 6, 7, 8, 9, 0, 1, 2, 3, 4, 5, 6, 7, 8, 9]"
      ]
     },
     "execution_count": 8,
     "metadata": {},
     "output_type": "execute_result"
    }
   ],
   "source": [
    "# List 예시\n",
    "a = [0, 1, 2, 3, 4, 5, 6, 7, 8, 9]*2\n",
    "a"
   ]
  },
  {
   "cell_type": "code",
   "execution_count": 9,
   "metadata": {
    "ExecuteTime": {
     "end_time": "2022-07-21T16:16:06.574900Z",
     "start_time": "2022-07-21T16:16:06.562903Z"
    },
    "execution": {
     "iopub.execute_input": "2023-09-05T04:56:53.916266Z",
     "iopub.status.busy": "2023-09-05T04:56:53.915269Z",
     "iopub.status.idle": "2023-09-05T04:56:53.923611Z",
     "shell.execute_reply": "2023-09-05T04:56:53.922606Z",
     "shell.execute_reply.started": "2023-09-05T04:56:53.916266Z"
    }
   },
   "outputs": [
    {
     "data": {
      "text/plain": [
       "array([ 0,  2,  4,  6,  8, 10, 12, 14, 16, 18])"
      ]
     },
     "execution_count": 9,
     "metadata": {},
     "output_type": "execute_result"
    }
   ],
   "source": [
    "# Array 예시\n",
    "a = np.array([0, 1, 2, 3, 4, 5, 6, 7, 8, 9])*2\n",
    "a"
   ]
  },
  {
   "cell_type": "code",
   "execution_count": 10,
   "metadata": {
    "ExecuteTime": {
     "end_time": "2022-07-21T16:16:06.589904Z",
     "start_time": "2022-07-21T16:16:06.575901Z"
    },
    "execution": {
     "iopub.execute_input": "2023-09-05T04:56:53.925613Z",
     "iopub.status.busy": "2023-09-05T04:56:53.925613Z",
     "iopub.status.idle": "2023-09-05T04:56:53.932279Z",
     "shell.execute_reply": "2023-09-05T04:56:53.931274Z",
     "shell.execute_reply.started": "2023-09-05T04:56:53.925613Z"
    }
   },
   "outputs": [
    {
     "data": {
      "text/plain": [
       "[1, 2]"
      ]
     },
     "execution_count": 10,
     "metadata": {},
     "output_type": "execute_result"
    }
   ],
   "source": [
    "# List 예시\n",
    "a = [[0, 1, 2], [3, 4, 5]]\n",
    "a[0][1:]"
   ]
  },
  {
   "cell_type": "code",
   "execution_count": 11,
   "metadata": {
    "ExecuteTime": {
     "end_time": "2022-07-21T16:16:06.605909Z",
     "start_time": "2022-07-21T16:16:06.592906Z"
    },
    "execution": {
     "iopub.execute_input": "2023-09-05T04:56:53.933279Z",
     "iopub.status.busy": "2023-09-05T04:56:53.932279Z",
     "iopub.status.idle": "2023-09-05T04:56:53.939700Z",
     "shell.execute_reply": "2023-09-05T04:56:53.938689Z",
     "shell.execute_reply.started": "2023-09-05T04:56:53.933279Z"
    }
   },
   "outputs": [
    {
     "data": {
      "text/plain": [
       "array([1, 2])"
      ]
     },
     "execution_count": 11,
     "metadata": {},
     "output_type": "execute_result"
    }
   ],
   "source": [
    "# Array 예시\n",
    "a = np.array([[0, 1, 2], [3, 4, 5]])\n",
    "a[0,1:]"
   ]
  },
  {
   "cell_type": "code",
   "execution_count": 12,
   "metadata": {
    "ExecuteTime": {
     "end_time": "2022-07-21T16:16:06.637902Z",
     "start_time": "2022-07-21T16:16:06.608904Z"
    },
    "execution": {
     "iopub.execute_input": "2023-09-05T04:56:53.940699Z",
     "iopub.status.busy": "2023-09-05T04:56:53.940699Z",
     "iopub.status.idle": "2023-09-05T04:56:53.944567Z",
     "shell.execute_reply": "2023-09-05T04:56:53.944567Z",
     "shell.execute_reply.started": "2023-09-05T04:56:53.940699Z"
    }
   },
   "outputs": [
    {
     "data": {
      "text/plain": [
       "1"
      ]
     },
     "execution_count": 12,
     "metadata": {},
     "output_type": "execute_result"
    }
   ],
   "source": [
    "# List 예시\n",
    "a = [0, 1, 2, 3, 4, 5, 6, 7, 8, 9]\n",
    "a[True]"
   ]
  },
  {
   "cell_type": "code",
   "execution_count": 13,
   "metadata": {
    "ExecuteTime": {
     "end_time": "2022-07-21T16:16:06.652902Z",
     "start_time": "2022-07-21T16:16:06.638904Z"
    },
    "execution": {
     "iopub.execute_input": "2023-09-05T04:56:53.946576Z",
     "iopub.status.busy": "2023-09-05T04:56:53.945572Z",
     "iopub.status.idle": "2023-09-05T04:56:53.952322Z",
     "shell.execute_reply": "2023-09-05T04:56:53.952322Z",
     "shell.execute_reply.started": "2023-09-05T04:56:53.946576Z"
    }
   },
   "outputs": [
    {
     "data": {
      "text/plain": [
       "array([[0, 1, 2, 3, 4, 5, 6, 7, 8, 9]])"
      ]
     },
     "execution_count": 13,
     "metadata": {},
     "output_type": "execute_result"
    }
   ],
   "source": [
    "# Array 예시\n",
    "a = np.array([0, 1, 2, 3, 4, 5, 6, 7, 8, 9])\n",
    "a[True]"
   ]
  },
  {
   "cell_type": "code",
   "execution_count": 14,
   "metadata": {
    "ExecuteTime": {
     "end_time": "2022-07-21T16:16:06.668908Z",
     "start_time": "2022-07-21T16:16:06.654904Z"
    },
    "execution": {
     "iopub.execute_input": "2023-09-05T04:56:53.954327Z",
     "iopub.status.busy": "2023-09-05T04:56:53.953328Z",
     "iopub.status.idle": "2023-09-05T04:56:53.957349Z",
     "shell.execute_reply": "2023-09-05T04:56:53.957349Z",
     "shell.execute_reply.started": "2023-09-05T04:56:53.954327Z"
    }
   },
   "outputs": [],
   "source": [
    "# # List 예시\n",
    "# a = [0, 1, 2, 3, 4, 5, 6, 7, 8, 9]\n",
    "# a[True, False, True, False, True, False, True, False, True, False]"
   ]
  },
  {
   "cell_type": "markdown",
   "metadata": {},
   "source": [
    "```python\n",
    "---------------------------------------------------------------------------\n",
    "TypeError                                 Traceback (most recent call last)\n",
    "<ipython-input-45-a0b1051558de> in <module>\n",
    "----> 1 a[[True, False, True, False, True, False, True, False, True, False]]\n",
    "\n",
    "TypeError: list indices must be integers or slices, not list\n",
    "```"
   ]
  },
  {
   "cell_type": "code",
   "execution_count": 15,
   "metadata": {
    "ExecuteTime": {
     "end_time": "2022-07-21T16:16:06.700902Z",
     "start_time": "2022-07-21T16:16:06.686903Z"
    },
    "execution": {
     "iopub.execute_input": "2023-09-05T04:56:53.959354Z",
     "iopub.status.busy": "2023-09-05T04:56:53.958355Z",
     "iopub.status.idle": "2023-09-05T04:56:53.966186Z",
     "shell.execute_reply": "2023-09-05T04:56:53.965181Z",
     "shell.execute_reply.started": "2023-09-05T04:56:53.959354Z"
    }
   },
   "outputs": [
    {
     "data": {
      "text/plain": [
       "array([0, 2, 4, 6, 8])"
      ]
     },
     "execution_count": 15,
     "metadata": {},
     "output_type": "execute_result"
    }
   ],
   "source": [
    "# Array 예시\n",
    "a = np.array([0, 1, 2, 3, 4, 5, 6, 7, 8, 9])\n",
    "a[[True, False, True, False, True, False, True, False, True, False]]"
   ]
  },
  {
   "cell_type": "markdown",
   "metadata": {},
   "source": [
    "- **정리:**\n",
    "> - 브로드캐스팅 기능으로 `형태가 다른 저차원과 고차원간 연산 가능`\n",
    "> - `행렬(저차원 및 고차원)을 다루는 선형대수` 및 `변환기능 지원`\n",
    "> - `빅데이터 연산`에 효율성이 높음\n",
    "> - 다른 프로그래밍 언어에서 존재하지 않음"
   ]
  },
  {
   "cell_type": "markdown",
   "metadata": {},
   "source": [
    "## **데이터 핸들링:** Numpy Array"
   ]
  },
  {
   "cell_type": "markdown",
   "metadata": {},
   "source": [
    "### Array 값 생성하기\n",
    "\n",
    "> - numpy 연산의 `기본이 되는 데이터 구조로 Array 또는 배열`이라고 함     \n",
    "> - `같은 type의 데이터만 저장` 가능\n",
    "> - 리스트보다 간편하게 만들 수 있으며 `연산이 빠른 장점`  \n",
    "> - 다른 차원간 연산인 `브로드캐스팅 연산` 지원  \n",
    "> - array 또한 `numpy 기본 함수`로서 생성 가능\n",
    "\n",
    "---\n",
    "\n",
    "- **사용법:**\n",
    "\n",
    "| **방법** \t| **설명** \t|\n",
    "|:---:|:---|\n",
    "| **`np.array(배열변환 대상 데이터)`** \t| 리스트와 같은 시퀀스 데이터를 Array로 변환 \t|\n",
    "| **`np.arange(start, end, step_forward)`**  \t| 시작이상 끝미만 동일 간격의 Array 데이터 생성 \t|\n",
    "| **`np.linspace(start, end, number)`**   \t| 시작부터 끝까지 일정 간격을 가진 특정 갯수의 Array 데이터 생성 \t|"
   ]
  },
  {
   "cell_type": "code",
   "execution_count": 16,
   "metadata": {
    "ExecuteTime": {
     "end_time": "2022-07-21T16:16:06.715901Z",
     "start_time": "2022-07-21T16:16:06.704905Z"
    },
    "execution": {
     "iopub.execute_input": "2023-09-05T04:56:53.968189Z",
     "iopub.status.busy": "2023-09-05T04:56:53.967189Z",
     "iopub.status.idle": "2023-09-05T04:56:53.972519Z",
     "shell.execute_reply": "2023-09-05T04:56:53.971511Z",
     "shell.execute_reply.started": "2023-09-05T04:56:53.968189Z"
    },
    "slideshow": {
     "slide_type": "subslide"
    }
   },
   "outputs": [],
   "source": [
    "# 기존 리스트 데이터 구조를 array로 변환\n",
    "test_list = [1,2,3,4]\n",
    "test_array = np.array(test_list)"
   ]
  },
  {
   "cell_type": "code",
   "execution_count": 17,
   "metadata": {
    "ExecuteTime": {
     "end_time": "2022-07-21T16:16:06.730905Z",
     "start_time": "2022-07-21T16:16:06.716903Z"
    },
    "execution": {
     "iopub.execute_input": "2023-09-05T04:56:53.973522Z",
     "iopub.status.busy": "2023-09-05T04:56:53.972519Z",
     "iopub.status.idle": "2023-09-05T04:56:53.978907Z",
     "shell.execute_reply": "2023-09-05T04:56:53.978907Z",
     "shell.execute_reply.started": "2023-09-05T04:56:53.973522Z"
    }
   },
   "outputs": [
    {
     "data": {
      "text/plain": [
       "array([1, 2, 3, 4])"
      ]
     },
     "execution_count": 17,
     "metadata": {},
     "output_type": "execute_result"
    }
   ],
   "source": [
    "# array 생성 확인\n",
    "test_array"
   ]
  },
  {
   "cell_type": "code",
   "execution_count": 18,
   "metadata": {
    "ExecuteTime": {
     "end_time": "2022-07-21T16:16:06.745901Z",
     "start_time": "2022-07-21T16:16:06.733908Z"
    },
    "execution": {
     "iopub.execute_input": "2023-09-05T04:56:53.980912Z",
     "iopub.status.busy": "2023-09-05T04:56:53.979912Z",
     "iopub.status.idle": "2023-09-05T04:56:53.985233Z",
     "shell.execute_reply": "2023-09-05T04:56:53.984228Z",
     "shell.execute_reply.started": "2023-09-05T04:56:53.980912Z"
    }
   },
   "outputs": [],
   "source": [
    "# 같은 타입의 데이터만 들어가는지 확인\n",
    "# 다른 type들이 포함되면 가장 큰 범주의 데이터타입으로 저장\n",
    "test_list = [1, 2, 3.14]"
   ]
  },
  {
   "cell_type": "code",
   "execution_count": 19,
   "metadata": {
    "ExecuteTime": {
     "end_time": "2022-07-21T16:16:06.760904Z",
     "start_time": "2022-07-21T16:16:06.747903Z"
    },
    "execution": {
     "iopub.execute_input": "2023-09-05T04:56:53.986241Z",
     "iopub.status.busy": "2023-09-05T04:56:53.986241Z",
     "iopub.status.idle": "2023-09-05T04:56:53.992043Z",
     "shell.execute_reply": "2023-09-05T04:56:53.992043Z",
     "shell.execute_reply.started": "2023-09-05T04:56:53.986241Z"
    }
   },
   "outputs": [
    {
     "data": {
      "text/plain": [
       "array([1.  , 2.  , 3.14])"
      ]
     },
     "execution_count": 19,
     "metadata": {},
     "output_type": "execute_result"
    }
   ],
   "source": [
    "np.array(test_list)"
   ]
  },
  {
   "cell_type": "code",
   "execution_count": 20,
   "metadata": {
    "ExecuteTime": {
     "end_time": "2022-07-21T16:16:06.776901Z",
     "start_time": "2022-07-21T16:16:06.762905Z"
    },
    "execution": {
     "iopub.execute_input": "2023-09-05T04:56:53.994050Z",
     "iopub.status.busy": "2023-09-05T04:56:53.993050Z",
     "iopub.status.idle": "2023-09-05T04:56:53.998715Z",
     "shell.execute_reply": "2023-09-05T04:56:53.998715Z",
     "shell.execute_reply.started": "2023-09-05T04:56:53.994050Z"
    },
    "slideshow": {
     "slide_type": "subslide"
    }
   },
   "outputs": [
    {
     "data": {
      "text/plain": [
       "array([ 1,  2,  3,  4,  5,  6,  7,  8,  9, 10])"
      ]
     },
     "execution_count": 20,
     "metadata": {},
     "output_type": "execute_result"
    }
   ],
   "source": [
    "# np.arange 함수로 생성\n",
    "np.arange(1, 11)"
   ]
  },
  {
   "cell_type": "code",
   "execution_count": 21,
   "metadata": {
    "ExecuteTime": {
     "end_time": "2022-07-21T16:16:06.792904Z",
     "start_time": "2022-07-21T16:16:06.778903Z"
    },
    "execution": {
     "iopub.execute_input": "2023-09-05T04:56:54.000723Z",
     "iopub.status.busy": "2023-09-05T04:56:53.999723Z",
     "iopub.status.idle": "2023-09-05T04:56:54.005186Z",
     "shell.execute_reply": "2023-09-05T04:56:54.005186Z",
     "shell.execute_reply.started": "2023-09-05T04:56:54.000723Z"
    }
   },
   "outputs": [
    {
     "data": {
      "text/plain": [
       "array([ 1, 11, 21, 31, 41, 51, 61, 71, 81, 91])"
      ]
     },
     "execution_count": 21,
     "metadata": {},
     "output_type": "execute_result"
    }
   ],
   "source": [
    "# 범위설정\n",
    "# (시작포인트, 마지막포인트 + 1, 스텝)\n",
    "# range() 함수와 동일하게 작동함\n",
    "# for i in range(1, 100, 10):\n",
    "#     print(i)\n",
    "np.arange(1, 100, 10)"
   ]
  },
  {
   "cell_type": "code",
   "execution_count": 22,
   "metadata": {
    "ExecuteTime": {
     "end_time": "2022-07-21T16:16:06.807903Z",
     "start_time": "2022-07-21T16:16:06.795909Z"
    },
    "execution": {
     "iopub.execute_input": "2023-09-05T04:56:54.007195Z",
     "iopub.status.busy": "2023-09-05T04:56:54.006195Z",
     "iopub.status.idle": "2023-09-05T04:56:54.013938Z",
     "shell.execute_reply": "2023-09-05T04:56:54.012927Z",
     "shell.execute_reply.started": "2023-09-05T04:56:54.007195Z"
    },
    "scrolled": true
   },
   "outputs": [
    {
     "data": {
      "text/plain": [
       "array([ 0.        ,  0.20408163,  0.40816327,  0.6122449 ,  0.81632653,\n",
       "        1.02040816,  1.2244898 ,  1.42857143,  1.63265306,  1.83673469,\n",
       "        2.04081633,  2.24489796,  2.44897959,  2.65306122,  2.85714286,\n",
       "        3.06122449,  3.26530612,  3.46938776,  3.67346939,  3.87755102,\n",
       "        4.08163265,  4.28571429,  4.48979592,  4.69387755,  4.89795918,\n",
       "        5.10204082,  5.30612245,  5.51020408,  5.71428571,  5.91836735,\n",
       "        6.12244898,  6.32653061,  6.53061224,  6.73469388,  6.93877551,\n",
       "        7.14285714,  7.34693878,  7.55102041,  7.75510204,  7.95918367,\n",
       "        8.16326531,  8.36734694,  8.57142857,  8.7755102 ,  8.97959184,\n",
       "        9.18367347,  9.3877551 ,  9.59183673,  9.79591837, 10.        ])"
      ]
     },
     "execution_count": 22,
     "metadata": {},
     "output_type": "execute_result"
    }
   ],
   "source": [
    "# 범위 데이터 생성 (시작포인트, 마지막포인트, 데이터갯수)\n",
    "np.linspace(0, 10, 50)"
   ]
  },
  {
   "cell_type": "markdown",
   "metadata": {},
   "source": [
    "- `특수한 형태`의 array도 numpy로 생성 가능\n",
    "- 입력 데이터는 `정수, 리스트, 튜플만 입력` 가능\n",
    "- **ndarray:** `n-dimensional array`\n",
    "\n",
    "| **함수** | **내용** |\n",
    "|:---:|:---|\n",
    "| **np.array(데이터)** | 입력된 데이터를 ndarray로 변환. dtype을 명시하면 자료형을 설정할 수 있다 |\n",
    "| **np.asarray(데이터)** | 입력 데이터를 ndarray로 변환하나 이미 ndarray일 경우에는 새로 메모리에 ndarray가 생성되지는 않는다 |\n",
    "| **np.arange(데이터)** | range 함수와 유사하나 ndarray를 반환 |\n",
    "| **np.ones(데이터)** | 전달인자로 전달한 dtype과 모양(행,렬)으로 배열을 생성하고 모든 내용을 1로 초기화하여 ndarray를 반환 |\n",
    "| **np.zeros(데이터)** | ones와 같으나 초기값이 0이다 |\n",
    "| **np.empty(데이터)** | ones와 zeros와 비슷하나 값을 초기화하지는 않는다 |\n"
   ]
  },
  {
   "cell_type": "code",
   "execution_count": 23,
   "metadata": {
    "ExecuteTime": {
     "end_time": "2022-07-21T16:16:06.822903Z",
     "start_time": "2022-07-21T16:16:06.809903Z"
    },
    "execution": {
     "iopub.execute_input": "2023-09-05T04:56:54.015935Z",
     "iopub.status.busy": "2023-09-05T04:56:54.014946Z",
     "iopub.status.idle": "2023-09-05T04:56:54.020255Z",
     "shell.execute_reply": "2023-09-05T04:56:54.020255Z",
     "shell.execute_reply.started": "2023-09-05T04:56:54.015935Z"
    }
   },
   "outputs": [
    {
     "data": {
      "text/plain": [
       "array([1, 2, 3])"
      ]
     },
     "execution_count": 23,
     "metadata": {},
     "output_type": "execute_result"
    }
   ],
   "source": [
    "# 벡터 생성\n",
    "import numpy as np\n",
    "\n",
    "a1d = np.array([1,2,3])\n",
    "a1d"
   ]
  },
  {
   "cell_type": "code",
   "execution_count": 24,
   "metadata": {
    "ExecuteTime": {
     "end_time": "2022-07-21T16:16:06.838902Z",
     "start_time": "2022-07-21T16:16:06.824904Z"
    },
    "execution": {
     "iopub.execute_input": "2023-09-05T04:56:54.021265Z",
     "iopub.status.busy": "2023-09-05T04:56:54.021265Z",
     "iopub.status.idle": "2023-09-05T04:56:54.026619Z",
     "shell.execute_reply": "2023-09-05T04:56:54.026619Z",
     "shell.execute_reply.started": "2023-09-05T04:56:54.021265Z"
    }
   },
   "outputs": [
    {
     "data": {
      "text/plain": [
       "numpy.ndarray"
      ]
     },
     "execution_count": 24,
     "metadata": {},
     "output_type": "execute_result"
    }
   ],
   "source": [
    "# 배열 형태 확인\n",
    "type(a1d)"
   ]
  },
  {
   "cell_type": "code",
   "execution_count": 25,
   "metadata": {
    "ExecuteTime": {
     "end_time": "2022-07-21T16:16:06.853903Z",
     "start_time": "2022-07-21T16:16:06.840904Z"
    },
    "execution": {
     "iopub.execute_input": "2023-09-05T04:56:54.028629Z",
     "iopub.status.busy": "2023-09-05T04:56:54.027631Z",
     "iopub.status.idle": "2023-09-05T04:56:54.033527Z",
     "shell.execute_reply": "2023-09-05T04:56:54.033527Z",
     "shell.execute_reply.started": "2023-09-05T04:56:54.028629Z"
    }
   },
   "outputs": [
    {
     "data": {
      "text/plain": [
       "dtype('int32')"
      ]
     },
     "execution_count": 25,
     "metadata": {},
     "output_type": "execute_result"
    }
   ],
   "source": [
    "# 배열 내부 값들의 형태 확인\n",
    "a1d.dtype"
   ]
  },
  {
   "cell_type": "code",
   "execution_count": 26,
   "metadata": {
    "ExecuteTime": {
     "end_time": "2022-07-21T16:16:06.870906Z",
     "start_time": "2022-07-21T16:16:06.859903Z"
    },
    "execution": {
     "iopub.execute_input": "2023-09-05T04:56:54.034533Z",
     "iopub.status.busy": "2023-09-05T04:56:54.034533Z",
     "iopub.status.idle": "2023-09-05T04:56:54.040660Z",
     "shell.execute_reply": "2023-09-05T04:56:54.040660Z",
     "shell.execute_reply.started": "2023-09-05T04:56:54.034533Z"
    }
   },
   "outputs": [
    {
     "data": {
      "text/plain": [
       "array([[1, 2, 3],\n",
       "       [4, 5, 6]])"
      ]
     },
     "execution_count": 26,
     "metadata": {},
     "output_type": "execute_result"
    }
   ],
   "source": [
    "# 2차원 배열(행렬) 생성\n",
    "b2d = np.array([[1,2,3], [4,5,6]]) # 각 배열의 길이는 동일해야 함\n",
    "b2d"
   ]
  },
  {
   "cell_type": "code",
   "execution_count": 27,
   "metadata": {
    "ExecuteTime": {
     "end_time": "2022-07-21T16:16:06.885902Z",
     "start_time": "2022-07-21T16:16:06.874904Z"
    },
    "execution": {
     "iopub.execute_input": "2023-09-05T04:56:54.042671Z",
     "iopub.status.busy": "2023-09-05T04:56:54.041670Z",
     "iopub.status.idle": "2023-09-05T04:56:54.048690Z",
     "shell.execute_reply": "2023-09-05T04:56:54.047679Z",
     "shell.execute_reply.started": "2023-09-05T04:56:54.042671Z"
    }
   },
   "outputs": [
    {
     "data": {
      "text/plain": [
       "numpy.ndarray"
      ]
     },
     "execution_count": 27,
     "metadata": {},
     "output_type": "execute_result"
    }
   ],
   "source": [
    "# 배열 형태 확인\n",
    "type(b2d)"
   ]
  },
  {
   "cell_type": "code",
   "execution_count": 28,
   "metadata": {
    "ExecuteTime": {
     "end_time": "2022-07-21T16:16:06.917902Z",
     "start_time": "2022-07-21T16:16:06.892904Z"
    },
    "execution": {
     "iopub.execute_input": "2023-09-05T04:56:54.052688Z",
     "iopub.status.busy": "2023-09-05T04:56:54.052688Z",
     "iopub.status.idle": "2023-09-05T04:56:54.058667Z",
     "shell.execute_reply": "2023-09-05T04:56:54.057656Z",
     "shell.execute_reply.started": "2023-09-05T04:56:54.052688Z"
    }
   },
   "outputs": [
    {
     "data": {
      "text/plain": [
       "(2, 3)"
      ]
     },
     "execution_count": 28,
     "metadata": {},
     "output_type": "execute_result"
    }
   ],
   "source": [
    "# 구조 확인\n",
    "b2d.shape"
   ]
  },
  {
   "cell_type": "code",
   "execution_count": 29,
   "metadata": {
    "ExecuteTime": {
     "end_time": "2022-07-21T16:16:06.932904Z",
     "start_time": "2022-07-21T16:16:06.919904Z"
    },
    "execution": {
     "iopub.execute_input": "2023-09-05T04:56:54.059668Z",
     "iopub.status.busy": "2023-09-05T04:56:54.058667Z",
     "iopub.status.idle": "2023-09-05T04:56:54.065212Z",
     "shell.execute_reply": "2023-09-05T04:56:54.065212Z",
     "shell.execute_reply.started": "2023-09-05T04:56:54.059668Z"
    }
   },
   "outputs": [
    {
     "data": {
      "text/plain": [
       "array([[[1, 2, 3],\n",
       "        [4, 5, 6]]])"
      ]
     },
     "execution_count": 29,
     "metadata": {},
     "output_type": "execute_result"
    }
   ],
   "source": [
    "c3d = np.array([[[1,2,3], [4,5,6]]])\n",
    "c3d"
   ]
  },
  {
   "cell_type": "code",
   "execution_count": 30,
   "metadata": {
    "ExecuteTime": {
     "end_time": "2022-07-21T16:16:06.948902Z",
     "start_time": "2022-07-21T16:16:06.935904Z"
    },
    "execution": {
     "iopub.execute_input": "2023-09-05T04:56:54.067223Z",
     "iopub.status.busy": "2023-09-05T04:56:54.066223Z",
     "iopub.status.idle": "2023-09-05T04:56:54.070509Z",
     "shell.execute_reply": "2023-09-05T04:56:54.070509Z",
     "shell.execute_reply.started": "2023-09-05T04:56:54.067223Z"
    }
   },
   "outputs": [
    {
     "data": {
      "text/plain": [
       "(1, 2, 3)"
      ]
     },
     "execution_count": 30,
     "metadata": {},
     "output_type": "execute_result"
    }
   ],
   "source": [
    "# 구조 확인\n",
    "c3d.shape"
   ]
  },
  {
   "cell_type": "code",
   "execution_count": 31,
   "metadata": {
    "ExecuteTime": {
     "end_time": "2022-07-21T16:16:06.963901Z",
     "start_time": "2022-07-21T16:16:06.949902Z"
    },
    "execution": {
     "iopub.execute_input": "2023-09-05T04:56:54.072519Z",
     "iopub.status.busy": "2023-09-05T04:56:54.072519Z",
     "iopub.status.idle": "2023-09-05T04:56:54.077330Z",
     "shell.execute_reply": "2023-09-05T04:56:54.077330Z",
     "shell.execute_reply.started": "2023-09-05T04:56:54.072519Z"
    }
   },
   "outputs": [
    {
     "data": {
      "text/plain": [
       "array([[[ 1,  2,  3],\n",
       "        [ 4,  5,  6]],\n",
       "\n",
       "       [[10, 20, 30],\n",
       "        [40, 50, 60]]])"
      ]
     },
     "execution_count": 31,
     "metadata": {},
     "output_type": "execute_result"
    }
   ],
   "source": [
    "c3d = np.array([[[1,2,3], [4,5,6]],\n",
    "                [[10,20,30], [40,50,60]]])\n",
    "c3d"
   ]
  },
  {
   "cell_type": "code",
   "execution_count": 32,
   "metadata": {
    "ExecuteTime": {
     "end_time": "2022-07-21T16:16:06.978902Z",
     "start_time": "2022-07-21T16:16:06.964903Z"
    },
    "execution": {
     "iopub.execute_input": "2023-09-05T04:56:54.078347Z",
     "iopub.status.busy": "2023-09-05T04:56:54.078347Z",
     "iopub.status.idle": "2023-09-05T04:56:54.084812Z",
     "shell.execute_reply": "2023-09-05T04:56:54.083804Z",
     "shell.execute_reply.started": "2023-09-05T04:56:54.078347Z"
    }
   },
   "outputs": [
    {
     "data": {
      "text/plain": [
       "(2, 2, 3)"
      ]
     },
     "execution_count": 32,
     "metadata": {},
     "output_type": "execute_result"
    }
   ],
   "source": [
    "# 구조 확인\n",
    "c3d.shape"
   ]
  },
  {
   "cell_type": "code",
   "execution_count": 33,
   "metadata": {
    "ExecuteTime": {
     "end_time": "2022-07-21T16:16:06.993905Z",
     "start_time": "2022-07-21T16:16:06.979904Z"
    },
    "execution": {
     "iopub.execute_input": "2023-09-05T04:56:54.085814Z",
     "iopub.status.busy": "2023-09-05T04:56:54.084812Z",
     "iopub.status.idle": "2023-09-05T04:56:54.090497Z",
     "shell.execute_reply": "2023-09-05T04:56:54.090497Z",
     "shell.execute_reply.started": "2023-09-05T04:56:54.085814Z"
    }
   },
   "outputs": [
    {
     "data": {
      "text/plain": [
       "(2, 2, 3)"
      ]
     },
     "execution_count": 33,
     "metadata": {},
     "output_type": "execute_result"
    }
   ],
   "source": [
    "# 함수 사용해서 구조(모양)확인\n",
    "np.shape(c3d)"
   ]
  },
  {
   "cell_type": "code",
   "execution_count": 34,
   "metadata": {
    "ExecuteTime": {
     "end_time": "2022-07-21T16:16:07.008902Z",
     "start_time": "2022-07-21T16:16:06.995904Z"
    },
    "execution": {
     "iopub.execute_input": "2023-09-05T04:56:54.092506Z",
     "iopub.status.busy": "2023-09-05T04:56:54.091506Z",
     "iopub.status.idle": "2023-09-05T04:56:54.098818Z",
     "shell.execute_reply": "2023-09-05T04:56:54.097808Z",
     "shell.execute_reply.started": "2023-09-05T04:56:54.092506Z"
    }
   },
   "outputs": [
    {
     "data": {
      "text/plain": [
       "12"
      ]
     },
     "execution_count": 34,
     "metadata": {},
     "output_type": "execute_result"
    }
   ],
   "source": [
    "# 고유값 확인\n",
    "# len 씌워주시면 고유값 갯수까지\n",
    "len(np.unique(c3d))"
   ]
  },
  {
   "cell_type": "code",
   "execution_count": 35,
   "metadata": {
    "ExecuteTime": {
     "end_time": "2022-07-21T16:16:07.023903Z",
     "start_time": "2022-07-21T16:16:07.009903Z"
    },
    "execution": {
     "iopub.execute_input": "2023-09-05T04:56:54.099820Z",
     "iopub.status.busy": "2023-09-05T04:56:54.098818Z",
     "iopub.status.idle": "2023-09-05T04:56:54.105639Z",
     "shell.execute_reply": "2023-09-05T04:56:54.104629Z",
     "shell.execute_reply.started": "2023-09-05T04:56:54.099820Z"
    }
   },
   "outputs": [
    {
     "data": {
      "text/plain": [
       "list"
      ]
     },
     "execution_count": 35,
     "metadata": {},
     "output_type": "execute_result"
    }
   ],
   "source": [
    "# 타입변환\n",
    "test = [10,20,30]\n",
    "type(test)"
   ]
  },
  {
   "cell_type": "code",
   "execution_count": 36,
   "metadata": {
    "ExecuteTime": {
     "end_time": "2022-07-21T16:16:07.039905Z",
     "start_time": "2022-07-21T16:16:07.025907Z"
    },
    "execution": {
     "iopub.execute_input": "2023-09-05T04:56:54.106640Z",
     "iopub.status.busy": "2023-09-05T04:56:54.105639Z",
     "iopub.status.idle": "2023-09-05T04:56:54.110629Z",
     "shell.execute_reply": "2023-09-05T04:56:54.110629Z",
     "shell.execute_reply.started": "2023-09-05T04:56:54.106640Z"
    }
   },
   "outputs": [
    {
     "data": {
      "text/plain": [
       "numpy.ndarray"
      ]
     },
     "execution_count": 36,
     "metadata": {},
     "output_type": "execute_result"
    }
   ],
   "source": [
    "test2 = np.asarray(test)\n",
    "type(test2)"
   ]
  },
  {
   "cell_type": "code",
   "execution_count": 37,
   "metadata": {
    "ExecuteTime": {
     "end_time": "2022-07-21T16:16:07.054902Z",
     "start_time": "2022-07-21T16:16:07.041903Z"
    },
    "execution": {
     "iopub.execute_input": "2023-09-05T04:56:54.112639Z",
     "iopub.status.busy": "2023-09-05T04:56:54.111642Z",
     "iopub.status.idle": "2023-09-05T04:56:54.118307Z",
     "shell.execute_reply": "2023-09-05T04:56:54.117296Z",
     "shell.execute_reply.started": "2023-09-05T04:56:54.112639Z"
    }
   },
   "outputs": [
    {
     "name": "stdout",
     "output_type": "stream",
     "text": [
      "[10, 20, 30] [10 20 30]\n"
     ]
    }
   ],
   "source": [
    "print(test, test2)"
   ]
  },
  {
   "cell_type": "code",
   "execution_count": 38,
   "metadata": {
    "ExecuteTime": {
     "end_time": "2022-07-21T16:16:07.070905Z",
     "start_time": "2022-07-21T16:16:07.055904Z"
    },
    "execution": {
     "iopub.execute_input": "2023-09-05T04:56:54.120307Z",
     "iopub.status.busy": "2023-09-05T04:56:54.119310Z",
     "iopub.status.idle": "2023-09-05T04:56:54.126393Z",
     "shell.execute_reply": "2023-09-05T04:56:54.125384Z",
     "shell.execute_reply.started": "2023-09-05T04:56:54.120307Z"
    }
   },
   "outputs": [
    {
     "data": {
      "text/plain": [
       "array([ 1,  2,  3,  4,  5,  6,  7,  8,  9, 10, 11, 12, 13, 14, 15, 16, 17,\n",
       "       18, 19])"
      ]
     },
     "execution_count": 38,
     "metadata": {},
     "output_type": "execute_result"
    }
   ],
   "source": [
    "# 연속적인 시퀀스(Sequence) 배열 생성\n",
    "np.arange(1,20)"
   ]
  },
  {
   "cell_type": "code",
   "execution_count": 39,
   "metadata": {
    "ExecuteTime": {
     "end_time": "2022-07-21T16:16:07.086904Z",
     "start_time": "2022-07-21T16:16:07.072904Z"
    },
    "execution": {
     "iopub.execute_input": "2023-09-05T04:56:54.127392Z",
     "iopub.status.busy": "2023-09-05T04:56:54.127392Z",
     "iopub.status.idle": "2023-09-05T04:56:54.134609Z",
     "shell.execute_reply": "2023-09-05T04:56:54.133605Z",
     "shell.execute_reply.started": "2023-09-05T04:56:54.127392Z"
    }
   },
   "outputs": [
    {
     "data": {
      "text/plain": [
       "array([[0., 0., 0.],\n",
       "       [0., 0., 0.],\n",
       "       [0., 0., 0.]])"
      ]
     },
     "execution_count": 39,
     "metadata": {},
     "output_type": "execute_result"
    }
   ],
   "source": [
    "# 0인 값만 보유한 행렬 생성\n",
    "a2d = np.zeros((3,3))\n",
    "a2d"
   ]
  },
  {
   "cell_type": "code",
   "execution_count": 40,
   "metadata": {
    "ExecuteTime": {
     "end_time": "2022-07-21T16:16:07.102903Z",
     "start_time": "2022-07-21T16:16:07.088903Z"
    },
    "execution": {
     "iopub.execute_input": "2023-09-05T04:56:54.135612Z",
     "iopub.status.busy": "2023-09-05T04:56:54.135612Z",
     "iopub.status.idle": "2023-09-05T04:56:54.140890Z",
     "shell.execute_reply": "2023-09-05T04:56:54.140890Z",
     "shell.execute_reply.started": "2023-09-05T04:56:54.135612Z"
    }
   },
   "outputs": [
    {
     "data": {
      "text/plain": [
       "array([[1., 1., 1.],\n",
       "       [1., 1., 1.]])"
      ]
     },
     "execution_count": 40,
     "metadata": {},
     "output_type": "execute_result"
    }
   ],
   "source": [
    "# 1인 값만 보유한 행렬 생성\n",
    "b2d = np.ones((2,3))\n",
    "b2d"
   ]
  },
  {
   "cell_type": "code",
   "execution_count": 41,
   "metadata": {
    "ExecuteTime": {
     "end_time": "2022-07-21T16:16:07.117903Z",
     "start_time": "2022-07-21T16:16:07.104904Z"
    },
    "execution": {
     "iopub.execute_input": "2023-09-05T04:56:54.142895Z",
     "iopub.status.busy": "2023-09-05T04:56:54.141895Z",
     "iopub.status.idle": "2023-09-05T04:56:54.148050Z",
     "shell.execute_reply": "2023-09-05T04:56:54.148050Z",
     "shell.execute_reply.started": "2023-09-05T04:56:54.142895Z"
    }
   },
   "outputs": [
    {
     "data": {
      "text/plain": [
       "array([[7, 7, 7],\n",
       "       [7, 7, 7],\n",
       "       [7, 7, 7]])"
      ]
     },
     "execution_count": 41,
     "metadata": {},
     "output_type": "execute_result"
    }
   ],
   "source": [
    "# 특정 값만 보유한 행렬 생성\n",
    "c2d = np.full((3,3), 7)\n",
    "c2d"
   ]
  },
  {
   "cell_type": "code",
   "execution_count": 42,
   "metadata": {
    "ExecuteTime": {
     "end_time": "2022-07-21T16:16:07.132904Z",
     "start_time": "2022-07-21T16:16:07.118903Z"
    },
    "execution": {
     "iopub.execute_input": "2023-09-05T04:56:54.149057Z",
     "iopub.status.busy": "2023-09-05T04:56:54.149057Z",
     "iopub.status.idle": "2023-09-05T04:56:54.154408Z",
     "shell.execute_reply": "2023-09-05T04:56:54.154408Z",
     "shell.execute_reply.started": "2023-09-05T04:56:54.149057Z"
    }
   },
   "outputs": [
    {
     "data": {
      "text/plain": [
       "array([[1., 0., 0.],\n",
       "       [0., 1., 0.],\n",
       "       [0., 0., 1.]])"
      ]
     },
     "execution_count": 42,
     "metadata": {},
     "output_type": "execute_result"
    }
   ],
   "source": [
    "# 대각행렬이라고도 하는데 대각선으로 1인 값만 존재\n",
    "d2d = np.eye(3)\n",
    "d2d"
   ]
  },
  {
   "cell_type": "code",
   "execution_count": 43,
   "metadata": {
    "ExecuteTime": {
     "end_time": "2022-07-21T16:16:07.148904Z",
     "start_time": "2022-07-21T16:16:07.136911Z"
    },
    "execution": {
     "iopub.execute_input": "2023-09-05T04:56:54.155414Z",
     "iopub.status.busy": "2023-09-05T04:56:54.155414Z",
     "iopub.status.idle": "2023-09-05T04:56:54.161932Z",
     "shell.execute_reply": "2023-09-05T04:56:54.160927Z",
     "shell.execute_reply.started": "2023-09-05T04:56:54.155414Z"
    }
   },
   "outputs": [
    {
     "data": {
      "text/plain": [
       "array([[0.4844445 , 0.59104108],\n",
       "       [0.40957308, 0.91395635]])"
      ]
     },
     "execution_count": 43,
     "metadata": {},
     "output_type": "execute_result"
    }
   ],
   "source": [
    "# 임의의 값으로 행렬을 생성\n",
    "e2d = np.random.random((2,2))\n",
    "e2d"
   ]
  },
  {
   "cell_type": "code",
   "execution_count": 44,
   "metadata": {
    "ExecuteTime": {
     "end_time": "2022-07-21T16:16:07.163902Z",
     "start_time": "2022-07-21T16:16:07.150908Z"
    },
    "execution": {
     "iopub.execute_input": "2023-09-05T04:56:54.162931Z",
     "iopub.status.busy": "2023-09-05T04:56:54.161932Z",
     "iopub.status.idle": "2023-09-05T04:56:54.166786Z",
     "shell.execute_reply": "2023-09-05T04:56:54.166786Z",
     "shell.execute_reply.started": "2023-09-05T04:56:54.162931Z"
    }
   },
   "outputs": [
    {
     "data": {
      "text/plain": [
       "array([[-1, -1,  0,  0,  0],\n",
       "       [ 0,  0,  0,  0,  0],\n",
       "       [ 0,  0,  0,  0,  0],\n",
       "       [ 0,  0,  0,  0,  0]])"
      ]
     },
     "execution_count": 44,
     "metadata": {},
     "output_type": "execute_result"
    }
   ],
   "source": [
    "# 임의의 값으로 행렬을 생성하는데 값이 고정된 경우\n",
    "f2d = np.empty((4, 5), dtype=int)\n",
    "f2d"
   ]
  },
  {
   "cell_type": "code",
   "execution_count": 45,
   "metadata": {
    "ExecuteTime": {
     "end_time": "2022-07-21T16:16:07.179905Z",
     "start_time": "2022-07-21T16:16:07.165903Z"
    },
    "execution": {
     "iopub.execute_input": "2023-09-05T04:56:54.168791Z",
     "iopub.status.busy": "2023-09-05T04:56:54.167791Z",
     "iopub.status.idle": "2023-09-05T04:56:54.172805Z",
     "shell.execute_reply": "2023-09-05T04:56:54.172805Z",
     "shell.execute_reply.started": "2023-09-05T04:56:54.168791Z"
    }
   },
   "outputs": [
    {
     "data": {
      "text/plain": [
       "array([[0.23342838, 0.03053353],\n",
       "       [0.91921469, 0.6537649 ]])"
      ]
     },
     "execution_count": 45,
     "metadata": {},
     "output_type": "execute_result"
    }
   ],
   "source": [
    "# 세부 값의 type 변환\n",
    "np.array(np.random.random((2,2)), dtype=np.float64)"
   ]
  },
  {
   "cell_type": "code",
   "execution_count": 46,
   "metadata": {
    "ExecuteTime": {
     "end_time": "2022-07-21T16:16:07.195902Z",
     "start_time": "2022-07-21T16:16:07.181903Z"
    },
    "execution": {
     "iopub.execute_input": "2023-09-05T04:56:54.174811Z",
     "iopub.status.busy": "2023-09-05T04:56:54.173811Z",
     "iopub.status.idle": "2023-09-05T04:56:54.180226Z",
     "shell.execute_reply": "2023-09-05T04:56:54.179219Z",
     "shell.execute_reply.started": "2023-09-05T04:56:54.174811Z"
    }
   },
   "outputs": [
    {
     "data": {
      "text/plain": [
       "array([[0.05811427+0.j, 0.46628396+0.j],\n",
       "       [0.15337002+0.j, 0.44886857+0.j]])"
      ]
     },
     "execution_count": 46,
     "metadata": {},
     "output_type": "execute_result"
    }
   ],
   "source": [
    "# 세부 값의 type 변환\n",
    "np.array(np.random.random((2,2)), dtype=np.complex128)"
   ]
  },
  {
   "cell_type": "code",
   "execution_count": 47,
   "metadata": {
    "ExecuteTime": {
     "end_time": "2022-07-21T16:16:07.210902Z",
     "start_time": "2022-07-21T16:16:07.196904Z"
    },
    "execution": {
     "iopub.execute_input": "2023-09-05T04:56:54.181226Z",
     "iopub.status.busy": "2023-09-05T04:56:54.181226Z",
     "iopub.status.idle": "2023-09-05T04:56:54.187066Z",
     "shell.execute_reply": "2023-09-05T04:56:54.187066Z",
     "shell.execute_reply.started": "2023-09-05T04:56:54.181226Z"
    }
   },
   "outputs": [
    {
     "data": {
      "text/plain": [
       "array([[0, 0],\n",
       "       [0, 0]], dtype=int64)"
      ]
     },
     "execution_count": 47,
     "metadata": {},
     "output_type": "execute_result"
    }
   ],
   "source": [
    "# 세부 값의 type 변환\n",
    "np.array(np.random.random((2,2)), dtype=np.int64)"
   ]
  },
  {
   "cell_type": "code",
   "execution_count": 48,
   "metadata": {
    "ExecuteTime": {
     "end_time": "2022-07-21T16:16:07.225907Z",
     "start_time": "2022-07-21T16:16:07.212903Z"
    },
    "execution": {
     "iopub.execute_input": "2023-09-05T04:56:54.189074Z",
     "iopub.status.busy": "2023-09-05T04:56:54.189074Z",
     "iopub.status.idle": "2023-09-05T04:56:54.195159Z",
     "shell.execute_reply": "2023-09-05T04:56:54.194152Z",
     "shell.execute_reply.started": "2023-09-05T04:56:54.189074Z"
    }
   },
   "outputs": [
    {
     "data": {
      "text/plain": [
       "array([[ True,  True],\n",
       "       [ True,  True]])"
      ]
     },
     "execution_count": 48,
     "metadata": {},
     "output_type": "execute_result"
    }
   ],
   "source": [
    "# 세부 값의 type 변환\n",
    "np.array(np.random.random((2,2)), dtype=np.bool_)"
   ]
  },
  {
   "cell_type": "code",
   "execution_count": 49,
   "metadata": {
    "ExecuteTime": {
     "end_time": "2022-07-21T16:16:07.241902Z",
     "start_time": "2022-07-21T16:16:07.228904Z"
    },
    "execution": {
     "iopub.execute_input": "2023-09-05T04:56:54.196159Z",
     "iopub.status.busy": "2023-09-05T04:56:54.196159Z",
     "iopub.status.idle": "2023-09-05T04:56:54.201373Z",
     "shell.execute_reply": "2023-09-05T04:56:54.201373Z",
     "shell.execute_reply.started": "2023-09-05T04:56:54.196159Z"
    }
   },
   "outputs": [
    {
     "data": {
      "text/plain": [
       "array([[0.7149491542713817, 0.8892921488425269],\n",
       "       [0.6249352953379635, 0.42407075599889965]], dtype=object)"
      ]
     },
     "execution_count": 49,
     "metadata": {},
     "output_type": "execute_result"
    }
   ],
   "source": [
    "# 세부 값의 type 변환\n",
    "np.array(np.random.random((2,2)), dtype=object)"
   ]
  },
  {
   "cell_type": "markdown",
   "metadata": {},
   "source": [
    "### Array 값 다루기\n",
    "\n",
    "> **\"데이터 분석을 하다보면 데이터 `각각의 값들에 접근`해야 하는 경우 종종 발생\"**\n",
    "> - **인덱싱(Indexing):** 데이터 `값 하나하나`에 접근하는 방법으로 `인덱스는 값의 순번`\n",
    "> - **슬라이싱(Slicing):** 인덱싱과 유사하며 데이터의 `여러개의 값`에 접근하는 방법\n",
    ">> - `다차원 데이터`의 경우 배열의 `각 차원에 대해 슬라이싱` 사용\n",
    ">> - 슬라이싱으로 값을 선택하면 `결과의 차원은 원래의 차원보다 같거나 작음`\n"
   ]
  },
  {
   "cell_type": "code",
   "execution_count": 50,
   "metadata": {
    "ExecuteTime": {
     "end_time": "2022-07-21T16:16:07.256911Z",
     "start_time": "2022-07-21T16:16:07.243905Z"
    },
    "execution": {
     "iopub.execute_input": "2023-09-05T04:56:54.203379Z",
     "iopub.status.busy": "2023-09-05T04:56:54.202380Z",
     "iopub.status.idle": "2023-09-05T04:56:54.209287Z",
     "shell.execute_reply": "2023-09-05T04:56:54.208280Z",
     "shell.execute_reply.started": "2023-09-05T04:56:54.203379Z"
    }
   },
   "outputs": [
    {
     "data": {
      "text/plain": [
       "array([0, 1, 2, 3, 4, 5, 6, 7, 8, 9])"
      ]
     },
     "execution_count": 50,
     "metadata": {},
     "output_type": "execute_result"
    }
   ],
   "source": [
    "# 시퀀스 '백터' 생성\n",
    "a = np.arange(10)\n",
    "a"
   ]
  },
  {
   "cell_type": "code",
   "execution_count": 51,
   "metadata": {
    "ExecuteTime": {
     "end_time": "2022-07-21T16:16:07.271904Z",
     "start_time": "2022-07-21T16:16:07.259908Z"
    },
    "execution": {
     "iopub.execute_input": "2023-09-05T04:56:54.210289Z",
     "iopub.status.busy": "2023-09-05T04:56:54.209287Z",
     "iopub.status.idle": "2023-09-05T04:56:54.214407Z",
     "shell.execute_reply": "2023-09-05T04:56:54.214407Z",
     "shell.execute_reply.started": "2023-09-05T04:56:54.210289Z"
    }
   },
   "outputs": [
    {
     "data": {
      "text/plain": [
       "5"
      ]
     },
     "execution_count": 51,
     "metadata": {},
     "output_type": "execute_result"
    }
   ],
   "source": [
    "# 5번째 값을 반환(0부터 시작해서 5번째)\n",
    "a[5]"
   ]
  },
  {
   "cell_type": "code",
   "execution_count": 52,
   "metadata": {
    "ExecuteTime": {
     "end_time": "2022-07-21T16:16:07.286905Z",
     "start_time": "2022-07-21T16:16:07.273905Z"
    },
    "execution": {
     "iopub.execute_input": "2023-09-05T04:56:54.216414Z",
     "iopub.status.busy": "2023-09-05T04:56:54.215417Z",
     "iopub.status.idle": "2023-09-05T04:56:54.221305Z",
     "shell.execute_reply": "2023-09-05T04:56:54.221305Z",
     "shell.execute_reply.started": "2023-09-05T04:56:54.216414Z"
    }
   },
   "outputs": [
    {
     "data": {
      "text/plain": [
       "array([5, 6, 7])"
      ]
     },
     "execution_count": 52,
     "metadata": {},
     "output_type": "execute_result"
    }
   ],
   "source": [
    "# 변수[시작인덱스 이상:끝인덱스 미만:간격]\n",
    "a[5:8]"
   ]
  },
  {
   "cell_type": "code",
   "execution_count": 53,
   "metadata": {
    "ExecuteTime": {
     "end_time": "2022-07-21T16:16:07.302904Z",
     "start_time": "2022-07-21T16:16:07.289906Z"
    },
    "execution": {
     "iopub.execute_input": "2023-09-05T04:56:54.222310Z",
     "iopub.status.busy": "2023-09-05T04:56:54.222310Z",
     "iopub.status.idle": "2023-09-05T04:56:54.227943Z",
     "shell.execute_reply": "2023-09-05T04:56:54.226929Z",
     "shell.execute_reply.started": "2023-09-05T04:56:54.222310Z"
    }
   },
   "outputs": [
    {
     "data": {
      "text/plain": [
       "array([0, 1, 2, 3])"
      ]
     },
     "execution_count": 53,
     "metadata": {},
     "output_type": "execute_result"
    }
   ],
   "source": [
    "# 시작인덱스 생략시 처음부터 지정\n",
    "a[:4]"
   ]
  },
  {
   "cell_type": "code",
   "execution_count": 54,
   "metadata": {
    "ExecuteTime": {
     "end_time": "2022-07-21T16:16:07.317903Z",
     "start_time": "2022-07-21T16:16:07.304907Z"
    },
    "execution": {
     "iopub.execute_input": "2023-09-05T04:56:54.228938Z",
     "iopub.status.busy": "2023-09-05T04:56:54.228938Z",
     "iopub.status.idle": "2023-09-05T04:56:54.234285Z",
     "shell.execute_reply": "2023-09-05T04:56:54.234285Z",
     "shell.execute_reply.started": "2023-09-05T04:56:54.228938Z"
    }
   },
   "outputs": [
    {
     "data": {
      "text/plain": [
       "array([4, 5, 6, 7, 8, 9])"
      ]
     },
     "execution_count": 54,
     "metadata": {},
     "output_type": "execute_result"
    }
   ],
   "source": [
    "# 끝인덱스 생략시 마지막까지 지정\n",
    "a[4:]"
   ]
  },
  {
   "cell_type": "code",
   "execution_count": 55,
   "metadata": {
    "ExecuteTime": {
     "end_time": "2022-07-21T16:16:07.333902Z",
     "start_time": "2022-07-21T16:16:07.319905Z"
    },
    "execution": {
     "iopub.execute_input": "2023-09-05T04:56:54.236300Z",
     "iopub.status.busy": "2023-09-05T04:56:54.235304Z",
     "iopub.status.idle": "2023-09-05T04:56:54.241238Z",
     "shell.execute_reply": "2023-09-05T04:56:54.241238Z",
     "shell.execute_reply.started": "2023-09-05T04:56:54.236300Z"
    }
   },
   "outputs": [
    {
     "data": {
      "text/plain": [
       "array([0, 1, 2, 3, 4, 5, 6, 7, 8, 9])"
      ]
     },
     "execution_count": 55,
     "metadata": {},
     "output_type": "execute_result"
    }
   ],
   "source": [
    "# 시작인덱스와 끝인덱스 생략시 자동으로 처음과 마지막을 지정\n",
    "# 간격은 생략시 자동으로 1입력\n",
    "a[::1]"
   ]
  },
  {
   "cell_type": "code",
   "execution_count": 56,
   "metadata": {
    "ExecuteTime": {
     "end_time": "2022-07-21T16:16:07.348903Z",
     "start_time": "2022-07-21T16:16:07.334903Z"
    },
    "execution": {
     "iopub.execute_input": "2023-09-05T04:56:54.242245Z",
     "iopub.status.busy": "2023-09-05T04:56:54.242245Z",
     "iopub.status.idle": "2023-09-05T04:56:54.248344Z",
     "shell.execute_reply": "2023-09-05T04:56:54.247329Z",
     "shell.execute_reply.started": "2023-09-05T04:56:54.242245Z"
    }
   },
   "outputs": [
    {
     "data": {
      "text/plain": [
       "array([0, 3, 6, 9])"
      ]
     },
     "execution_count": 56,
     "metadata": {},
     "output_type": "execute_result"
    }
   ],
   "source": [
    "a[::3]"
   ]
  },
  {
   "cell_type": "code",
   "execution_count": 57,
   "metadata": {
    "ExecuteTime": {
     "end_time": "2022-07-21T16:16:07.363903Z",
     "start_time": "2022-07-21T16:16:07.349904Z"
    },
    "execution": {
     "iopub.execute_input": "2023-09-05T04:56:54.249339Z",
     "iopub.status.busy": "2023-09-05T04:56:54.249339Z",
     "iopub.status.idle": "2023-09-05T04:56:54.254205Z",
     "shell.execute_reply": "2023-09-05T04:56:54.254205Z",
     "shell.execute_reply.started": "2023-09-05T04:56:54.249339Z"
    }
   },
   "outputs": [
    {
     "data": {
      "text/plain": [
       "array([9, 6, 3, 0])"
      ]
     },
     "execution_count": 57,
     "metadata": {},
     "output_type": "execute_result"
    }
   ],
   "source": [
    "# 간격을 음수를 취하면 뒤에서부터 출발\n",
    "a[::-3]"
   ]
  },
  {
   "cell_type": "code",
   "execution_count": 58,
   "metadata": {
    "ExecuteTime": {
     "end_time": "2022-07-21T16:16:07.379901Z",
     "start_time": "2022-07-21T16:16:07.364904Z"
    },
    "execution": {
     "iopub.execute_input": "2023-09-05T04:56:54.255222Z",
     "iopub.status.busy": "2023-09-05T04:56:54.255222Z",
     "iopub.status.idle": "2023-09-05T04:56:54.261059Z",
     "shell.execute_reply": "2023-09-05T04:56:54.261059Z",
     "shell.execute_reply.started": "2023-09-05T04:56:54.255222Z"
    }
   },
   "outputs": [
    {
     "data": {
      "text/plain": [
       "array([6, 7, 8, 9])"
      ]
     },
     "execution_count": 58,
     "metadata": {},
     "output_type": "execute_result"
    }
   ],
   "source": [
    "# 시작인덱스가 음수이면 뒤에서부터 출발\n",
    "# a[0, 1, 2, 3]\n",
    "# a[-4, -3, -2, -1]\n",
    "a[-4:]"
   ]
  },
  {
   "cell_type": "code",
   "execution_count": 59,
   "metadata": {
    "ExecuteTime": {
     "end_time": "2022-07-21T16:16:07.394904Z",
     "start_time": "2022-07-21T16:16:07.380902Z"
    },
    "execution": {
     "iopub.execute_input": "2023-09-05T04:56:54.263068Z",
     "iopub.status.busy": "2023-09-05T04:56:54.262068Z",
     "iopub.status.idle": "2023-09-05T04:56:54.267983Z",
     "shell.execute_reply": "2023-09-05T04:56:54.267983Z",
     "shell.execute_reply.started": "2023-09-05T04:56:54.263068Z"
    }
   },
   "outputs": [
    {
     "data": {
      "text/plain": [
       "array([6, 8])"
      ]
     },
     "execution_count": 59,
     "metadata": {},
     "output_type": "execute_result"
    }
   ],
   "source": [
    "# 뒤에서 4번째 값부터 2간격으로\n",
    "a[-4::2]"
   ]
  },
  {
   "cell_type": "code",
   "execution_count": 60,
   "metadata": {
    "ExecuteTime": {
     "end_time": "2022-07-21T16:16:07.409901Z",
     "start_time": "2022-07-21T16:16:07.395905Z"
    },
    "execution": {
     "iopub.execute_input": "2023-09-05T04:56:54.269991Z",
     "iopub.status.busy": "2023-09-05T04:56:54.268992Z",
     "iopub.status.idle": "2023-09-05T04:56:54.277060Z",
     "shell.execute_reply": "2023-09-05T04:56:54.276054Z",
     "shell.execute_reply.started": "2023-09-05T04:56:54.269991Z"
    }
   },
   "outputs": [
    {
     "data": {
      "text/plain": [
       "array([[ 1,  2,  3,  4],\n",
       "       [ 5,  6,  7,  8],\n",
       "       [ 9, 10, 11, 12]])"
      ]
     },
     "execution_count": 60,
     "metadata": {},
     "output_type": "execute_result"
    }
   ],
   "source": [
    "a = np.array([[ 1,  2,  3,  4], [ 5,  6,  7,  8], [ 9, 10, 11, 12]])\n",
    "a"
   ]
  },
  {
   "cell_type": "code",
   "execution_count": 61,
   "metadata": {
    "ExecuteTime": {
     "end_time": "2022-07-21T16:16:07.424906Z",
     "start_time": "2022-07-21T16:16:07.410905Z"
    },
    "execution": {
     "iopub.execute_input": "2023-09-05T04:56:54.278061Z",
     "iopub.status.busy": "2023-09-05T04:56:54.277060Z",
     "iopub.status.idle": "2023-09-05T04:56:54.284168Z",
     "shell.execute_reply": "2023-09-05T04:56:54.283161Z",
     "shell.execute_reply.started": "2023-09-05T04:56:54.278061Z"
    }
   },
   "outputs": [
    {
     "data": {
      "text/plain": [
       "array([ 1,  2,  3,  4,  5,  6,  7,  8,  9, 10, 11, 12])"
      ]
     },
     "execution_count": 61,
     "metadata": {},
     "output_type": "execute_result"
    }
   ],
   "source": [
    "np.array(range(1,13))"
   ]
  },
  {
   "cell_type": "code",
   "execution_count": 62,
   "metadata": {
    "ExecuteTime": {
     "end_time": "2022-07-21T16:16:07.440903Z",
     "start_time": "2022-07-21T16:16:07.427906Z"
    },
    "execution": {
     "iopub.execute_input": "2023-09-05T04:56:54.285167Z",
     "iopub.status.busy": "2023-09-05T04:56:54.285167Z",
     "iopub.status.idle": "2023-09-05T04:56:54.291336Z",
     "shell.execute_reply": "2023-09-05T04:56:54.290326Z",
     "shell.execute_reply.started": "2023-09-05T04:56:54.285167Z"
    }
   },
   "outputs": [
    {
     "data": {
      "text/plain": [
       "array([[ 1,  2,  3,  4],\n",
       "       [ 5,  6,  7,  8],\n",
       "       [ 9, 10, 11, 12]])"
      ]
     },
     "execution_count": 62,
     "metadata": {},
     "output_type": "execute_result"
    }
   ],
   "source": [
    "# reshape을 사용해서 데이터 생성 가능\n",
    "a = np.array(range(1,13)).reshape(3,4)\n",
    "a"
   ]
  },
  {
   "cell_type": "code",
   "execution_count": 63,
   "metadata": {
    "ExecuteTime": {
     "end_time": "2022-07-21T16:16:07.455902Z",
     "start_time": "2022-07-21T16:16:07.442904Z"
    },
    "execution": {
     "iopub.execute_input": "2023-09-05T04:56:54.292338Z",
     "iopub.status.busy": "2023-09-05T04:56:54.292338Z",
     "iopub.status.idle": "2023-09-05T04:56:54.298948Z",
     "shell.execute_reply": "2023-09-05T04:56:54.297940Z",
     "shell.execute_reply.started": "2023-09-05T04:56:54.292338Z"
    }
   },
   "outputs": [
    {
     "data": {
      "text/plain": [
       "array([5, 6, 7, 8])"
      ]
     },
     "execution_count": 63,
     "metadata": {},
     "output_type": "execute_result"
    }
   ],
   "source": [
    "# 백터의 경우와 달리 행과 열 각각의 인덱싱 시행\n",
    "# 1번째 행과 전체 열 출력\n",
    "a[1,:]"
   ]
  },
  {
   "cell_type": "code",
   "execution_count": 64,
   "metadata": {
    "ExecuteTime": {
     "end_time": "2022-07-21T16:16:07.470903Z",
     "start_time": "2022-07-21T16:16:07.457904Z"
    },
    "execution": {
     "iopub.execute_input": "2023-09-05T04:56:54.299949Z",
     "iopub.status.busy": "2023-09-05T04:56:54.299949Z",
     "iopub.status.idle": "2023-09-05T04:56:54.305948Z",
     "shell.execute_reply": "2023-09-05T04:56:54.304939Z",
     "shell.execute_reply.started": "2023-09-05T04:56:54.299949Z"
    }
   },
   "outputs": [
    {
     "data": {
      "text/plain": [
       "array([[5, 6, 7, 8]])"
      ]
     },
     "execution_count": 64,
     "metadata": {},
     "output_type": "execute_result"
    }
   ],
   "source": [
    "# 1번째 이상 2번째 미만 행과 전체 열 출력\n",
    "a[1:2,:]"
   ]
  },
  {
   "cell_type": "code",
   "execution_count": 65,
   "metadata": {
    "ExecuteTime": {
     "end_time": "2022-07-21T16:16:07.485902Z",
     "start_time": "2022-07-21T16:16:07.472904Z"
    },
    "execution": {
     "iopub.execute_input": "2023-09-05T04:56:54.306950Z",
     "iopub.status.busy": "2023-09-05T04:56:54.306950Z",
     "iopub.status.idle": "2023-09-05T04:56:54.312099Z",
     "shell.execute_reply": "2023-09-05T04:56:54.312099Z",
     "shell.execute_reply.started": "2023-09-05T04:56:54.306950Z"
    }
   },
   "outputs": [
    {
     "data": {
      "text/plain": [
       "array([[ 5,  6,  7,  8],\n",
       "       [ 9, 10, 11, 12]])"
      ]
     },
     "execution_count": 65,
     "metadata": {},
     "output_type": "execute_result"
    }
   ],
   "source": [
    "# 1번째 이상 3번째 미만 행과 전체 열 출력\n",
    "a[1:3,:]"
   ]
  },
  {
   "cell_type": "code",
   "execution_count": 66,
   "metadata": {
    "ExecuteTime": {
     "end_time": "2022-07-21T16:16:07.501903Z",
     "start_time": "2022-07-21T16:16:07.487904Z"
    },
    "execution": {
     "iopub.execute_input": "2023-09-05T04:56:54.313109Z",
     "iopub.status.busy": "2023-09-05T04:56:54.313109Z",
     "iopub.status.idle": "2023-09-05T04:56:54.318613Z",
     "shell.execute_reply": "2023-09-05T04:56:54.317603Z",
     "shell.execute_reply.started": "2023-09-05T04:56:54.313109Z"
    }
   },
   "outputs": [
    {
     "data": {
      "text/plain": [
       "array([[ 2,  3],\n",
       "       [ 6,  7],\n",
       "       [10, 11]])"
      ]
     },
     "execution_count": 66,
     "metadata": {},
     "output_type": "execute_result"
    }
   ],
   "source": [
    "# 전체 행과 1번째 이상 3번째 미만 열 출력\n",
    "a[:,1:3]"
   ]
  },
  {
   "cell_type": "markdown",
   "metadata": {},
   "source": [
    "- **`정수` 배열 인덱싱(Int Array Indexing):**  배열의 `특정 위치에 있는 값`으로 구성할 수 있음\n",
    "- **`불리언` 배열 인덱싱(Boolean Array indexing):** 배열의 `특정 값만 선택`할 수 있으며, `일부 조건이 참인 경우의 값을 선택`하는데 사용"
   ]
  },
  {
   "cell_type": "code",
   "execution_count": 67,
   "metadata": {
    "ExecuteTime": {
     "end_time": "2022-07-21T16:16:07.516906Z",
     "start_time": "2022-07-21T16:16:07.503904Z"
    },
    "execution": {
     "iopub.execute_input": "2023-09-05T04:56:54.319614Z",
     "iopub.status.busy": "2023-09-05T04:56:54.319614Z",
     "iopub.status.idle": "2023-09-05T04:56:54.325764Z",
     "shell.execute_reply": "2023-09-05T04:56:54.324754Z",
     "shell.execute_reply.started": "2023-09-05T04:56:54.319614Z"
    }
   },
   "outputs": [
    {
     "data": {
      "text/plain": [
       "array([[1, 2],\n",
       "       [3, 4],\n",
       "       [5, 6]])"
      ]
     },
     "execution_count": 67,
     "metadata": {},
     "output_type": "execute_result"
    }
   ],
   "source": [
    "a = np.array([[1,2], [3, 4], [5, 6]])\n",
    "a"
   ]
  },
  {
   "cell_type": "code",
   "execution_count": 68,
   "metadata": {
    "ExecuteTime": {
     "end_time": "2022-07-21T16:16:07.532903Z",
     "start_time": "2022-07-21T16:16:07.517903Z"
    },
    "execution": {
     "iopub.execute_input": "2023-09-05T04:56:54.327766Z",
     "iopub.status.busy": "2023-09-05T04:56:54.326765Z",
     "iopub.status.idle": "2023-09-05T04:56:54.333226Z",
     "shell.execute_reply": "2023-09-05T04:56:54.333226Z",
     "shell.execute_reply.started": "2023-09-05T04:56:54.327766Z"
    }
   },
   "outputs": [
    {
     "data": {
      "text/plain": [
       "array([1, 4, 5])"
      ]
     },
     "execution_count": 68,
     "metadata": {},
     "output_type": "execute_result"
    }
   ],
   "source": [
    "# 인덱스를 직접 입력해서 값 출력 가능\n",
    "# (0,0), (1,1), (2,0) 값 출력\n",
    "np.array([a[0, 0], a[1, 1], a[2, 0]])"
   ]
  },
  {
   "cell_type": "code",
   "execution_count": 69,
   "metadata": {
    "ExecuteTime": {
     "end_time": "2022-07-21T16:16:07.547903Z",
     "start_time": "2022-07-21T16:16:07.534904Z"
    },
    "execution": {
     "iopub.execute_input": "2023-09-05T04:56:54.335233Z",
     "iopub.status.busy": "2023-09-05T04:56:54.334240Z",
     "iopub.status.idle": "2023-09-05T04:56:54.340283Z",
     "shell.execute_reply": "2023-09-05T04:56:54.340283Z",
     "shell.execute_reply.started": "2023-09-05T04:56:54.335233Z"
    }
   },
   "outputs": [
    {
     "data": {
      "text/plain": [
       "array([1, 4, 5])"
      ]
     },
     "execution_count": 69,
     "metadata": {},
     "output_type": "execute_result"
    }
   ],
   "source": [
    "# (0,1,2)번째 행에서 (0,1,0)번째 열의 값 출력\n",
    "a[[0, 1, 2], [0, 1, 0]]"
   ]
  },
  {
   "cell_type": "code",
   "execution_count": 70,
   "metadata": {
    "ExecuteTime": {
     "end_time": "2022-07-21T16:16:07.562903Z",
     "start_time": "2022-07-21T16:16:07.548903Z"
    },
    "execution": {
     "iopub.execute_input": "2023-09-05T04:56:54.342294Z",
     "iopub.status.busy": "2023-09-05T04:56:54.341294Z",
     "iopub.status.idle": "2023-09-05T04:56:54.349174Z",
     "shell.execute_reply": "2023-09-05T04:56:54.348165Z",
     "shell.execute_reply.started": "2023-09-05T04:56:54.342294Z"
    }
   },
   "outputs": [
    {
     "data": {
      "text/plain": [
       "array([[ 1,  2,  3],\n",
       "       [ 4,  5,  6],\n",
       "       [ 7,  8,  9],\n",
       "       [10, 11, 12]])"
      ]
     },
     "execution_count": 70,
     "metadata": {},
     "output_type": "execute_result"
    }
   ],
   "source": [
    "a = np.array([[1,2,3], [4,5,6], [7,8,9], [10, 11, 12]])\n",
    "a"
   ]
  },
  {
   "cell_type": "code",
   "execution_count": 71,
   "metadata": {
    "ExecuteTime": {
     "end_time": "2022-07-21T16:16:07.577903Z",
     "start_time": "2022-07-21T16:16:07.564903Z"
    },
    "execution": {
     "iopub.execute_input": "2023-09-05T04:56:54.350175Z",
     "iopub.status.busy": "2023-09-05T04:56:54.350175Z",
     "iopub.status.idle": "2023-09-05T04:56:54.356377Z",
     "shell.execute_reply": "2023-09-05T04:56:54.355366Z",
     "shell.execute_reply.started": "2023-09-05T04:56:54.350175Z"
    }
   },
   "outputs": [
    {
     "data": {
      "text/plain": [
       "array([0, 2, 0, 1])"
      ]
     },
     "execution_count": 71,
     "metadata": {},
     "output_type": "execute_result"
    }
   ],
   "source": [
    "b = np.array([0, 2, 0, 1])\n",
    "b"
   ]
  },
  {
   "cell_type": "code",
   "execution_count": 72,
   "metadata": {
    "ExecuteTime": {
     "end_time": "2022-07-21T16:16:07.592906Z",
     "start_time": "2022-07-21T16:16:07.578904Z"
    },
    "execution": {
     "iopub.execute_input": "2023-09-05T04:56:54.357376Z",
     "iopub.status.busy": "2023-09-05T04:56:54.357376Z",
     "iopub.status.idle": "2023-09-05T04:56:54.363746Z",
     "shell.execute_reply": "2023-09-05T04:56:54.362734Z",
     "shell.execute_reply.started": "2023-09-05T04:56:54.357376Z"
    }
   },
   "outputs": [
    {
     "data": {
      "text/plain": [
       "array([ 1,  6,  7, 11])"
      ]
     },
     "execution_count": 72,
     "metadata": {},
     "output_type": "execute_result"
    }
   ],
   "source": [
    "# 0~3까지의 행에서, b의 값위치 열값 추출\n",
    "a[np.arange(4), b]"
   ]
  },
  {
   "cell_type": "code",
   "execution_count": 73,
   "metadata": {
    "ExecuteTime": {
     "end_time": "2022-07-21T16:16:07.607902Z",
     "start_time": "2022-07-21T16:16:07.594905Z"
    },
    "execution": {
     "iopub.execute_input": "2023-09-05T04:56:54.364745Z",
     "iopub.status.busy": "2023-09-05T04:56:54.364745Z",
     "iopub.status.idle": "2023-09-05T04:56:54.371221Z",
     "shell.execute_reply": "2023-09-05T04:56:54.370211Z",
     "shell.execute_reply.started": "2023-09-05T04:56:54.364745Z"
    }
   },
   "outputs": [
    {
     "data": {
      "text/plain": [
       "array([11, 16, 17, 21])"
      ]
     },
     "execution_count": 73,
     "metadata": {},
     "output_type": "execute_result"
    }
   ],
   "source": [
    "# 0~3까지의 행에서, b의 값위치 열값에 모두 10을 더해 출력\n",
    "a[np.arange(4), b] + 10"
   ]
  },
  {
   "cell_type": "code",
   "execution_count": 74,
   "metadata": {
    "ExecuteTime": {
     "end_time": "2022-07-21T16:16:07.622903Z",
     "start_time": "2022-07-21T16:16:07.609904Z"
    },
    "execution": {
     "iopub.execute_input": "2023-09-05T04:56:54.372220Z",
     "iopub.status.busy": "2023-09-05T04:56:54.372220Z",
     "iopub.status.idle": "2023-09-05T04:56:54.377637Z",
     "shell.execute_reply": "2023-09-05T04:56:54.377637Z",
     "shell.execute_reply.started": "2023-09-05T04:56:54.372220Z"
    }
   },
   "outputs": [
    {
     "data": {
      "text/plain": [
       "array([[1, 2],\n",
       "       [3, 4],\n",
       "       [5, 6]])"
      ]
     },
     "execution_count": 74,
     "metadata": {},
     "output_type": "execute_result"
    }
   ],
   "source": [
    "a = np.array([[1,2], [3, 4], [5, 6]])\n",
    "a"
   ]
  },
  {
   "cell_type": "code",
   "execution_count": 75,
   "metadata": {
    "ExecuteTime": {
     "end_time": "2022-07-21T16:16:07.637903Z",
     "start_time": "2022-07-21T16:16:07.624906Z"
    },
    "execution": {
     "iopub.execute_input": "2023-09-05T04:56:54.378648Z",
     "iopub.status.busy": "2023-09-05T04:56:54.378648Z",
     "iopub.status.idle": "2023-09-05T04:56:54.383711Z",
     "shell.execute_reply": "2023-09-05T04:56:54.382704Z",
     "shell.execute_reply.started": "2023-09-05T04:56:54.378648Z"
    }
   },
   "outputs": [
    {
     "data": {
      "text/plain": [
       "array([[False, False],\n",
       "       [ True,  True],\n",
       "       [ True,  True]])"
      ]
     },
     "execution_count": 75,
     "metadata": {},
     "output_type": "execute_result"
    }
   ],
   "source": [
    "# 각 값들이 2보다 큰지 논리값 반환\n",
    "a>2"
   ]
  },
  {
   "cell_type": "code",
   "execution_count": 76,
   "metadata": {
    "ExecuteTime": {
     "end_time": "2022-07-21T16:16:07.652903Z",
     "start_time": "2022-07-21T16:16:07.640905Z"
    },
    "execution": {
     "iopub.execute_input": "2023-09-05T04:56:54.384711Z",
     "iopub.status.busy": "2023-09-05T04:56:54.383711Z",
     "iopub.status.idle": "2023-09-05T04:56:54.389694Z",
     "shell.execute_reply": "2023-09-05T04:56:54.389694Z",
     "shell.execute_reply.started": "2023-09-05T04:56:54.384711Z"
    }
   },
   "outputs": [
    {
     "data": {
      "text/plain": [
       "array([3, 4, 5, 6])"
      ]
     },
     "execution_count": 76,
     "metadata": {},
     "output_type": "execute_result"
    }
   ],
   "source": [
    "# 각 값들이 2보다 큰지 논리값에서 True인 위치의 행렬값 출력\n",
    "a[a>2]"
   ]
  },
  {
   "cell_type": "code",
   "execution_count": 77,
   "metadata": {
    "ExecuteTime": {
     "end_time": "2022-07-21T16:16:07.667904Z",
     "start_time": "2022-07-21T16:16:07.654906Z"
    },
    "execution": {
     "iopub.execute_input": "2023-09-05T04:56:54.391701Z",
     "iopub.status.busy": "2023-09-05T04:56:54.390703Z",
     "iopub.status.idle": "2023-09-05T04:56:54.398173Z",
     "shell.execute_reply": "2023-09-05T04:56:54.397153Z",
     "shell.execute_reply.started": "2023-09-05T04:56:54.391701Z"
    }
   },
   "outputs": [
    {
     "data": {
      "text/plain": [
       "array([0, 1, 2, 3, 4, 5, 6, 7, 8, 9])"
      ]
     },
     "execution_count": 77,
     "metadata": {},
     "output_type": "execute_result"
    }
   ],
   "source": [
    "a = np.arange(10)\n",
    "a"
   ]
  },
  {
   "cell_type": "code",
   "execution_count": 78,
   "metadata": {
    "ExecuteTime": {
     "end_time": "2022-07-21T16:16:07.682903Z",
     "start_time": "2022-07-21T16:16:07.668903Z"
    },
    "execution": {
     "iopub.execute_input": "2023-09-05T04:56:54.399174Z",
     "iopub.status.busy": "2023-09-05T04:56:54.399174Z",
     "iopub.status.idle": "2023-09-05T04:56:54.404365Z",
     "shell.execute_reply": "2023-09-05T04:56:54.404365Z",
     "shell.execute_reply.started": "2023-09-05T04:56:54.399174Z"
    }
   },
   "outputs": [
    {
     "data": {
      "text/plain": [
       "array([  0,   1,   2,   3,   4, 100, 100, 100,   8,   9])"
      ]
     },
     "execution_count": 78,
     "metadata": {},
     "output_type": "execute_result"
    }
   ],
   "source": [
    "# 5~7번째 값을 100으로 치환\n",
    "a[5:8] = 100\n",
    "a"
   ]
  },
  {
   "cell_type": "code",
   "execution_count": 79,
   "metadata": {
    "ExecuteTime": {
     "end_time": "2022-07-21T16:16:07.697903Z",
     "start_time": "2022-07-21T16:16:07.684904Z"
    },
    "execution": {
     "iopub.execute_input": "2023-09-05T04:56:54.406371Z",
     "iopub.status.busy": "2023-09-05T04:56:54.405379Z",
     "iopub.status.idle": "2023-09-05T04:56:54.412571Z",
     "shell.execute_reply": "2023-09-05T04:56:54.411565Z",
     "shell.execute_reply.started": "2023-09-05T04:56:54.406371Z"
    }
   },
   "outputs": [
    {
     "data": {
      "text/plain": [
       "[0, 1, 2, 3, 4, 5, 6, 7, 8, 9]"
      ]
     },
     "execution_count": 79,
     "metadata": {},
     "output_type": "execute_result"
    }
   ],
   "source": [
    "b = list(range(10))\n",
    "b"
   ]
  },
  {
   "cell_type": "code",
   "execution_count": 80,
   "metadata": {
    "ExecuteTime": {
     "end_time": "2022-07-21T16:16:07.712904Z",
     "start_time": "2022-07-21T16:16:07.708905Z"
    },
    "execution": {
     "iopub.execute_input": "2023-09-05T04:56:54.413572Z",
     "iopub.status.busy": "2023-09-05T04:56:54.413572Z",
     "iopub.status.idle": "2023-09-05T04:56:54.417473Z",
     "shell.execute_reply": "2023-09-05T04:56:54.416466Z",
     "shell.execute_reply.started": "2023-09-05T04:56:54.413572Z"
    }
   },
   "outputs": [],
   "source": [
    "# list에서는 동일하게 작동되지 않음\n",
    "# 바꾸려는 값의 갯수만큼 치환할 값을 할당해야 가능\n",
    "# b[5:8] = 100\n",
    "# b"
   ]
  },
  {
   "cell_type": "markdown",
   "metadata": {},
   "source": [
    "```python\n",
    "---------------------------------------------------------------------------\n",
    "TypeError                                 Traceback (most recent call last)\n",
    "<ipython-input-2-74d77b409a34> in <module>\n",
    "      1 b = list(range(10))\n",
    "----> 2 b[5:8] = 100\n",
    "      3 b\n",
    "\n",
    "TypeError: can only assign an iterable\n",
    "```"
   ]
  },
  {
   "cell_type": "code",
   "execution_count": 81,
   "metadata": {
    "ExecuteTime": {
     "end_time": "2022-07-21T16:16:07.727905Z",
     "start_time": "2022-07-21T16:16:07.714904Z"
    },
    "execution": {
     "iopub.execute_input": "2023-09-05T04:56:54.418474Z",
     "iopub.status.busy": "2023-09-05T04:56:54.417473Z",
     "iopub.status.idle": "2023-09-05T04:56:54.423055Z",
     "shell.execute_reply": "2023-09-05T04:56:54.423055Z",
     "shell.execute_reply.started": "2023-09-05T04:56:54.418474Z"
    }
   },
   "outputs": [
    {
     "data": {
      "text/plain": [
       "array(['철수', '영희', '말자', '숙자'], dtype='<U2')"
      ]
     },
     "execution_count": 81,
     "metadata": {},
     "output_type": "execute_result"
    }
   ],
   "source": [
    "names = np.array(['철수', '영희', '말자', '숙자'])\n",
    "names"
   ]
  },
  {
   "cell_type": "code",
   "execution_count": 82,
   "metadata": {
    "ExecuteTime": {
     "end_time": "2022-07-21T16:16:07.742902Z",
     "start_time": "2022-07-21T16:16:07.729903Z"
    },
    "execution": {
     "iopub.execute_input": "2023-09-05T04:56:54.439064Z",
     "iopub.status.busy": "2023-09-05T04:56:54.438060Z",
     "iopub.status.idle": "2023-09-05T04:56:54.444611Z",
     "shell.execute_reply": "2023-09-05T04:56:54.443601Z",
     "shell.execute_reply.started": "2023-09-05T04:56:54.439064Z"
    }
   },
   "outputs": [
    {
     "data": {
      "text/plain": [
       "array([ True, False, False, False])"
      ]
     },
     "execution_count": 82,
     "metadata": {},
     "output_type": "execute_result"
    }
   ],
   "source": [
    "# 각 값이 철수인지 논리값 반환\n",
    "names == '철수'"
   ]
  },
  {
   "cell_type": "code",
   "execution_count": 83,
   "metadata": {
    "ExecuteTime": {
     "end_time": "2022-07-21T16:16:07.757904Z",
     "start_time": "2022-07-21T16:16:07.744903Z"
    },
    "execution": {
     "iopub.execute_input": "2023-09-05T04:56:54.445609Z",
     "iopub.status.busy": "2023-09-05T04:56:54.445609Z",
     "iopub.status.idle": "2023-09-05T04:56:54.452399Z",
     "shell.execute_reply": "2023-09-05T04:56:54.451388Z",
     "shell.execute_reply.started": "2023-09-05T04:56:54.445609Z"
    }
   },
   "outputs": [
    {
     "data": {
      "text/plain": [
       "array(['철수'], dtype='<U2')"
      ]
     },
     "execution_count": 83,
     "metadata": {},
     "output_type": "execute_result"
    }
   ],
   "source": [
    "# 각 값이 철수인지 논리값 기준 True인 값 반환\n",
    "names[names == '철수']"
   ]
  },
  {
   "cell_type": "code",
   "execution_count": 84,
   "metadata": {
    "ExecuteTime": {
     "end_time": "2022-07-21T16:16:07.772901Z",
     "start_time": "2022-07-21T16:16:07.760905Z"
    },
    "execution": {
     "iopub.execute_input": "2023-09-05T04:56:54.453399Z",
     "iopub.status.busy": "2023-09-05T04:56:54.452399Z",
     "iopub.status.idle": "2023-09-05T04:56:54.458599Z",
     "shell.execute_reply": "2023-09-05T04:56:54.457586Z",
     "shell.execute_reply.started": "2023-09-05T04:56:54.453399Z"
    }
   },
   "outputs": [
    {
     "data": {
      "text/plain": [
       "array([[ 0.61329026, -0.79816235, -0.45430283,  1.05601481],\n",
       "       [-0.58302064, -0.97530358,  1.92739407, -0.69510924],\n",
       "       [-1.61299363, -1.11885297,  0.23250258, -0.40642537],\n",
       "       [-0.4659402 ,  0.53283966, -1.92078486, -0.2764093 ]])"
      ]
     },
     "execution_count": 84,
     "metadata": {},
     "output_type": "execute_result"
    }
   ],
   "source": [
    "data = np.random.randn(4,4)\n",
    "data"
   ]
  },
  {
   "cell_type": "code",
   "execution_count": 85,
   "metadata": {
    "ExecuteTime": {
     "end_time": "2022-07-21T16:16:07.787902Z",
     "start_time": "2022-07-21T16:16:07.773903Z"
    },
    "execution": {
     "iopub.execute_input": "2023-09-05T04:56:54.459610Z",
     "iopub.status.busy": "2023-09-05T04:56:54.459610Z",
     "iopub.status.idle": "2023-09-05T04:56:54.465204Z",
     "shell.execute_reply": "2023-09-05T04:56:54.465204Z",
     "shell.execute_reply.started": "2023-09-05T04:56:54.459610Z"
    }
   },
   "outputs": [
    {
     "data": {
      "text/plain": [
       "array([[0.61329026, 0.        , 0.        , 1.05601481],\n",
       "       [0.        , 0.        , 1.92739407, 0.        ],\n",
       "       [0.        , 0.        , 0.23250258, 0.        ],\n",
       "       [0.        , 0.53283966, 0.        , 0.        ]])"
      ]
     },
     "execution_count": 85,
     "metadata": {},
     "output_type": "execute_result"
    }
   ],
   "source": [
    "# 데이터가 0보다 작은지 논리값 기준 True인 값을 0으로 치환\n",
    "data[data<0] = 0\n",
    "data"
   ]
  },
  {
   "cell_type": "code",
   "execution_count": 86,
   "metadata": {
    "ExecuteTime": {
     "end_time": "2022-07-21T16:16:07.802902Z",
     "start_time": "2022-07-21T16:16:07.789904Z"
    },
    "execution": {
     "iopub.execute_input": "2023-09-05T04:56:54.467214Z",
     "iopub.status.busy": "2023-09-05T04:56:54.466214Z",
     "iopub.status.idle": "2023-09-05T04:56:54.472521Z",
     "shell.execute_reply": "2023-09-05T04:56:54.472521Z",
     "shell.execute_reply.started": "2023-09-05T04:56:54.467214Z"
    }
   },
   "outputs": [
    {
     "data": {
      "text/plain": [
       "array([ True, False, False, False])"
      ]
     },
     "execution_count": 86,
     "metadata": {},
     "output_type": "execute_result"
    }
   ],
   "source": [
    "names == '철수'"
   ]
  },
  {
   "cell_type": "code",
   "execution_count": 87,
   "metadata": {
    "ExecuteTime": {
     "end_time": "2022-07-21T16:16:07.817901Z",
     "start_time": "2022-07-21T16:16:07.804904Z"
    },
    "execution": {
     "iopub.execute_input": "2023-09-05T04:56:54.474528Z",
     "iopub.status.busy": "2023-09-05T04:56:54.473528Z",
     "iopub.status.idle": "2023-09-05T04:56:54.480151Z",
     "shell.execute_reply": "2023-09-05T04:56:54.480151Z",
     "shell.execute_reply.started": "2023-09-05T04:56:54.474528Z"
    }
   },
   "outputs": [
    {
     "data": {
      "text/plain": [
       "array([[0.61329026, 0.        , 0.        , 1.05601481]])"
      ]
     },
     "execution_count": 87,
     "metadata": {},
     "output_type": "execute_result"
    }
   ],
   "source": [
    "# names가 철수인지 논리값 기준 True인 값의 data값을 반환\n",
    "data[names == '철수']"
   ]
  },
  {
   "cell_type": "code",
   "execution_count": 88,
   "metadata": {
    "ExecuteTime": {
     "end_time": "2022-07-21T16:16:07.832901Z",
     "start_time": "2022-07-21T16:16:07.819904Z"
    },
    "execution": {
     "iopub.execute_input": "2023-09-05T04:56:54.482159Z",
     "iopub.status.busy": "2023-09-05T04:56:54.481160Z",
     "iopub.status.idle": "2023-09-05T04:56:54.491380Z",
     "shell.execute_reply": "2023-09-05T04:56:54.491380Z",
     "shell.execute_reply.started": "2023-09-05T04:56:54.482159Z"
    }
   },
   "outputs": [
    {
     "data": {
      "text/plain": [
       "array(['개', '고양이', '고양이', '햄스터', '개', '햄스터'], dtype='<U3')"
      ]
     },
     "metadata": {},
     "output_type": "display_data"
    },
    {
     "data": {
      "text/plain": [
       "array([1, 2, 3, 4, 5, 6])"
      ]
     },
     "metadata": {},
     "output_type": "display_data"
    },
    {
     "data": {
      "text/plain": [
       "array([[ 0,  1,  2,  3,  4,  5],\n",
       "       [ 6,  7,  8,  9, 10, 11],\n",
       "       [12, 13, 14, 15, 16, 17],\n",
       "       [18, 19, 20, 21, 22, 23],\n",
       "       [24, 25, 26, 27, 28, 29],\n",
       "       [30, 31, 32, 33, 34, 35]])"
      ]
     },
     "metadata": {},
     "output_type": "display_data"
    }
   ],
   "source": [
    "# 테스트 array 생성\n",
    "pet = np.array(['개', '고양이', '고양이', '햄스터', '개', '햄스터'])\n",
    "num = np.array([1, 2, 3, 4, 5, 6])\n",
    "indexing_test = np.arange(36).reshape(6, 6) # 샘플데이터\n",
    "display(pet, num, indexing_test)"
   ]
  },
  {
   "cell_type": "code",
   "execution_count": 89,
   "metadata": {
    "ExecuteTime": {
     "end_time": "2022-07-21T16:16:07.847903Z",
     "start_time": "2022-07-21T16:16:07.834903Z"
    },
    "execution": {
     "iopub.execute_input": "2023-09-05T04:56:54.493384Z",
     "iopub.status.busy": "2023-09-05T04:56:54.492386Z",
     "iopub.status.idle": "2023-09-05T04:56:54.499265Z",
     "shell.execute_reply": "2023-09-05T04:56:54.498254Z",
     "shell.execute_reply.started": "2023-09-05T04:56:54.493384Z"
    }
   },
   "outputs": [
    {
     "data": {
      "text/plain": [
       "array([False, False, False,  True,  True,  True])"
      ]
     },
     "execution_count": 89,
     "metadata": {},
     "output_type": "execute_result"
    }
   ],
   "source": [
    "# num이 3보다 큰지 논리값 출력\n",
    "num > 3"
   ]
  },
  {
   "cell_type": "code",
   "execution_count": 90,
   "metadata": {
    "ExecuteTime": {
     "end_time": "2022-07-21T16:16:07.862904Z",
     "start_time": "2022-07-21T16:16:07.849903Z"
    },
    "execution": {
     "iopub.execute_input": "2023-09-05T04:56:54.500262Z",
     "iopub.status.busy": "2023-09-05T04:56:54.500262Z",
     "iopub.status.idle": "2023-09-05T04:56:54.506670Z",
     "shell.execute_reply": "2023-09-05T04:56:54.505665Z",
     "shell.execute_reply.started": "2023-09-05T04:56:54.500262Z"
    }
   },
   "outputs": [
    {
     "data": {
      "text/plain": [
       "array([[18, 19, 20, 21, 22, 23],\n",
       "       [24, 25, 26, 27, 28, 29],\n",
       "       [30, 31, 32, 33, 34, 35]])"
      ]
     },
     "execution_count": 90,
     "metadata": {},
     "output_type": "execute_result"
    }
   ],
   "source": [
    "indexing_test[num > 3]"
   ]
  },
  {
   "cell_type": "code",
   "execution_count": 91,
   "metadata": {
    "ExecuteTime": {
     "end_time": "2022-07-21T16:16:07.877905Z",
     "start_time": "2022-07-21T16:16:07.864904Z"
    },
    "execution": {
     "iopub.execute_input": "2023-09-05T04:56:54.507670Z",
     "iopub.status.busy": "2023-09-05T04:56:54.507670Z",
     "iopub.status.idle": "2023-09-05T04:56:54.513830Z",
     "shell.execute_reply": "2023-09-05T04:56:54.512823Z",
     "shell.execute_reply.started": "2023-09-05T04:56:54.507670Z"
    }
   },
   "outputs": [
    {
     "data": {
      "text/plain": [
       "array([ True, False, False, False,  True, False])"
      ]
     },
     "execution_count": 91,
     "metadata": {},
     "output_type": "execute_result"
    }
   ],
   "source": [
    "# pet가 개인지 논리값 출력\n",
    "pet == '개'"
   ]
  },
  {
   "cell_type": "code",
   "execution_count": 92,
   "metadata": {
    "ExecuteTime": {
     "end_time": "2022-07-21T16:16:07.893903Z",
     "start_time": "2022-07-21T16:16:07.879903Z"
    },
    "execution": {
     "iopub.execute_input": "2023-09-05T04:56:54.514830Z",
     "iopub.status.busy": "2023-09-05T04:56:54.514830Z",
     "iopub.status.idle": "2023-09-05T04:56:54.521575Z",
     "shell.execute_reply": "2023-09-05T04:56:54.520569Z",
     "shell.execute_reply.started": "2023-09-05T04:56:54.514830Z"
    }
   },
   "outputs": [
    {
     "data": {
      "text/plain": [
       "array([[ 0,  1,  2,  3,  4,  5],\n",
       "       [24, 25, 26, 27, 28, 29]])"
      ]
     },
     "execution_count": 92,
     "metadata": {},
     "output_type": "execute_result"
    }
   ],
   "source": [
    "indexing_test[pet == '개']"
   ]
  },
  {
   "cell_type": "code",
   "execution_count": 93,
   "metadata": {
    "ExecuteTime": {
     "end_time": "2022-07-21T16:16:07.908902Z",
     "start_time": "2022-07-21T16:16:07.896908Z"
    },
    "execution": {
     "iopub.execute_input": "2023-09-05T04:56:54.522574Z",
     "iopub.status.busy": "2023-09-05T04:56:54.522574Z",
     "iopub.status.idle": "2023-09-05T04:56:54.527616Z",
     "shell.execute_reply": "2023-09-05T04:56:54.527616Z",
     "shell.execute_reply.started": "2023-09-05T04:56:54.522574Z"
    }
   },
   "outputs": [
    {
     "data": {
      "text/plain": [
       "array([ True, False, False,  True,  True,  True])"
      ]
     },
     "execution_count": 93,
     "metadata": {},
     "output_type": "execute_result"
    }
   ],
   "source": [
    "(pet == '개') | (pet == '햄스터')"
   ]
  },
  {
   "cell_type": "code",
   "execution_count": 94,
   "metadata": {
    "ExecuteTime": {
     "end_time": "2022-07-21T16:16:07.924904Z",
     "start_time": "2022-07-21T16:16:07.910905Z"
    },
    "execution": {
     "iopub.execute_input": "2023-09-05T04:56:54.529627Z",
     "iopub.status.busy": "2023-09-05T04:56:54.528622Z",
     "iopub.status.idle": "2023-09-05T04:56:54.535867Z",
     "shell.execute_reply": "2023-09-05T04:56:54.534858Z",
     "shell.execute_reply.started": "2023-09-05T04:56:54.529627Z"
    }
   },
   "outputs": [
    {
     "data": {
      "text/plain": [
       "array([[ 3,  4,  5],\n",
       "       [21, 22, 23],\n",
       "       [27, 28, 29],\n",
       "       [33, 34, 35]])"
      ]
     },
     "execution_count": 94,
     "metadata": {},
     "output_type": "execute_result"
    }
   ],
   "source": [
    "# 펫 array 기준으로 햄스터와 개 데이터를 indexing_test에서 인덱싱해보기\n",
    "indexing_test[(pet == '개') | (pet == '햄스터'), 3:]"
   ]
  },
  {
   "cell_type": "code",
   "execution_count": 95,
   "metadata": {
    "ExecuteTime": {
     "end_time": "2022-07-21T16:16:07.940903Z",
     "start_time": "2022-07-21T16:16:07.926906Z"
    },
    "execution": {
     "iopub.execute_input": "2023-09-05T04:56:54.537866Z",
     "iopub.status.busy": "2023-09-05T04:56:54.536866Z",
     "iopub.status.idle": "2023-09-05T04:56:54.542909Z",
     "shell.execute_reply": "2023-09-05T04:56:54.542909Z",
     "shell.execute_reply.started": "2023-09-05T04:56:54.536866Z"
    }
   },
   "outputs": [
    {
     "data": {
      "text/plain": [
       "2"
      ]
     },
     "execution_count": 95,
     "metadata": {},
     "output_type": "execute_result"
    }
   ],
   "source": [
    "# 불리언(True/False) 값을 숫자로 판단할 시 True=1, False=0으로 계산\n",
    "(pet == '개').sum()"
   ]
  },
  {
   "cell_type": "code",
   "execution_count": 96,
   "metadata": {
    "ExecuteTime": {
     "end_time": "2022-07-21T16:16:07.956915Z",
     "start_time": "2022-07-21T16:16:07.943905Z"
    },
    "execution": {
     "iopub.execute_input": "2023-09-05T04:56:54.544917Z",
     "iopub.status.busy": "2023-09-05T04:56:54.543918Z",
     "iopub.status.idle": "2023-09-05T04:56:54.550014Z",
     "shell.execute_reply": "2023-09-05T04:56:54.550014Z",
     "shell.execute_reply.started": "2023-09-05T04:56:54.544917Z"
    }
   },
   "outputs": [
    {
     "data": {
      "text/plain": [
       "True"
      ]
     },
     "execution_count": 96,
     "metadata": {},
     "output_type": "execute_result"
    }
   ],
   "source": [
    "# 하나라도 참이면 참\n",
    "(pet == '개').any()"
   ]
  },
  {
   "cell_type": "code",
   "execution_count": 97,
   "metadata": {
    "ExecuteTime": {
     "end_time": "2022-07-21T16:16:07.971905Z",
     "start_time": "2022-07-21T16:16:07.958905Z"
    },
    "execution": {
     "iopub.execute_input": "2023-09-05T04:56:54.552020Z",
     "iopub.status.busy": "2023-09-05T04:56:54.551021Z",
     "iopub.status.idle": "2023-09-05T04:56:54.557796Z",
     "shell.execute_reply": "2023-09-05T04:56:54.556791Z",
     "shell.execute_reply.started": "2023-09-05T04:56:54.552020Z"
    }
   },
   "outputs": [
    {
     "data": {
      "text/plain": [
       "False"
      ]
     },
     "execution_count": 97,
     "metadata": {},
     "output_type": "execute_result"
    }
   ],
   "source": [
    "# 전체데이터가 참이여야 참\n",
    "(pet == '개').all()"
   ]
  },
  {
   "cell_type": "markdown",
   "metadata": {},
   "source": [
    "## [**데이터 처리:** Numpy Function](https://numpy.org/doc/stable/reference/routines.math.html)"
   ]
  },
  {
   "cell_type": "markdown",
   "metadata": {},
   "source": [
    "### Array 기본 연산\n",
    "\n",
    "- 기본 수학 함수는 배열에서 `값마다 계산`되며 `numpy 내장 함수 모두 사용 가능`\n",
    "- 값연산 이외에 `벡터와 다차원 연산이 가능`하기 때문에 `반복문(for, while) 사용없이 직관적 연산 가능`\n",
    "- (고급) `크기가 다른 배열간의 연산`도 `브로드캐스팅(Broadcasting) 방식으로 연산 가능`\n",
    "\n",
    "**1) `하나의 배열`에 사용하는 함수**\n",
    "\n",
    "| 함수 | 설명 |\n",
    "|:---------|:-------------|\n",
    "| abs, fabs | 각 값의 절대값을 구한다. 복소수가 아닌 경우에는 fabs로 빠르게 연산가능 |\n",
    "| sqrt | 제곱근을 계산 array ** 0.5와 동일 |\n",
    "| square | 제곱을 계산 array ** 2와 동일 |\n",
    "| exp | 각 값에 지수 exp를 계산 |\n",
    "| log, log10, log2, logp | 각각 자연로그, 로그10, 로그2, 로그(1+x) |\n",
    "| sign | 각 값의 부호를 계산 |\n",
    "| ceil | 각 값의 소수자리 올림 |\n",
    "| floor | 각 값의 소수자리 버림 |\n",
    "| rint | 각 값의 소수자리 반올림. dtype 유지 |\n",
    "| modf | 값의 몫과 나머지를 각각 배열로 반환 |\n",
    "| isnan | 각 값이 숫자인지 아닌지 NaN으로 나타내는 불리언 배열 |\n",
    "| isfinite, isinf | 배열의 각 값이 유한한지 무한한지 나타내는 불리언 배열 |\n",
    "| cos, cosh, sin, sinh, tan, tanh | 일반 삼각함수와 쌍곡삼각 함수 |\n",
    "| logical_not | 각 값의 논리 부정(not) 값 계산 |\n",
    "\n",
    "**2) `서로 다른 배열`에 사용하는 함수**\n",
    "\n",
    "| 함수 | 설명 |\n",
    "|:---------|:-------------|\n",
    "| add | 두 배열에서 같은 위치의 값끼리 덧셈 |\n",
    "| subtract | 첫번째 배열 값 - 두번째 배열 값 |\n",
    "| multiply | 배열의 값끼리 곱셈 |\n",
    "| divide | 첫번째 배열의 값에서 두번째 배열의 값를 나눗셈 |\n",
    "| power | 첫번째 배열의 값에 두번째 배열의 값만큼 제곱 |\n",
    "| maximum, fmax | 두 값 중 큰 값을 반환. fmax는 NaN 무시 |\n",
    "| minimum, fmin | 두 값 중 작은 값 반환. fmin는 NaN 무시 |\n",
    "| mod | 첫번째 배열의 값에 두번째 배열의 값를 나눈 나머지 |\n",
    "| greater, greater_equal, less, less_equal, equal, not_equal | 두 값 간의 >, >=, <, <=, ==, != 비교연산 결과를 불리언 배열로 반환 |\n",
    "| logical_and, logical_or, logical_xor | 각각 두 값 간의 논리연산 결과를 반환 |"
   ]
  },
  {
   "cell_type": "code",
   "execution_count": 98,
   "metadata": {
    "ExecuteTime": {
     "end_time": "2022-07-21T16:16:08.002910Z",
     "start_time": "2022-07-21T16:16:07.978910Z"
    },
    "execution": {
     "iopub.execute_input": "2023-09-05T04:56:54.558799Z",
     "iopub.status.busy": "2023-09-05T04:56:54.557796Z",
     "iopub.status.idle": "2023-09-05T04:56:54.566575Z",
     "shell.execute_reply": "2023-09-05T04:56:54.566575Z",
     "shell.execute_reply.started": "2023-09-05T04:56:54.558799Z"
    }
   },
   "outputs": [
    {
     "data": {
      "text/plain": [
       "array([[1., 2.],\n",
       "       [3., 4.]])"
      ]
     },
     "metadata": {},
     "output_type": "display_data"
    },
    {
     "data": {
      "text/plain": [
       "array([[5., 6.],\n",
       "       [7., 8.]])"
      ]
     },
     "metadata": {},
     "output_type": "display_data"
    }
   ],
   "source": [
    "a2d = np.array([[1,2],[3,4]], dtype=np.float64)\n",
    "b2d = np.array([[5,6],[7,8]], dtype=np.float64)\n",
    "display(a2d, b2d)"
   ]
  },
  {
   "cell_type": "code",
   "execution_count": 99,
   "metadata": {
    "ExecuteTime": {
     "end_time": "2022-07-21T16:16:08.018906Z",
     "start_time": "2022-07-21T16:16:08.007907Z"
    },
    "execution": {
     "iopub.execute_input": "2023-09-05T04:56:54.567582Z",
     "iopub.status.busy": "2023-09-05T04:56:54.567582Z",
     "iopub.status.idle": "2023-09-05T04:56:54.572385Z",
     "shell.execute_reply": "2023-09-05T04:56:54.572385Z",
     "shell.execute_reply.started": "2023-09-05T04:56:54.567582Z"
    }
   },
   "outputs": [
    {
     "data": {
      "text/plain": [
       "array([[ 6.,  8.],\n",
       "       [10., 12.]])"
      ]
     },
     "execution_count": 99,
     "metadata": {},
     "output_type": "execute_result"
    }
   ],
   "source": [
    "# 요소별 합산\n",
    "a2d + b2d"
   ]
  },
  {
   "cell_type": "code",
   "execution_count": 100,
   "metadata": {
    "ExecuteTime": {
     "end_time": "2022-07-21T16:16:08.049906Z",
     "start_time": "2022-07-21T16:16:08.025909Z"
    },
    "execution": {
     "iopub.execute_input": "2023-09-05T04:56:54.574389Z",
     "iopub.status.busy": "2023-09-05T04:56:54.573389Z",
     "iopub.status.idle": "2023-09-05T04:56:54.580466Z",
     "shell.execute_reply": "2023-09-05T04:56:54.579459Z",
     "shell.execute_reply.started": "2023-09-05T04:56:54.574389Z"
    }
   },
   "outputs": [
    {
     "data": {
      "text/plain": [
       "array([[ 6.,  8.],\n",
       "       [10., 12.]])"
      ]
     },
     "execution_count": 100,
     "metadata": {},
     "output_type": "execute_result"
    }
   ],
   "source": [
    "# 요소별 합산\n",
    "np.add(a2d, b2d)"
   ]
  },
  {
   "cell_type": "code",
   "execution_count": 101,
   "metadata": {
    "ExecuteTime": {
     "end_time": "2022-07-21T16:16:08.080965Z",
     "start_time": "2022-07-21T16:16:08.057905Z"
    },
    "execution": {
     "iopub.execute_input": "2023-09-05T04:56:54.581469Z",
     "iopub.status.busy": "2023-09-05T04:56:54.580466Z",
     "iopub.status.idle": "2023-09-05T04:56:54.584870Z",
     "shell.execute_reply": "2023-09-05T04:56:54.584870Z",
     "shell.execute_reply.started": "2023-09-05T04:56:54.581469Z"
    }
   },
   "outputs": [
    {
     "data": {
      "text/plain": [
       "array([[-4., -4.],\n",
       "       [-4., -4.]])"
      ]
     },
     "execution_count": 101,
     "metadata": {},
     "output_type": "execute_result"
    }
   ],
   "source": [
    "# 요소별 빼기\n",
    "a2d - b2d"
   ]
  },
  {
   "cell_type": "code",
   "execution_count": 102,
   "metadata": {
    "ExecuteTime": {
     "end_time": "2022-07-21T16:16:08.095975Z",
     "start_time": "2022-07-21T16:16:08.084979Z"
    },
    "execution": {
     "iopub.execute_input": "2023-09-05T04:56:54.586881Z",
     "iopub.status.busy": "2023-09-05T04:56:54.585878Z",
     "iopub.status.idle": "2023-09-05T04:56:54.591554Z",
     "shell.execute_reply": "2023-09-05T04:56:54.590543Z",
     "shell.execute_reply.started": "2023-09-05T04:56:54.586881Z"
    }
   },
   "outputs": [
    {
     "data": {
      "text/plain": [
       "array([[-4., -4.],\n",
       "       [-4., -4.]])"
      ]
     },
     "execution_count": 102,
     "metadata": {},
     "output_type": "execute_result"
    }
   ],
   "source": [
    "# 요소별 빼기\n",
    "np.subtract(a2d, b2d)"
   ]
  },
  {
   "cell_type": "code",
   "execution_count": 103,
   "metadata": {
    "ExecuteTime": {
     "end_time": "2022-07-21T16:16:08.111021Z",
     "start_time": "2022-07-21T16:16:08.098485Z"
    },
    "execution": {
     "iopub.execute_input": "2023-09-05T04:56:54.592555Z",
     "iopub.status.busy": "2023-09-05T04:56:54.591554Z",
     "iopub.status.idle": "2023-09-05T04:56:54.596896Z",
     "shell.execute_reply": "2023-09-05T04:56:54.596896Z",
     "shell.execute_reply.started": "2023-09-05T04:56:54.592555Z"
    }
   },
   "outputs": [
    {
     "data": {
      "text/plain": [
       "array([[ 5., 12.],\n",
       "       [21., 32.]])"
      ]
     },
     "execution_count": 103,
     "metadata": {},
     "output_type": "execute_result"
    }
   ],
   "source": [
    "# 요소별 곱셈\n",
    "a2d * b2d"
   ]
  },
  {
   "cell_type": "code",
   "execution_count": 104,
   "metadata": {
    "ExecuteTime": {
     "end_time": "2022-07-21T16:16:08.127020Z",
     "start_time": "2022-07-21T16:16:08.115018Z"
    },
    "execution": {
     "iopub.execute_input": "2023-09-05T04:56:54.598904Z",
     "iopub.status.busy": "2023-09-05T04:56:54.597907Z",
     "iopub.status.idle": "2023-09-05T04:56:54.603442Z",
     "shell.execute_reply": "2023-09-05T04:56:54.603442Z",
     "shell.execute_reply.started": "2023-09-05T04:56:54.598904Z"
    }
   },
   "outputs": [
    {
     "data": {
      "text/plain": [
       "array([[ 5., 12.],\n",
       "       [21., 32.]])"
      ]
     },
     "execution_count": 104,
     "metadata": {},
     "output_type": "execute_result"
    }
   ],
   "source": [
    "# 요소별 곱셈\n",
    "np.multiply(a2d, b2d)"
   ]
  },
  {
   "cell_type": "code",
   "execution_count": 105,
   "metadata": {
    "ExecuteTime": {
     "end_time": "2022-07-21T16:16:08.143019Z",
     "start_time": "2022-07-21T16:16:08.131018Z"
    },
    "execution": {
     "iopub.execute_input": "2023-09-05T04:56:54.605452Z",
     "iopub.status.busy": "2023-09-05T04:56:54.604452Z",
     "iopub.status.idle": "2023-09-05T04:56:54.610625Z",
     "shell.execute_reply": "2023-09-05T04:56:54.609614Z",
     "shell.execute_reply.started": "2023-09-05T04:56:54.605452Z"
    }
   },
   "outputs": [
    {
     "data": {
      "text/plain": [
       "array([[0.2       , 0.33333333],\n",
       "       [0.42857143, 0.5       ]])"
      ]
     },
     "execution_count": 105,
     "metadata": {},
     "output_type": "execute_result"
    }
   ],
   "source": [
    "# 요소별 나누기\n",
    "a2d / b2d"
   ]
  },
  {
   "cell_type": "code",
   "execution_count": 106,
   "metadata": {
    "ExecuteTime": {
     "end_time": "2022-07-21T16:16:08.158535Z",
     "start_time": "2022-07-21T16:16:08.147021Z"
    },
    "execution": {
     "iopub.execute_input": "2023-09-05T04:56:54.611624Z",
     "iopub.status.busy": "2023-09-05T04:56:54.611624Z",
     "iopub.status.idle": "2023-09-05T04:56:54.618350Z",
     "shell.execute_reply": "2023-09-05T04:56:54.617340Z",
     "shell.execute_reply.started": "2023-09-05T04:56:54.611624Z"
    }
   },
   "outputs": [
    {
     "data": {
      "text/plain": [
       "array([[0.2       , 0.33333333],\n",
       "       [0.42857143, 0.5       ]])"
      ]
     },
     "execution_count": 106,
     "metadata": {},
     "output_type": "execute_result"
    }
   ],
   "source": [
    "# 요소별 나누기\n",
    "np.divide(a2d, b2d)"
   ]
  },
  {
   "cell_type": "code",
   "execution_count": 107,
   "metadata": {
    "ExecuteTime": {
     "end_time": "2022-07-21T16:16:08.174065Z",
     "start_time": "2022-07-21T16:16:08.162067Z"
    },
    "execution": {
     "iopub.execute_input": "2023-09-05T04:56:54.619350Z",
     "iopub.status.busy": "2023-09-05T04:56:54.618350Z",
     "iopub.status.idle": "2023-09-05T04:56:54.625934Z",
     "shell.execute_reply": "2023-09-05T04:56:54.624925Z",
     "shell.execute_reply.started": "2023-09-05T04:56:54.619350Z"
    }
   },
   "outputs": [
    {
     "data": {
      "text/plain": [
       "array([[1.        , 1.41421356],\n",
       "       [1.73205081, 2.        ]])"
      ]
     },
     "execution_count": 107,
     "metadata": {},
     "output_type": "execute_result"
    }
   ],
   "source": [
    "# 요소별 square root\n",
    "np.sqrt(a2d)"
   ]
  },
  {
   "cell_type": "code",
   "execution_count": 108,
   "metadata": {
    "ExecuteTime": {
     "end_time": "2022-07-21T16:16:08.189582Z",
     "start_time": "2022-07-21T16:16:08.176586Z"
    },
    "execution": {
     "iopub.execute_input": "2023-09-05T04:56:54.626933Z",
     "iopub.status.busy": "2023-09-05T04:56:54.625934Z",
     "iopub.status.idle": "2023-09-05T04:56:54.633184Z",
     "shell.execute_reply": "2023-09-05T04:56:54.632175Z",
     "shell.execute_reply.started": "2023-09-05T04:56:54.626933Z"
    }
   },
   "outputs": [
    {
     "data": {
      "text/plain": [
       "array([[-1. ,  2. ,  3. ],\n",
       "       [-4. ,  5. ,  6. ],\n",
       "       [ 7.1,  8.4, -9.7]])"
      ]
     },
     "execution_count": 108,
     "metadata": {},
     "output_type": "execute_result"
    }
   ],
   "source": [
    "a2d = np.array([[-1,2,3],[-4,5,6],[7.1,8.4,-9.7]])\n",
    "a2d"
   ]
  },
  {
   "cell_type": "code",
   "execution_count": 109,
   "metadata": {
    "ExecuteTime": {
     "end_time": "2022-07-21T16:16:08.221583Z",
     "start_time": "2022-07-21T16:16:08.193587Z"
    },
    "execution": {
     "iopub.execute_input": "2023-09-05T04:56:54.634183Z",
     "iopub.status.busy": "2023-09-05T04:56:54.634183Z",
     "iopub.status.idle": "2023-09-05T04:56:54.641876Z",
     "shell.execute_reply": "2023-09-05T04:56:54.640867Z",
     "shell.execute_reply.started": "2023-09-05T04:56:54.634183Z"
    }
   },
   "outputs": [
    {
     "data": {
      "text/plain": [
       "array([[1. , 2. , 3. ],\n",
       "       [4. , 5. , 6. ],\n",
       "       [7.1, 8.4, 9.7]])"
      ]
     },
     "execution_count": 109,
     "metadata": {},
     "output_type": "execute_result"
    }
   ],
   "source": [
    "# 절대값 변환\n",
    "np.abs(a2d)"
   ]
  },
  {
   "cell_type": "code",
   "execution_count": 110,
   "metadata": {
    "ExecuteTime": {
     "end_time": "2022-07-21T16:16:08.238582Z",
     "start_time": "2022-07-21T16:16:08.226585Z"
    },
    "execution": {
     "iopub.execute_input": "2023-09-05T04:56:54.642877Z",
     "iopub.status.busy": "2023-09-05T04:56:54.641876Z",
     "iopub.status.idle": "2023-09-05T04:56:54.647714Z",
     "shell.execute_reply": "2023-09-05T04:56:54.647714Z",
     "shell.execute_reply.started": "2023-09-05T04:56:54.642877Z"
    }
   },
   "outputs": [
    {
     "name": "stderr",
     "output_type": "stream",
     "text": [
      "C:\\Users\\KK\\AppData\\Local\\Temp\\ipykernel_24256\\1820938577.py:2: RuntimeWarning: invalid value encountered in sqrt\n",
      "  np.sqrt(a2d)\n"
     ]
    },
    {
     "data": {
      "text/plain": [
       "array([[       nan, 1.41421356, 1.73205081],\n",
       "       [       nan, 2.23606798, 2.44948974],\n",
       "       [2.66458252, 2.89827535,        nan]])"
      ]
     },
     "execution_count": 110,
     "metadata": {},
     "output_type": "execute_result"
    }
   ],
   "source": [
    "# square root\n",
    "np.sqrt(a2d)"
   ]
  },
  {
   "cell_type": "code",
   "execution_count": 111,
   "metadata": {
    "ExecuteTime": {
     "end_time": "2022-07-21T16:16:08.268583Z",
     "start_time": "2022-07-21T16:16:08.244584Z"
    },
    "execution": {
     "iopub.execute_input": "2023-09-05T04:56:54.649721Z",
     "iopub.status.busy": "2023-09-05T04:56:54.648724Z",
     "iopub.status.idle": "2023-09-05T04:56:54.656244Z",
     "shell.execute_reply": "2023-09-05T04:56:54.655241Z",
     "shell.execute_reply.started": "2023-09-05T04:56:54.649721Z"
    }
   },
   "outputs": [
    {
     "name": "stderr",
     "output_type": "stream",
     "text": [
      "C:\\Users\\KK\\AppData\\Local\\Temp\\ipykernel_24256\\1649283410.py:2: RuntimeWarning: invalid value encountered in sqrt\n",
      "  a2d**0.5\n"
     ]
    },
    {
     "data": {
      "text/plain": [
       "array([[       nan, 1.41421356, 1.73205081],\n",
       "       [       nan, 2.23606798, 2.44948974],\n",
       "       [2.66458252, 2.89827535,        nan]])"
      ]
     },
     "execution_count": 111,
     "metadata": {},
     "output_type": "execute_result"
    }
   ],
   "source": [
    "# is same as\n",
    "a2d**0.5"
   ]
  },
  {
   "cell_type": "code",
   "execution_count": 112,
   "metadata": {
    "ExecuteTime": {
     "end_time": "2022-07-21T16:16:08.284581Z",
     "start_time": "2022-07-21T16:16:08.272582Z"
    },
    "execution": {
     "iopub.execute_input": "2023-09-05T04:56:54.657244Z",
     "iopub.status.busy": "2023-09-05T04:56:54.657244Z",
     "iopub.status.idle": "2023-09-05T04:56:54.663667Z",
     "shell.execute_reply": "2023-09-05T04:56:54.662661Z",
     "shell.execute_reply.started": "2023-09-05T04:56:54.657244Z"
    }
   },
   "outputs": [
    {
     "data": {
      "text/plain": [
       "array([[ 1.  ,  4.  ,  9.  ],\n",
       "       [16.  , 25.  , 36.  ],\n",
       "       [50.41, 70.56, 94.09]])"
      ]
     },
     "execution_count": 112,
     "metadata": {},
     "output_type": "execute_result"
    }
   ],
   "source": [
    "# 제곱 반환\n",
    "np.square(a2d)"
   ]
  },
  {
   "cell_type": "code",
   "execution_count": 113,
   "metadata": {
    "ExecuteTime": {
     "end_time": "2022-07-21T16:16:08.301582Z",
     "start_time": "2022-07-21T16:16:08.290581Z"
    },
    "execution": {
     "iopub.execute_input": "2023-09-05T04:56:54.664667Z",
     "iopub.status.busy": "2023-09-05T04:56:54.664667Z",
     "iopub.status.idle": "2023-09-05T04:56:54.670440Z",
     "shell.execute_reply": "2023-09-05T04:56:54.670440Z",
     "shell.execute_reply.started": "2023-09-05T04:56:54.664667Z"
    }
   },
   "outputs": [
    {
     "data": {
      "text/plain": [
       "array([[3.67879441e-01, 7.38905610e+00, 2.00855369e+01],\n",
       "       [1.83156389e-02, 1.48413159e+02, 4.03428793e+02],\n",
       "       [1.21196707e+03, 4.44706675e+03, 6.12834951e-05]])"
      ]
     },
     "execution_count": 113,
     "metadata": {},
     "output_type": "execute_result"
    }
   ],
   "source": [
    "# exp\n",
    "np.exp(a2d)"
   ]
  },
  {
   "cell_type": "code",
   "execution_count": 114,
   "metadata": {
    "ExecuteTime": {
     "end_time": "2022-07-21T16:16:08.315581Z",
     "start_time": "2022-07-21T16:16:08.306588Z"
    },
    "execution": {
     "iopub.execute_input": "2023-09-05T04:56:54.672452Z",
     "iopub.status.busy": "2023-09-05T04:56:54.672452Z",
     "iopub.status.idle": "2023-09-05T04:56:54.679289Z",
     "shell.execute_reply": "2023-09-05T04:56:54.678284Z",
     "shell.execute_reply.started": "2023-09-05T04:56:54.672452Z"
    }
   },
   "outputs": [
    {
     "data": {
      "text/plain": [
       "array([[-1. ,  2. ,  3. ],\n",
       "       [-4. ,  5. ,  6. ],\n",
       "       [ 7.1,  8.4, -9.7]])"
      ]
     },
     "execution_count": 114,
     "metadata": {},
     "output_type": "execute_result"
    }
   ],
   "source": [
    "# log\n",
    "# log + exp는 원래대로 반환\n",
    "np.log(np.exp(a2d))"
   ]
  },
  {
   "cell_type": "code",
   "execution_count": 115,
   "metadata": {
    "ExecuteTime": {
     "end_time": "2022-07-21T16:16:08.331581Z",
     "start_time": "2022-07-21T16:16:08.317582Z"
    },
    "execution": {
     "iopub.execute_input": "2023-09-05T04:56:54.680291Z",
     "iopub.status.busy": "2023-09-05T04:56:54.680291Z",
     "iopub.status.idle": "2023-09-05T04:56:54.686246Z",
     "shell.execute_reply": "2023-09-05T04:56:54.686246Z",
     "shell.execute_reply.started": "2023-09-05T04:56:54.680291Z"
    }
   },
   "outputs": [
    {
     "data": {
      "text/plain": [
       "array([[-1.,  1.,  1.],\n",
       "       [-1.,  1.,  1.],\n",
       "       [ 1.,  1., -1.]])"
      ]
     },
     "execution_count": 115,
     "metadata": {},
     "output_type": "execute_result"
    }
   ],
   "source": [
    "# 부호반환\n",
    "np.sign(a2d)"
   ]
  },
  {
   "cell_type": "code",
   "execution_count": 116,
   "metadata": {
    "ExecuteTime": {
     "end_time": "2022-07-21T16:16:08.346582Z",
     "start_time": "2022-07-21T16:16:08.335582Z"
    },
    "execution": {
     "iopub.execute_input": "2023-09-05T04:56:54.688250Z",
     "iopub.status.busy": "2023-09-05T04:56:54.687252Z",
     "iopub.status.idle": "2023-09-05T04:56:54.693478Z",
     "shell.execute_reply": "2023-09-05T04:56:54.693478Z",
     "shell.execute_reply.started": "2023-09-05T04:56:54.688250Z"
    }
   },
   "outputs": [
    {
     "data": {
      "text/plain": [
       "array([[-1.,  2.,  3.],\n",
       "       [-4.,  5.,  6.],\n",
       "       [ 8.,  9., -9.]])"
      ]
     },
     "execution_count": 116,
     "metadata": {},
     "output_type": "execute_result"
    }
   ],
   "source": [
    "# 올림값\n",
    "np.ceil(a2d)"
   ]
  },
  {
   "cell_type": "code",
   "execution_count": 117,
   "metadata": {
    "ExecuteTime": {
     "end_time": "2022-07-21T16:16:08.361581Z",
     "start_time": "2022-07-21T16:16:08.350581Z"
    },
    "execution": {
     "iopub.execute_input": "2023-09-05T04:56:54.695483Z",
     "iopub.status.busy": "2023-09-05T04:56:54.694486Z",
     "iopub.status.idle": "2023-09-05T04:56:54.701704Z",
     "shell.execute_reply": "2023-09-05T04:56:54.700698Z",
     "shell.execute_reply.started": "2023-09-05T04:56:54.695483Z"
    }
   },
   "outputs": [
    {
     "data": {
      "text/plain": [
       "array([[False, False, False],\n",
       "       [False, False, False],\n",
       "       [False, False, False]])"
      ]
     },
     "execution_count": 117,
     "metadata": {},
     "output_type": "execute_result"
    }
   ],
   "source": [
    "# 값이 nan인지 여부\n",
    "np.isnan(a2d)"
   ]
  },
  {
   "cell_type": "code",
   "execution_count": 118,
   "metadata": {
    "ExecuteTime": {
     "end_time": "2022-07-21T16:16:08.377585Z",
     "start_time": "2022-07-21T16:16:08.363582Z"
    },
    "execution": {
     "iopub.execute_input": "2023-09-05T04:56:54.702704Z",
     "iopub.status.busy": "2023-09-05T04:56:54.702704Z",
     "iopub.status.idle": "2023-09-05T04:56:54.708691Z",
     "shell.execute_reply": "2023-09-05T04:56:54.707682Z",
     "shell.execute_reply.started": "2023-09-05T04:56:54.702704Z"
    }
   },
   "outputs": [
    {
     "data": {
      "text/plain": [
       "array([[False, False, False],\n",
       "       [False, False, False],\n",
       "       [False, False, False]])"
      ]
     },
     "execution_count": 118,
     "metadata": {},
     "output_type": "execute_result"
    }
   ],
   "source": [
    "# 값이 infinite인지 여부\n",
    "np.isinf(a2d)"
   ]
  },
  {
   "cell_type": "code",
   "execution_count": 119,
   "metadata": {
    "ExecuteTime": {
     "end_time": "2022-07-21T16:16:08.392582Z",
     "start_time": "2022-07-21T16:16:08.379584Z"
    },
    "execution": {
     "iopub.execute_input": "2023-09-05T04:56:54.709688Z",
     "iopub.status.busy": "2023-09-05T04:56:54.709688Z",
     "iopub.status.idle": "2023-09-05T04:56:54.715680Z",
     "shell.execute_reply": "2023-09-05T04:56:54.714675Z",
     "shell.execute_reply.started": "2023-09-05T04:56:54.709688Z"
    }
   },
   "outputs": [
    {
     "data": {
      "text/plain": [
       "array([[ True,  True,  True],\n",
       "       [ True,  True,  True],\n",
       "       [ True,  True,  True]])"
      ]
     },
     "execution_count": 119,
     "metadata": {},
     "output_type": "execute_result"
    }
   ],
   "source": [
    "# 값이 유한값인지 여부\n",
    "np.isfinite(a2d)"
   ]
  },
  {
   "cell_type": "code",
   "execution_count": 120,
   "metadata": {
    "ExecuteTime": {
     "end_time": "2022-07-21T16:16:08.407582Z",
     "start_time": "2022-07-21T16:16:08.395582Z"
    },
    "execution": {
     "iopub.execute_input": "2023-09-05T04:56:54.716679Z",
     "iopub.status.busy": "2023-09-05T04:56:54.716679Z",
     "iopub.status.idle": "2023-09-05T04:56:54.722382Z",
     "shell.execute_reply": "2023-09-05T04:56:54.721378Z",
     "shell.execute_reply.started": "2023-09-05T04:56:54.716679Z"
    }
   },
   "outputs": [
    {
     "data": {
      "text/plain": [
       "array([[ 0.54030231, -0.41614684, -0.9899925 ],\n",
       "       [-0.65364362,  0.28366219,  0.96017029],\n",
       "       [ 0.68454667, -0.51928865, -0.96236488]])"
      ]
     },
     "execution_count": 120,
     "metadata": {},
     "output_type": "execute_result"
    }
   ],
   "source": [
    "# cosine\n",
    "np.cos(a2d)"
   ]
  },
  {
   "cell_type": "code",
   "execution_count": 121,
   "metadata": {
    "ExecuteTime": {
     "end_time": "2022-07-21T16:16:08.422582Z",
     "start_time": "2022-07-21T16:16:08.409590Z"
    },
    "execution": {
     "iopub.execute_input": "2023-09-05T04:56:54.723382Z",
     "iopub.status.busy": "2023-09-05T04:56:54.723382Z",
     "iopub.status.idle": "2023-09-05T04:56:54.729778Z",
     "shell.execute_reply": "2023-09-05T04:56:54.728772Z",
     "shell.execute_reply.started": "2023-09-05T04:56:54.723382Z"
    }
   },
   "outputs": [
    {
     "data": {
      "text/plain": [
       "array([[-1.55740772, -2.18503986, -0.14254654],\n",
       "       [-1.15782128, -3.38051501, -0.29100619],\n",
       "       [ 1.06489313, -1.64571073, -0.28238835]])"
      ]
     },
     "execution_count": 121,
     "metadata": {},
     "output_type": "execute_result"
    }
   ],
   "source": [
    "# tangent\n",
    "np.tan(a2d)"
   ]
  },
  {
   "cell_type": "code",
   "execution_count": 122,
   "metadata": {
    "ExecuteTime": {
     "end_time": "2022-07-21T16:16:08.438581Z",
     "start_time": "2022-07-21T16:16:08.425592Z"
    },
    "execution": {
     "iopub.execute_input": "2023-09-05T04:56:54.730776Z",
     "iopub.status.busy": "2023-09-05T04:56:54.729778Z",
     "iopub.status.idle": "2023-09-05T04:56:54.737750Z",
     "shell.execute_reply": "2023-09-05T04:56:54.737750Z",
     "shell.execute_reply.started": "2023-09-05T04:56:54.730776Z"
    }
   },
   "outputs": [
    {
     "data": {
      "text/plain": [
       "array([[-1. ,  2. ,  3. ],\n",
       "       [-4. ,  5. ,  6. ],\n",
       "       [ 7.1,  8.4, -9.7]])"
      ]
     },
     "metadata": {},
     "output_type": "display_data"
    },
    {
     "data": {
      "text/plain": [
       "array([[1, 2, 3],\n",
       "       [4, 5, 6],\n",
       "       [7, 8, 9]])"
      ]
     },
     "metadata": {},
     "output_type": "display_data"
    }
   ],
   "source": [
    "b2d = np.array([[1,2,3],[4,5,6],[7,8,9]])\n",
    "display(a2d, b2d)"
   ]
  },
  {
   "cell_type": "code",
   "execution_count": 123,
   "metadata": {
    "ExecuteTime": {
     "end_time": "2022-07-21T16:16:08.454582Z",
     "start_time": "2022-07-21T16:16:08.441583Z"
    },
    "execution": {
     "iopub.execute_input": "2023-09-05T04:56:54.739754Z",
     "iopub.status.busy": "2023-09-05T04:56:54.738754Z",
     "iopub.status.idle": "2023-09-05T04:56:54.745874Z",
     "shell.execute_reply": "2023-09-05T04:56:54.744867Z",
     "shell.execute_reply.started": "2023-09-05T04:56:54.739754Z"
    }
   },
   "outputs": [
    {
     "data": {
      "text/plain": [
       "array([[ 0. ,  4. ,  6. ],\n",
       "       [ 0. , 10. , 12. ],\n",
       "       [14.1, 16.4, -0.7]])"
      ]
     },
     "execution_count": 123,
     "metadata": {},
     "output_type": "execute_result"
    }
   ],
   "source": [
    "# 2개의 행렬 더하기\n",
    "np.add(a2d, b2d)"
   ]
  },
  {
   "cell_type": "code",
   "execution_count": 124,
   "metadata": {
    "ExecuteTime": {
     "end_time": "2022-07-21T16:16:08.469580Z",
     "start_time": "2022-07-21T16:16:08.456583Z"
    },
    "execution": {
     "iopub.execute_input": "2023-09-05T04:56:54.746878Z",
     "iopub.status.busy": "2023-09-05T04:56:54.745874Z",
     "iopub.status.idle": "2023-09-05T04:56:54.751534Z",
     "shell.execute_reply": "2023-09-05T04:56:54.751534Z",
     "shell.execute_reply.started": "2023-09-05T04:56:54.746878Z"
    }
   },
   "outputs": [
    {
     "data": {
      "text/plain": [
       "array([[ -1. ,   4. ,   9. ],\n",
       "       [-16. ,  25. ,  36. ],\n",
       "       [ 49.7,  67.2, -87.3]])"
      ]
     },
     "execution_count": 124,
     "metadata": {},
     "output_type": "execute_result"
    }
   ],
   "source": [
    "# 2개의 행렬 곱하기\n",
    "np.multiply(a2d, b2d)"
   ]
  },
  {
   "cell_type": "code",
   "execution_count": 125,
   "metadata": {
    "ExecuteTime": {
     "end_time": "2022-07-21T16:16:08.484581Z",
     "start_time": "2022-07-21T16:16:08.472581Z"
    },
    "execution": {
     "iopub.execute_input": "2023-09-05T04:56:54.753547Z",
     "iopub.status.busy": "2023-09-05T04:56:54.752553Z",
     "iopub.status.idle": "2023-09-05T04:56:54.758341Z",
     "shell.execute_reply": "2023-09-05T04:56:54.758341Z",
     "shell.execute_reply.started": "2023-09-05T04:56:54.753547Z"
    }
   },
   "outputs": [
    {
     "data": {
      "text/plain": [
       "array([[-1.00000000e+00,  4.00000000e+00,  2.70000000e+01],\n",
       "       [ 2.56000000e+02,  3.12500000e+03,  4.66560000e+04],\n",
       "       [ 9.09512016e+05,  2.47875891e+07, -7.60231059e+08]])"
      ]
     },
     "execution_count": 125,
     "metadata": {},
     "output_type": "execute_result"
    }
   ],
   "source": [
    "# 2개의 행렬 제곱\n",
    "np.power(a2d, b2d)"
   ]
  },
  {
   "cell_type": "code",
   "execution_count": 126,
   "metadata": {
    "ExecuteTime": {
     "end_time": "2022-07-21T16:16:08.500581Z",
     "start_time": "2022-07-21T16:16:08.487584Z"
    },
    "execution": {
     "iopub.execute_input": "2023-09-05T04:56:54.759350Z",
     "iopub.status.busy": "2023-09-05T04:56:54.759350Z",
     "iopub.status.idle": "2023-09-05T04:56:54.764789Z",
     "shell.execute_reply": "2023-09-05T04:56:54.764789Z",
     "shell.execute_reply.started": "2023-09-05T04:56:54.759350Z"
    }
   },
   "outputs": [
    {
     "data": {
      "text/plain": [
       "array([[ True, False, False],\n",
       "       [ True, False, False],\n",
       "       [False, False,  True]])"
      ]
     },
     "execution_count": 126,
     "metadata": {},
     "output_type": "execute_result"
    }
   ],
   "source": [
    "# 2개의 행렬 요소별 비교\n",
    "np.greater(b2d, a2d)"
   ]
  },
  {
   "cell_type": "markdown",
   "metadata": {
    "ExecuteTime": {
     "end_time": "2019-02-22T08:46:44.847002Z",
     "start_time": "2019-02-22T08:46:44.843004Z"
    }
   },
   "source": [
    "### Array 통계 연산"
   ]
  },
  {
   "cell_type": "code",
   "execution_count": 127,
   "metadata": {
    "ExecuteTime": {
     "end_time": "2022-07-21T16:16:08.515580Z",
     "start_time": "2022-07-21T16:16:08.503581Z"
    },
    "execution": {
     "iopub.execute_input": "2023-09-05T04:56:54.766797Z",
     "iopub.status.busy": "2023-09-05T04:56:54.765798Z",
     "iopub.status.idle": "2023-09-05T04:56:54.773051Z",
     "shell.execute_reply": "2023-09-05T04:56:54.772047Z",
     "shell.execute_reply.started": "2023-09-05T04:56:54.766797Z"
    }
   },
   "outputs": [
    {
     "data": {
      "text/plain": [
       "array([[-1,  2,  3],\n",
       "       [-4,  5,  6],\n",
       "       [ 7,  8, -9]])"
      ]
     },
     "execution_count": 127,
     "metadata": {},
     "output_type": "execute_result"
    }
   ],
   "source": [
    "a2d = np.array([[-1,2,3],[-4,5,6],[7,8,-9]])\n",
    "a2d"
   ]
  },
  {
   "cell_type": "code",
   "execution_count": 128,
   "metadata": {
    "ExecuteTime": {
     "end_time": "2022-07-21T16:16:08.530581Z",
     "start_time": "2022-07-21T16:16:08.517581Z"
    },
    "execution": {
     "iopub.execute_input": "2023-09-05T04:56:54.774056Z",
     "iopub.status.busy": "2023-09-05T04:56:54.773051Z",
     "iopub.status.idle": "2023-09-05T04:56:54.779512Z",
     "shell.execute_reply": "2023-09-05T04:56:54.778507Z",
     "shell.execute_reply.started": "2023-09-05T04:56:54.774056Z"
    }
   },
   "outputs": [
    {
     "data": {
      "text/plain": [
       "array([[ 1,  4,  5],\n",
       "       [-2,  7,  8],\n",
       "       [ 9, 10, -7]])"
      ]
     },
     "execution_count": 128,
     "metadata": {},
     "output_type": "execute_result"
    }
   ],
   "source": [
    "# 요소별 더하기\n",
    "a2d + 2"
   ]
  },
  {
   "cell_type": "code",
   "execution_count": 129,
   "metadata": {
    "ExecuteTime": {
     "end_time": "2022-07-21T16:16:08.546579Z",
     "start_time": "2022-07-21T16:16:08.533581Z"
    },
    "execution": {
     "iopub.execute_input": "2023-09-05T04:56:54.780511Z",
     "iopub.status.busy": "2023-09-05T04:56:54.780511Z",
     "iopub.status.idle": "2023-09-05T04:56:54.786838Z",
     "shell.execute_reply": "2023-09-05T04:56:54.785834Z",
     "shell.execute_reply.started": "2023-09-05T04:56:54.780511Z"
    }
   },
   "outputs": [
    {
     "data": {
      "text/plain": [
       "array([[ -2,   4,   6],\n",
       "       [ -8,  10,  12],\n",
       "       [ 14,  16, -18]])"
      ]
     },
     "execution_count": 129,
     "metadata": {},
     "output_type": "execute_result"
    }
   ],
   "source": [
    "# 요소별 곱하기\n",
    "a2d * 2"
   ]
  },
  {
   "cell_type": "code",
   "execution_count": 130,
   "metadata": {
    "ExecuteTime": {
     "end_time": "2022-07-21T16:16:08.561582Z",
     "start_time": "2022-07-21T16:16:08.548584Z"
    },
    "execution": {
     "iopub.execute_input": "2023-09-05T04:56:54.787838Z",
     "iopub.status.busy": "2023-09-05T04:56:54.786838Z",
     "iopub.status.idle": "2023-09-05T04:56:54.792704Z",
     "shell.execute_reply": "2023-09-05T04:56:54.792704Z",
     "shell.execute_reply.started": "2023-09-05T04:56:54.787838Z"
    }
   },
   "outputs": [
    {
     "data": {
      "text/plain": [
       "dtype('int32')"
      ]
     },
     "execution_count": 130,
     "metadata": {},
     "output_type": "execute_result"
    }
   ],
   "source": [
    "# 값의 형태 확인\n",
    "a2d.dtype"
   ]
  },
  {
   "cell_type": "code",
   "execution_count": 131,
   "metadata": {
    "ExecuteTime": {
     "end_time": "2022-07-21T16:16:08.577581Z",
     "start_time": "2022-07-21T16:16:08.563582Z"
    },
    "execution": {
     "iopub.execute_input": "2023-09-05T04:56:54.793708Z",
     "iopub.status.busy": "2023-09-05T04:56:54.793708Z",
     "iopub.status.idle": "2023-09-05T04:56:54.798094Z",
     "shell.execute_reply": "2023-09-05T04:56:54.798094Z",
     "shell.execute_reply.started": "2023-09-05T04:56:54.793708Z"
    }
   },
   "outputs": [
    {
     "data": {
      "text/plain": [
       "(3, 3)"
      ]
     },
     "execution_count": 131,
     "metadata": {},
     "output_type": "execute_result"
    }
   ],
   "source": [
    "# 행렬의 크기 확인\n",
    "a2d.shape"
   ]
  },
  {
   "cell_type": "code",
   "execution_count": 132,
   "metadata": {
    "ExecuteTime": {
     "end_time": "2022-07-21T16:16:08.592584Z",
     "start_time": "2022-07-21T16:16:08.579581Z"
    },
    "execution": {
     "iopub.execute_input": "2023-09-05T04:56:54.799101Z",
     "iopub.status.busy": "2023-09-05T04:56:54.799101Z",
     "iopub.status.idle": "2023-09-05T04:56:54.804699Z",
     "shell.execute_reply": "2023-09-05T04:56:54.803694Z",
     "shell.execute_reply.started": "2023-09-05T04:56:54.799101Z"
    }
   },
   "outputs": [
    {
     "data": {
      "text/plain": [
       "2"
      ]
     },
     "execution_count": 132,
     "metadata": {},
     "output_type": "execute_result"
    }
   ],
   "source": [
    "# 행렬(데이터) 차원 확인\n",
    "# 데이터가 존재하는 축방향이 늘어나면 차원수도 늘어남\n",
    "a2d.ndim"
   ]
  },
  {
   "cell_type": "code",
   "execution_count": 133,
   "metadata": {
    "ExecuteTime": {
     "end_time": "2022-07-21T16:16:08.608580Z",
     "start_time": "2022-07-21T16:16:08.597579Z"
    },
    "execution": {
     "iopub.execute_input": "2023-09-05T04:56:54.805698Z",
     "iopub.status.busy": "2023-09-05T04:56:54.804699Z",
     "iopub.status.idle": "2023-09-05T04:56:54.810532Z",
     "shell.execute_reply": "2023-09-05T04:56:54.810532Z",
     "shell.execute_reply.started": "2023-09-05T04:56:54.805698Z"
    }
   },
   "outputs": [
    {
     "data": {
      "text/plain": [
       "2"
      ]
     },
     "execution_count": 133,
     "metadata": {},
     "output_type": "execute_result"
    }
   ],
   "source": [
    "# 행렬 차원 확인\n",
    "# 함수사용하여 확인 가능\n",
    "np.ndim(a2d)"
   ]
  },
  {
   "cell_type": "code",
   "execution_count": 134,
   "metadata": {
    "ExecuteTime": {
     "end_time": "2022-07-21T16:16:08.624580Z",
     "start_time": "2022-07-21T16:16:08.610581Z"
    },
    "execution": {
     "iopub.execute_input": "2023-09-05T04:56:54.812540Z",
     "iopub.status.busy": "2023-09-05T04:56:54.811538Z",
     "iopub.status.idle": "2023-09-05T04:56:54.818523Z",
     "shell.execute_reply": "2023-09-05T04:56:54.817518Z",
     "shell.execute_reply.started": "2023-09-05T04:56:54.812540Z"
    }
   },
   "outputs": [
    {
     "data": {
      "text/plain": [
       "array([[-1, -4,  7],\n",
       "       [ 2,  5,  8],\n",
       "       [ 3,  6, -9]])"
      ]
     },
     "execution_count": 134,
     "metadata": {},
     "output_type": "execute_result"
    }
   ],
   "source": [
    "# 전치행렬: 대각선 기준 회전\n",
    "a2d.T"
   ]
  },
  {
   "cell_type": "code",
   "execution_count": 135,
   "metadata": {
    "ExecuteTime": {
     "end_time": "2022-07-21T16:16:08.639581Z",
     "start_time": "2022-07-21T16:16:08.627586Z"
    },
    "execution": {
     "iopub.execute_input": "2023-09-05T04:56:54.819524Z",
     "iopub.status.busy": "2023-09-05T04:56:54.819524Z",
     "iopub.status.idle": "2023-09-05T04:56:54.825614Z",
     "shell.execute_reply": "2023-09-05T04:56:54.824607Z",
     "shell.execute_reply.started": "2023-09-05T04:56:54.819524Z"
    }
   },
   "outputs": [
    {
     "data": {
      "text/plain": [
       "array([[-1, -4,  7],\n",
       "       [ 2,  5,  8],\n",
       "       [ 3,  6, -9]])"
      ]
     },
     "execution_count": 135,
     "metadata": {},
     "output_type": "execute_result"
    }
   ],
   "source": [
    "# 전치행렬: 대각선 기준 회전\n",
    "# 함수사용 변환가능\n",
    "np.transpose(a2d)"
   ]
  },
  {
   "cell_type": "code",
   "execution_count": 136,
   "metadata": {
    "ExecuteTime": {
     "end_time": "2022-07-21T16:16:08.655583Z",
     "start_time": "2022-07-21T16:16:08.641586Z"
    },
    "execution": {
     "iopub.execute_input": "2023-09-05T04:56:54.826612Z",
     "iopub.status.busy": "2023-09-05T04:56:54.826612Z",
     "iopub.status.idle": "2023-09-05T04:56:54.831899Z",
     "shell.execute_reply": "2023-09-05T04:56:54.831899Z",
     "shell.execute_reply.started": "2023-09-05T04:56:54.826612Z"
    }
   },
   "outputs": [
    {
     "data": {
      "text/plain": [
       "array([ 2, 15,  0])"
      ]
     },
     "execution_count": 136,
     "metadata": {},
     "output_type": "execute_result"
    }
   ],
   "source": [
    "# 세로로 더하기\n",
    "np.sum(a2d, axis=0)"
   ]
  },
  {
   "cell_type": "code",
   "execution_count": 137,
   "metadata": {
    "ExecuteTime": {
     "end_time": "2022-07-21T16:16:08.670582Z",
     "start_time": "2022-07-21T16:16:08.658585Z"
    },
    "execution": {
     "iopub.execute_input": "2023-09-05T04:56:54.833904Z",
     "iopub.status.busy": "2023-09-05T04:56:54.832904Z",
     "iopub.status.idle": "2023-09-05T04:56:54.839759Z",
     "shell.execute_reply": "2023-09-05T04:56:54.838754Z",
     "shell.execute_reply.started": "2023-09-05T04:56:54.833904Z"
    }
   },
   "outputs": [
    {
     "data": {
      "text/plain": [
       "array([4, 7, 6])"
      ]
     },
     "execution_count": 137,
     "metadata": {},
     "output_type": "execute_result"
    }
   ],
   "source": [
    "# 가로로 더하기\n",
    "np.sum(a2d, axis=1)"
   ]
  },
  {
   "cell_type": "code",
   "execution_count": 138,
   "metadata": {
    "ExecuteTime": {
     "end_time": "2022-07-21T16:16:08.685580Z",
     "start_time": "2022-07-21T16:16:08.672582Z"
    },
    "execution": {
     "iopub.execute_input": "2023-09-05T04:56:54.840759Z",
     "iopub.status.busy": "2023-09-05T04:56:54.840759Z",
     "iopub.status.idle": "2023-09-05T04:56:54.847144Z",
     "shell.execute_reply": "2023-09-05T04:56:54.846140Z",
     "shell.execute_reply.started": "2023-09-05T04:56:54.840759Z"
    }
   },
   "outputs": [
    {
     "data": {
      "text/plain": [
       "17"
      ]
     },
     "execution_count": 138,
     "metadata": {},
     "output_type": "execute_result"
    }
   ],
   "source": [
    "# 전체 더하기\n",
    "np.sum(a2d)"
   ]
  },
  {
   "cell_type": "code",
   "execution_count": 139,
   "metadata": {
    "ExecuteTime": {
     "end_time": "2022-07-21T16:16:08.700582Z",
     "start_time": "2022-07-21T16:16:08.687582Z"
    },
    "execution": {
     "iopub.execute_input": "2023-09-05T04:56:54.848144Z",
     "iopub.status.busy": "2023-09-05T04:56:54.848144Z",
     "iopub.status.idle": "2023-09-05T04:56:54.853914Z",
     "shell.execute_reply": "2023-09-05T04:56:54.853914Z",
     "shell.execute_reply.started": "2023-09-05T04:56:54.848144Z"
    }
   },
   "outputs": [
    {
     "data": {
      "text/plain": [
       "array([[-1,  2,  3],\n",
       "       [-4,  5,  6],\n",
       "       [ 7,  8, -9]])"
      ]
     },
     "execution_count": 139,
     "metadata": {},
     "output_type": "execute_result"
    }
   ],
   "source": [
    "a2d"
   ]
  },
  {
   "cell_type": "code",
   "execution_count": 140,
   "metadata": {
    "ExecuteTime": {
     "end_time": "2022-07-21T16:16:08.715595Z",
     "start_time": "2022-07-21T16:16:08.703582Z"
    },
    "execution": {
     "iopub.execute_input": "2023-09-05T04:56:54.855924Z",
     "iopub.status.busy": "2023-09-05T04:56:54.854931Z",
     "iopub.status.idle": "2023-09-05T04:56:54.861981Z",
     "shell.execute_reply": "2023-09-05T04:56:54.860962Z",
     "shell.execute_reply.started": "2023-09-05T04:56:54.855924Z"
    }
   },
   "outputs": [
    {
     "data": {
      "text/plain": [
       "array([-1,  1,  4,  0,  5, 11, 18, 26, 17])"
      ]
     },
     "execution_count": 140,
     "metadata": {},
     "output_type": "execute_result"
    }
   ],
   "source": [
    "# 누적합\n",
    "np.cumsum(a2d)"
   ]
  },
  {
   "cell_type": "code",
   "execution_count": 141,
   "metadata": {
    "ExecuteTime": {
     "end_time": "2022-07-21T16:16:08.731580Z",
     "start_time": "2022-07-21T16:16:08.718582Z"
    },
    "execution": {
     "iopub.execute_input": "2023-09-05T04:56:54.862975Z",
     "iopub.status.busy": "2023-09-05T04:56:54.861981Z",
     "iopub.status.idle": "2023-09-05T04:56:54.868013Z",
     "shell.execute_reply": "2023-09-05T04:56:54.867002Z",
     "shell.execute_reply.started": "2023-09-05T04:56:54.862975Z"
    }
   },
   "outputs": [
    {
     "data": {
      "text/plain": [
       "-362880"
      ]
     },
     "execution_count": 141,
     "metadata": {},
     "output_type": "execute_result"
    }
   ],
   "source": [
    "# 곱하기\n",
    "np.prod(a2d)"
   ]
  },
  {
   "cell_type": "code",
   "execution_count": 142,
   "metadata": {
    "ExecuteTime": {
     "end_time": "2022-07-21T16:16:08.746580Z",
     "start_time": "2022-07-21T16:16:08.733582Z"
    },
    "execution": {
     "iopub.execute_input": "2023-09-05T04:56:54.869015Z",
     "iopub.status.busy": "2023-09-05T04:56:54.869015Z",
     "iopub.status.idle": "2023-09-05T04:56:54.873393Z",
     "shell.execute_reply": "2023-09-05T04:56:54.873393Z",
     "shell.execute_reply.started": "2023-09-05T04:56:54.869015Z"
    }
   },
   "outputs": [
    {
     "data": {
      "text/plain": [
       "array([  28,   80, -162])"
      ]
     },
     "execution_count": 142,
     "metadata": {},
     "output_type": "execute_result"
    }
   ],
   "source": [
    "# 세로로 곱하기\n",
    "np.prod(a2d, axis=0)"
   ]
  },
  {
   "cell_type": "code",
   "execution_count": 143,
   "metadata": {
    "ExecuteTime": {
     "end_time": "2022-07-21T16:16:08.761582Z",
     "start_time": "2022-07-21T16:16:08.747583Z"
    },
    "execution": {
     "iopub.execute_input": "2023-09-05T04:56:54.875402Z",
     "iopub.status.busy": "2023-09-05T04:56:54.874403Z",
     "iopub.status.idle": "2023-09-05T04:56:54.880812Z",
     "shell.execute_reply": "2023-09-05T04:56:54.879800Z",
     "shell.execute_reply.started": "2023-09-05T04:56:54.875402Z"
    }
   },
   "outputs": [
    {
     "data": {
      "text/plain": [
       "array([  -6, -120, -504])"
      ]
     },
     "execution_count": 143,
     "metadata": {},
     "output_type": "execute_result"
    }
   ],
   "source": [
    "# 가로로 곱하기\n",
    "np.prod(a2d, axis=1)"
   ]
  },
  {
   "cell_type": "code",
   "execution_count": 144,
   "metadata": {
    "ExecuteTime": {
     "end_time": "2022-07-21T16:16:08.777581Z",
     "start_time": "2022-07-21T16:16:08.763583Z"
    },
    "execution": {
     "iopub.execute_input": "2023-09-05T04:56:54.881809Z",
     "iopub.status.busy": "2023-09-05T04:56:54.880812Z",
     "iopub.status.idle": "2023-09-05T04:56:54.885484Z",
     "shell.execute_reply": "2023-09-05T04:56:54.885484Z",
     "shell.execute_reply.started": "2023-09-05T04:56:54.881809Z"
    }
   },
   "outputs": [
    {
     "data": {
      "text/plain": [
       "array([     -1,      -2,      -6,      24,     120,     720,    5040,\n",
       "         40320, -362880])"
      ]
     },
     "execution_count": 144,
     "metadata": {},
     "output_type": "execute_result"
    }
   ],
   "source": [
    "# 누적 곱하기\n",
    "np.cumprod(a2d)"
   ]
  },
  {
   "cell_type": "code",
   "execution_count": 145,
   "metadata": {
    "ExecuteTime": {
     "end_time": "2022-07-21T16:16:08.792594Z",
     "start_time": "2022-07-21T16:16:08.778582Z"
    },
    "execution": {
     "iopub.execute_input": "2023-09-05T04:56:54.886493Z",
     "iopub.status.busy": "2023-09-05T04:56:54.886493Z",
     "iopub.status.idle": "2023-09-05T04:56:54.891830Z",
     "shell.execute_reply": "2023-09-05T04:56:54.890821Z",
     "shell.execute_reply.started": "2023-09-05T04:56:54.886493Z"
    }
   },
   "outputs": [
    {
     "data": {
      "text/plain": [
       "array([[  -1,    2,    3],\n",
       "       [   4,   10,   18],\n",
       "       [  28,   80, -162]])"
      ]
     },
     "execution_count": 145,
     "metadata": {},
     "output_type": "execute_result"
    }
   ],
   "source": [
    "# 세로로 누적 곱하기\n",
    "np.cumprod(a2d, axis=0)"
   ]
  },
  {
   "cell_type": "code",
   "execution_count": 146,
   "metadata": {
    "ExecuteTime": {
     "end_time": "2022-07-21T16:16:08.808580Z",
     "start_time": "2022-07-21T16:16:08.795581Z"
    },
    "execution": {
     "iopub.execute_input": "2023-09-05T04:56:54.892828Z",
     "iopub.status.busy": "2023-09-05T04:56:54.892828Z",
     "iopub.status.idle": "2023-09-05T04:56:54.899314Z",
     "shell.execute_reply": "2023-09-05T04:56:54.898306Z",
     "shell.execute_reply.started": "2023-09-05T04:56:54.892828Z"
    }
   },
   "outputs": [
    {
     "data": {
      "text/plain": [
       "array([[  -1,   -2,   -6],\n",
       "       [  -4,  -20, -120],\n",
       "       [   7,   56, -504]])"
      ]
     },
     "execution_count": 146,
     "metadata": {},
     "output_type": "execute_result"
    }
   ],
   "source": [
    "# 가로로 누적 곱하기\n",
    "np.cumprod(a2d, axis=1)"
   ]
  },
  {
   "cell_type": "code",
   "execution_count": 147,
   "metadata": {
    "ExecuteTime": {
     "end_time": "2022-07-21T16:16:08.824579Z",
     "start_time": "2022-07-21T16:16:08.811581Z"
    },
    "execution": {
     "iopub.execute_input": "2023-09-05T04:56:54.900318Z",
     "iopub.status.busy": "2023-09-05T04:56:54.899314Z",
     "iopub.status.idle": "2023-09-05T04:56:54.906155Z",
     "shell.execute_reply": "2023-09-05T04:56:54.905147Z",
     "shell.execute_reply.started": "2023-09-05T04:56:54.900318Z"
    }
   },
   "outputs": [
    {
     "data": {
      "text/plain": [
       "array([0.66666667, 5.        , 0.        ])"
      ]
     },
     "execution_count": 147,
     "metadata": {},
     "output_type": "execute_result"
    }
   ],
   "source": [
    "# 세로로 평균\n",
    "np.mean(a2d, axis=0)"
   ]
  },
  {
   "cell_type": "code",
   "execution_count": 148,
   "metadata": {
    "ExecuteTime": {
     "end_time": "2022-07-21T16:16:08.841591Z",
     "start_time": "2022-07-21T16:16:08.828582Z"
    },
    "execution": {
     "iopub.execute_input": "2023-09-05T04:56:54.907155Z",
     "iopub.status.busy": "2023-09-05T04:56:54.906155Z",
     "iopub.status.idle": "2023-09-05T04:56:54.911521Z",
     "shell.execute_reply": "2023-09-05T04:56:54.911521Z",
     "shell.execute_reply.started": "2023-09-05T04:56:54.907155Z"
    }
   },
   "outputs": [
    {
     "data": {
      "text/plain": [
       "1.8888888888888888"
      ]
     },
     "execution_count": 148,
     "metadata": {},
     "output_type": "execute_result"
    }
   ],
   "source": [
    "# 전체 평균\n",
    "np.mean(a2d)"
   ]
  },
  {
   "cell_type": "code",
   "execution_count": 149,
   "metadata": {
    "ExecuteTime": {
     "end_time": "2022-07-21T16:16:08.855581Z",
     "start_time": "2022-07-21T16:16:08.847583Z"
    },
    "execution": {
     "iopub.execute_input": "2023-09-05T04:56:54.913526Z",
     "iopub.status.busy": "2023-09-05T04:56:54.912526Z",
     "iopub.status.idle": "2023-09-05T04:56:54.919963Z",
     "shell.execute_reply": "2023-09-05T04:56:54.918958Z",
     "shell.execute_reply.started": "2023-09-05T04:56:54.913526Z"
    }
   },
   "outputs": [
    {
     "data": {
      "text/plain": [
       "array([4.64279609, 2.44948974, 6.4807407 ])"
      ]
     },
     "execution_count": 149,
     "metadata": {},
     "output_type": "execute_result"
    }
   ],
   "source": [
    "# 세로로 표준편차\n",
    "np.std(a2d, axis=0)"
   ]
  },
  {
   "cell_type": "code",
   "execution_count": 150,
   "metadata": {
    "ExecuteTime": {
     "end_time": "2022-07-21T16:16:08.901582Z",
     "start_time": "2022-07-21T16:16:08.862592Z"
    },
    "execution": {
     "iopub.execute_input": "2023-09-05T04:56:54.920964Z",
     "iopub.status.busy": "2023-09-05T04:56:54.920964Z",
     "iopub.status.idle": "2023-09-05T04:56:54.927199Z",
     "shell.execute_reply": "2023-09-05T04:56:54.926194Z",
     "shell.execute_reply.started": "2023-09-05T04:56:54.920964Z"
    }
   },
   "outputs": [
    {
     "data": {
      "text/plain": [
       "5.30082686305625"
      ]
     },
     "execution_count": 150,
     "metadata": {},
     "output_type": "execute_result"
    }
   ],
   "source": [
    "# 전체 표준편차\n",
    "np.std(a2d)"
   ]
  },
  {
   "cell_type": "code",
   "execution_count": 151,
   "metadata": {
    "ExecuteTime": {
     "end_time": "2022-07-21T16:16:08.915582Z",
     "start_time": "2022-07-21T16:16:08.903582Z"
    },
    "execution": {
     "iopub.execute_input": "2023-09-05T04:56:54.928199Z",
     "iopub.status.busy": "2023-09-05T04:56:54.928199Z",
     "iopub.status.idle": "2023-09-05T04:56:54.934209Z",
     "shell.execute_reply": "2023-09-05T04:56:54.934209Z",
     "shell.execute_reply.started": "2023-09-05T04:56:54.928199Z"
    }
   },
   "outputs": [
    {
     "data": {
      "text/plain": [
       "array([21.55555556,  6.        , 42.        ])"
      ]
     },
     "execution_count": 151,
     "metadata": {},
     "output_type": "execute_result"
    }
   ],
   "source": [
    "# 세로로 분산\n",
    "np.var(a2d, axis=0)"
   ]
  },
  {
   "cell_type": "code",
   "execution_count": 152,
   "metadata": {
    "ExecuteTime": {
     "end_time": "2022-07-21T16:16:08.931580Z",
     "start_time": "2022-07-21T16:16:08.917581Z"
    },
    "execution": {
     "iopub.execute_input": "2023-09-05T04:56:54.936214Z",
     "iopub.status.busy": "2023-09-05T04:56:54.935214Z",
     "iopub.status.idle": "2023-09-05T04:56:54.941101Z",
     "shell.execute_reply": "2023-09-05T04:56:54.941101Z",
     "shell.execute_reply.started": "2023-09-05T04:56:54.936214Z"
    }
   },
   "outputs": [
    {
     "data": {
      "text/plain": [
       "array([-4,  2, -9])"
      ]
     },
     "execution_count": 152,
     "metadata": {},
     "output_type": "execute_result"
    }
   ],
   "source": [
    "# 세로로 최소값\n",
    "# 실제로 많이 사용\n",
    "np.min(a2d, axis=0)"
   ]
  },
  {
   "cell_type": "code",
   "execution_count": 153,
   "metadata": {
    "ExecuteTime": {
     "end_time": "2022-07-21T16:16:08.946580Z",
     "start_time": "2022-07-21T16:16:08.932583Z"
    },
    "execution": {
     "iopub.execute_input": "2023-09-05T04:56:54.943107Z",
     "iopub.status.busy": "2023-09-05T04:56:54.942109Z",
     "iopub.status.idle": "2023-09-05T04:56:54.949365Z",
     "shell.execute_reply": "2023-09-05T04:56:54.948358Z",
     "shell.execute_reply.started": "2023-09-05T04:56:54.943107Z"
    }
   },
   "outputs": [
    {
     "data": {
      "text/plain": [
       "array([7, 8, 6])"
      ]
     },
     "execution_count": 153,
     "metadata": {},
     "output_type": "execute_result"
    }
   ],
   "source": [
    "# 세로로 최대값\n",
    "# 실제로 많이 사용\n",
    "np.max(a2d, axis=0)"
   ]
  },
  {
   "cell_type": "code",
   "execution_count": 154,
   "metadata": {
    "ExecuteTime": {
     "end_time": "2022-07-21T16:16:08.961584Z",
     "start_time": "2022-07-21T16:16:08.950581Z"
    },
    "execution": {
     "iopub.execute_input": "2023-09-05T04:56:54.951368Z",
     "iopub.status.busy": "2023-09-05T04:56:54.950364Z",
     "iopub.status.idle": "2023-09-05T04:56:54.956233Z",
     "shell.execute_reply": "2023-09-05T04:56:54.956233Z",
     "shell.execute_reply.started": "2023-09-05T04:56:54.951368Z"
    }
   },
   "outputs": [
    {
     "data": {
      "text/plain": [
       "(-9, 8)"
      ]
     },
     "execution_count": 154,
     "metadata": {},
     "output_type": "execute_result"
    }
   ],
   "source": [
    "# 전체의 최소값과 최대값\n",
    "np.min(a2d), np.max(a2d)"
   ]
  },
  {
   "cell_type": "code",
   "execution_count": 155,
   "metadata": {
    "ExecuteTime": {
     "end_time": "2022-07-21T16:16:08.976583Z",
     "start_time": "2022-07-21T16:16:08.962582Z"
    },
    "execution": {
     "iopub.execute_input": "2023-09-05T04:56:54.958242Z",
     "iopub.status.busy": "2023-09-05T04:56:54.957241Z",
     "iopub.status.idle": "2023-09-05T04:56:54.963040Z",
     "shell.execute_reply": "2023-09-05T04:56:54.963040Z",
     "shell.execute_reply.started": "2023-09-05T04:56:54.958242Z"
    }
   },
   "outputs": [
    {
     "data": {
      "text/plain": [
       "array([1, 0, 2], dtype=int64)"
      ]
     },
     "execution_count": 155,
     "metadata": {},
     "output_type": "execute_result"
    }
   ],
   "source": [
    "# 최소값 인덱스\n",
    "# argmax보다는 덜 쓰이지만 자주 보임\n",
    "# 세로로 가장작은 값의 위치(인덱스)\n",
    "np.argmin(a2d, axis=0)"
   ]
  },
  {
   "cell_type": "code",
   "execution_count": 156,
   "metadata": {
    "ExecuteTime": {
     "end_time": "2022-07-21T16:16:08.991586Z",
     "start_time": "2022-07-21T16:16:08.978582Z"
    },
    "execution": {
     "iopub.execute_input": "2023-09-05T04:56:54.965050Z",
     "iopub.status.busy": "2023-09-05T04:56:54.965050Z",
     "iopub.status.idle": "2023-09-05T04:56:54.971442Z",
     "shell.execute_reply": "2023-09-05T04:56:54.970435Z",
     "shell.execute_reply.started": "2023-09-05T04:56:54.965050Z"
    }
   },
   "outputs": [
    {
     "data": {
      "text/plain": [
       "array([2, 2, 1], dtype=int64)"
      ]
     },
     "execution_count": 156,
     "metadata": {},
     "output_type": "execute_result"
    }
   ],
   "source": [
    "# 자주 사용합니다.\n",
    "# 최대값 존재하고 있는 인덱스 넘버를 리턴\n",
    "# 출력값이 인덱스\n",
    "# 세로로 가장큰 값의 위치(인덱스)\n",
    "np.argmax(a2d, axis=0)"
   ]
  },
  {
   "cell_type": "code",
   "execution_count": 157,
   "metadata": {
    "execution": {
     "iopub.execute_input": "2023-09-05T04:56:54.972440Z",
     "iopub.status.busy": "2023-09-05T04:56:54.972440Z",
     "iopub.status.idle": "2023-09-05T04:56:54.978297Z",
     "shell.execute_reply": "2023-09-05T04:56:54.978297Z",
     "shell.execute_reply.started": "2023-09-05T04:56:54.972440Z"
    }
   },
   "outputs": [
    {
     "data": {
      "text/plain": [
       "array([[-1,  2,  3],\n",
       "       [-5,  7,  9],\n",
       "       [ 2, 15,  0]])"
      ]
     },
     "execution_count": 157,
     "metadata": {},
     "output_type": "execute_result"
    }
   ],
   "source": [
    "# 세로로 누적합\n",
    "np.cumsum(a2d, axis=0)"
   ]
  },
  {
   "cell_type": "code",
   "execution_count": 158,
   "metadata": {
    "execution": {
     "iopub.execute_input": "2023-09-05T04:56:54.980306Z",
     "iopub.status.busy": "2023-09-05T04:56:54.979303Z",
     "iopub.status.idle": "2023-09-05T04:56:54.986842Z",
     "shell.execute_reply": "2023-09-05T04:56:54.985831Z",
     "shell.execute_reply.started": "2023-09-05T04:56:54.980306Z"
    }
   },
   "outputs": [
    {
     "data": {
      "text/plain": [
       "array([[  -1,    2,    3],\n",
       "       [   4,   10,   18],\n",
       "       [  28,   80, -162]])"
      ]
     },
     "execution_count": 158,
     "metadata": {},
     "output_type": "execute_result"
    }
   ],
   "source": [
    "# 세로로 누적곱\n",
    "np.cumprod(a2d, axis=0)"
   ]
  },
  {
   "cell_type": "code",
   "execution_count": 159,
   "metadata": {
    "ExecuteTime": {
     "end_time": "2022-07-21T16:21:12.816576Z",
     "start_time": "2022-07-21T16:21:12.797579Z"
    },
    "execution": {
     "iopub.execute_input": "2023-09-05T04:56:54.987842Z",
     "iopub.status.busy": "2023-09-05T04:56:54.987842Z",
     "iopub.status.idle": "2023-09-05T04:56:54.996662Z",
     "shell.execute_reply": "2023-09-05T04:56:54.995651Z",
     "shell.execute_reply.started": "2023-09-05T04:56:54.987842Z"
    }
   },
   "outputs": [
    {
     "data": {
      "text/plain": [
       "array([[-1,  2,  3],\n",
       "       [-4,  5,  6],\n",
       "       [ 7,  8, -9]])"
      ]
     },
     "metadata": {},
     "output_type": "display_data"
    },
    {
     "data": {
      "text/plain": [
       "array([[1, 2, 3],\n",
       "       [4, 5, 6],\n",
       "       [7, 8, 9]])"
      ]
     },
     "metadata": {},
     "output_type": "display_data"
    }
   ],
   "source": [
    "a2d = np.array([[-1,2,3],[-4,5,6],[7,8,-9]])\n",
    "b2d = np.array([[1,2,3],[4,5,6],[7,8,9]])\n",
    "display(a2d, b2d)"
   ]
  },
  {
   "cell_type": "code",
   "execution_count": 160,
   "metadata": {
    "ExecuteTime": {
     "end_time": "2022-07-21T16:16:09.022582Z",
     "start_time": "2022-07-21T16:16:09.009585Z"
    },
    "execution": {
     "iopub.execute_input": "2023-09-05T04:56:54.997659Z",
     "iopub.status.busy": "2023-09-05T04:56:54.996662Z",
     "iopub.status.idle": "2023-09-05T04:56:55.002219Z",
     "shell.execute_reply": "2023-09-05T04:56:55.002219Z",
     "shell.execute_reply.started": "2023-09-05T04:56:54.997659Z"
    }
   },
   "outputs": [
    {
     "data": {
      "text/plain": [
       "array([[-1,  2,  3],\n",
       "       [-4,  5,  6],\n",
       "       [ 7,  8, -9],\n",
       "       [ 1,  2,  3],\n",
       "       [ 4,  5,  6],\n",
       "       [ 7,  8,  9]])"
      ]
     },
     "execution_count": 160,
     "metadata": {},
     "output_type": "execute_result"
    }
   ],
   "source": [
    "# 세로로 붙이기\n",
    "c2d = np.concatenate((a2d, b2d), axis=0)\n",
    "c2d"
   ]
  },
  {
   "cell_type": "code",
   "execution_count": 161,
   "metadata": {
    "ExecuteTime": {
     "end_time": "2022-07-21T16:21:16.689945Z",
     "start_time": "2022-07-21T16:21:16.681915Z"
    },
    "execution": {
     "iopub.execute_input": "2023-09-05T04:56:55.004228Z",
     "iopub.status.busy": "2023-09-05T04:56:55.003230Z",
     "iopub.status.idle": "2023-09-05T04:56:55.010610Z",
     "shell.execute_reply": "2023-09-05T04:56:55.009603Z",
     "shell.execute_reply.started": "2023-09-05T04:56:55.004228Z"
    }
   },
   "outputs": [
    {
     "data": {
      "text/plain": [
       "array([[-1,  2,  3,  1,  2,  3],\n",
       "       [-4,  5,  6,  4,  5,  6],\n",
       "       [ 7,  8, -9,  7,  8,  9]])"
      ]
     },
     "execution_count": 161,
     "metadata": {},
     "output_type": "execute_result"
    }
   ],
   "source": [
    "# 가로로 붙이기\n",
    "c2d = np.concatenate((a2d, b2d), axis=1)\n",
    "c2d"
   ]
  },
  {
   "cell_type": "code",
   "execution_count": 162,
   "metadata": {
    "ExecuteTime": {
     "end_time": "2022-07-21T16:16:09.052580Z",
     "start_time": "2022-07-21T16:16:09.042582Z"
    },
    "execution": {
     "iopub.execute_input": "2023-09-05T04:56:55.011611Z",
     "iopub.status.busy": "2023-09-05T04:56:55.011611Z",
     "iopub.status.idle": "2023-09-05T04:56:55.017259Z",
     "shell.execute_reply": "2023-09-05T04:56:55.017259Z",
     "shell.execute_reply.started": "2023-09-05T04:56:55.011611Z"
    }
   },
   "outputs": [
    {
     "data": {
      "text/plain": [
       "array([[-1,  2],\n",
       "       [ 3,  1],\n",
       "       [ 2,  3],\n",
       "       [-4,  5],\n",
       "       [ 6,  4],\n",
       "       [ 5,  6],\n",
       "       [ 7,  8],\n",
       "       [-9,  7],\n",
       "       [ 8,  9]])"
      ]
     },
     "execution_count": 162,
     "metadata": {},
     "output_type": "execute_result"
    }
   ],
   "source": [
    "# 크기/형태 변경\n",
    "c2d.reshape((9,2))"
   ]
  },
  {
   "cell_type": "code",
   "execution_count": 163,
   "metadata": {
    "ExecuteTime": {
     "end_time": "2022-07-21T16:21:48.013983Z",
     "start_time": "2022-07-21T16:21:47.995985Z"
    },
    "execution": {
     "iopub.execute_input": "2023-09-05T04:56:55.019267Z",
     "iopub.status.busy": "2023-09-05T04:56:55.018266Z",
     "iopub.status.idle": "2023-09-05T04:56:55.024386Z",
     "shell.execute_reply": "2023-09-05T04:56:55.024386Z",
     "shell.execute_reply.started": "2023-09-05T04:56:55.019267Z"
    }
   },
   "outputs": [
    {
     "data": {
      "text/plain": [
       "array([[-1,  2,  3],\n",
       "       [ 1,  2,  3],\n",
       "       [-4,  5,  6],\n",
       "       [ 4,  5,  6],\n",
       "       [ 7,  8, -9],\n",
       "       [ 7,  8,  9]])"
      ]
     },
     "execution_count": 163,
     "metadata": {},
     "output_type": "execute_result"
    }
   ],
   "source": [
    "# 크기/형태 변경\n",
    "# 함수 사용해서 변경 가능\n",
    "# 어떤 조건에서 reshape가능한가? 데이터 내부에 존재하는 속성 갯수가 같아야 함.\n",
    "np.reshape(c2d, (6,3))"
   ]
  },
  {
   "cell_type": "code",
   "execution_count": 164,
   "metadata": {
    "ExecuteTime": {
     "end_time": "2022-07-21T16:16:09.082606Z",
     "start_time": "2022-07-21T16:16:09.070582Z"
    },
    "execution": {
     "iopub.execute_input": "2023-09-05T04:56:55.026391Z",
     "iopub.status.busy": "2023-09-05T04:56:55.025391Z",
     "iopub.status.idle": "2023-09-05T04:56:55.032275Z",
     "shell.execute_reply": "2023-09-05T04:56:55.032275Z",
     "shell.execute_reply.started": "2023-09-05T04:56:55.026391Z"
    }
   },
   "outputs": [
    {
     "data": {
      "text/plain": [
       "array([[ 1,  2,  3,  4],\n",
       "       [ 5,  6,  7,  8],\n",
       "       [ 9, 10, 11, 12],\n",
       "       [13, 14, 15, 16]])"
      ]
     },
     "execution_count": 164,
     "metadata": {},
     "output_type": "execute_result"
    }
   ],
   "source": [
    "a2d = np.array([[1, 2, 3, 4], [5, 6, 7, 8], [9, 10, 11, 12], [13 ,14 ,15, 16]])\n",
    "a2d"
   ]
  },
  {
   "cell_type": "code",
   "execution_count": 165,
   "metadata": {
    "ExecuteTime": {
     "end_time": "2022-07-21T16:16:09.113591Z",
     "start_time": "2022-07-21T16:16:09.087583Z"
    },
    "execution": {
     "iopub.execute_input": "2023-09-05T04:56:55.034285Z",
     "iopub.status.busy": "2023-09-05T04:56:55.033280Z",
     "iopub.status.idle": "2023-09-05T04:56:55.039676Z",
     "shell.execute_reply": "2023-09-05T04:56:55.039676Z",
     "shell.execute_reply.started": "2023-09-05T04:56:55.034285Z"
    }
   },
   "outputs": [
    {
     "data": {
      "text/plain": [
       "[array([[1, 2, 3, 4],\n",
       "        [5, 6, 7, 8]]),\n",
       " array([[ 9, 10, 11, 12],\n",
       "        [13, 14, 15, 16]])]"
      ]
     },
     "execution_count": 165,
     "metadata": {},
     "output_type": "execute_result"
    }
   ],
   "source": [
    "# 세로로 배열 분리하기\n",
    "np.split(a2d, 2, axis=0)"
   ]
  },
  {
   "cell_type": "code",
   "execution_count": 166,
   "metadata": {
    "ExecuteTime": {
     "end_time": "2022-07-21T16:16:09.129581Z",
     "start_time": "2022-07-21T16:16:09.116582Z"
    },
    "execution": {
     "iopub.execute_input": "2023-09-05T04:56:55.041685Z",
     "iopub.status.busy": "2023-09-05T04:56:55.040683Z",
     "iopub.status.idle": "2023-09-05T04:56:55.048109Z",
     "shell.execute_reply": "2023-09-05T04:56:55.047105Z",
     "shell.execute_reply.started": "2023-09-05T04:56:55.041685Z"
    }
   },
   "outputs": [
    {
     "data": {
      "text/plain": [
       "[array([[ 1,  2],\n",
       "        [ 5,  6],\n",
       "        [ 9, 10],\n",
       "        [13, 14]]),\n",
       " array([[ 3,  4],\n",
       "        [ 7,  8],\n",
       "        [11, 12],\n",
       "        [15, 16]])]"
      ]
     },
     "execution_count": 166,
     "metadata": {},
     "output_type": "execute_result"
    }
   ],
   "source": [
    "# 가로로 배열 분리하기\n",
    "np.split(a2d, 2, axis=1)"
   ]
  },
  {
   "cell_type": "markdown",
   "metadata": {},
   "source": [
    "# **Questions**"
   ]
  },
  {
   "cell_type": "markdown",
   "metadata": {},
   "source": [
    "`월별 민간과 기업들의 전기사용 데이터`로 주어진 `Task를 작성/출력` 하며, 모든 답안의 길이는 한줄부터 여러줄이 가능함\n",
    "\n",
    "- **데이터 정보**\n",
    "> - **파일명:** `Industry_MonthlyElectricUsage.txt`\n",
    "> - **파일위치:** `r'.\\Data\\Energy\\Industry_MonthlyElectricUsage.txt'`     \n",
    "$\\Rightarrow$ `강의자료와 동일 위치`에 `Data` 폴더를 들어가면 `Energy` 폴더가 있고 그 안에 `Industry_MonthlyElectricUsage.txt` 존재\n",
    "> - **코드:** `os.path.join('.', 'Data', 'Energy', 'Industry_MonthlyElectricUsage.txt')`\n",
    "> - **포함정보:** 아래와 같이 `5개의 열(컬럼,변수)`이 차례대로 포함\n",
    ">\n",
    "> <br>\n",
    ">\n",
    "> (1) 년월    \n",
    "> (2) 가구수    \n",
    "> (3) 사용량    \n",
    "> (4) 전기요금(=사용량*평균판매단가)    \n",
    "> (5) 평균판매단가    "
   ]
  },
  {
   "cell_type": "code",
   "execution_count": 167,
   "metadata": {
    "ExecuteTime": {
     "end_time": "2022-07-21T16:16:09.191583Z",
     "start_time": "2022-07-21T16:16:09.131581Z"
    },
    "execution": {
     "iopub.execute_input": "2023-09-05T04:56:55.049112Z",
     "iopub.status.busy": "2023-09-05T04:56:55.048109Z",
     "iopub.status.idle": "2023-09-05T04:56:55.068865Z",
     "shell.execute_reply": "2023-09-05T04:56:55.068865Z",
     "shell.execute_reply.started": "2023-09-05T04:56:55.049112Z"
    }
   },
   "outputs": [
    {
     "data": {
      "text/plain": [
       "array([[2.02001000e+05, 1.30000000e+01, 1.11140000e+04, 1.70977500e+06,\n",
       "        1.54000000e+02],\n",
       "       [2.02001000e+05, 5.05200000e+03, 1.66106290e+07, 2.29918341e+09,\n",
       "        1.38000000e+02],\n",
       "       [2.02001000e+05, 5.57000000e+03, 6.51106010e+07, 8.23555475e+09,\n",
       "        1.27000000e+02],\n",
       "       ...,\n",
       "       [2.02012000e+05, 9.00000000e+00, 0.00000000e+00, 0.00000000e+00,\n",
       "        0.00000000e+00],\n",
       "       [2.02012000e+05, 4.00000000e+00, 0.00000000e+00, 0.00000000e+00,\n",
       "        0.00000000e+00],\n",
       "       [2.02012000e+05, 1.30000000e+01, 0.00000000e+00, 0.00000000e+00,\n",
       "        0.00000000e+00]])"
      ]
     },
     "execution_count": 167,
     "metadata": {},
     "output_type": "execute_result"
    }
   ],
   "source": [
    "# 데이터 불러오기 실행 (Local PC에서 실행하는 경우)\n",
    "import os\n",
    "import numpy as np\n",
    "raw = np.loadtxt(os.path.join('.', 'Data', 'Energy', 'Industry_MonthlyElectricUsage.txt'), delimiter='\\t')\n",
    "raw"
   ]
  },
  {
   "cell_type": "code",
   "execution_count": 168,
   "metadata": {
    "ExecuteTime": {
     "end_time": "2022-07-21T16:16:09.207582Z",
     "start_time": "2022-07-21T16:16:09.194589Z"
    },
    "execution": {
     "iopub.execute_input": "2023-09-05T04:56:55.070871Z",
     "iopub.status.busy": "2023-09-05T04:56:55.069870Z",
     "iopub.status.idle": "2023-09-05T04:56:55.074866Z",
     "shell.execute_reply": "2023-09-05T04:56:55.073859Z",
     "shell.execute_reply.started": "2023-09-05T04:56:55.070871Z"
    }
   },
   "outputs": [],
   "source": [
    "# # 데이터 불러오기 실행 (Google Colab에서 실행하는 경우)\n",
    "# # 파일 선택을 눌러서 'Industry_MonthlyElectricUsage.txt' 파일을 선택해주면 로딩 완료\n",
    "# from google.colab import files\n",
    "# files.upload()\n",
    "\n",
    "# import numpy as np\n",
    "# raw = np.loadtxt('Industry_MonthlyElectricUsage.txt', delimiter='\\t')\n",
    "# raw"
   ]
  },
  {
   "cell_type": "code",
   "execution_count": 169,
   "metadata": {
    "ExecuteTime": {
     "end_time": "2022-07-21T16:16:09.222580Z",
     "start_time": "2022-07-21T16:16:09.209581Z"
    },
    "execution": {
     "iopub.execute_input": "2023-09-05T04:56:55.075866Z",
     "iopub.status.busy": "2023-09-05T04:56:55.075866Z",
     "iopub.status.idle": "2023-09-05T04:56:55.080347Z",
     "shell.execute_reply": "2023-09-05T04:56:55.079336Z",
     "shell.execute_reply.started": "2023-09-05T04:56:55.075866Z"
    }
   },
   "outputs": [],
   "source": [
    "# 데이터의 크기 확인하여 행과 열의 갯수 출력\n"
   ]
  },
  {
   "cell_type": "code",
   "execution_count": 170,
   "metadata": {
    "ExecuteTime": {
     "end_time": "2022-07-21T16:16:09.237584Z",
     "start_time": "2022-07-21T16:16:09.224585Z"
    },
    "execution": {
     "iopub.execute_input": "2023-09-05T04:56:55.081345Z",
     "iopub.status.busy": "2023-09-05T04:56:55.081345Z",
     "iopub.status.idle": "2023-09-05T04:56:55.085497Z",
     "shell.execute_reply": "2023-09-05T04:56:55.084488Z",
     "shell.execute_reply.started": "2023-09-05T04:56:55.081345Z"
    }
   },
   "outputs": [],
   "source": [
    "# 데이터가 정상적으로 수집되었다면 결측값(Missing Value)이 없어야 하는데 결측값이 있다면 갯수를 출력\n"
   ]
  },
  {
   "cell_type": "code",
   "execution_count": 171,
   "metadata": {
    "ExecuteTime": {
     "end_time": "2022-07-21T16:16:09.252579Z",
     "start_time": "2022-07-21T16:16:09.240583Z"
    },
    "execution": {
     "iopub.execute_input": "2023-09-05T04:56:55.086497Z",
     "iopub.status.busy": "2023-09-05T04:56:55.086497Z",
     "iopub.status.idle": "2023-09-05T04:56:55.089600Z",
     "shell.execute_reply": "2023-09-05T04:56:55.089600Z",
     "shell.execute_reply.started": "2023-09-05T04:56:55.086497Z"
    }
   },
   "outputs": [],
   "source": [
    "# 데이터의 사용량이 음수로 표시된 것은 오류기 때문에 이를 확인하고 제거할 필요가 있음\n",
    "# 1) raw에서 사용량이 음수인 행 출력\n",
    "# 2) 사용량이 음수인 행을 삭제하고 나머지를 raw_filter 이름으로 저장\n",
    "# 3) raw_filter의 데이터 크기 확인하여 행과 열의 갯수 출력\n",
    "# 이후 아래 모든 과정에선 음수 오류가 삭제된 데이터를 사용하여 진행\n",
    "\n",
    "\n"
   ]
  },
  {
   "cell_type": "code",
   "execution_count": 172,
   "metadata": {
    "ExecuteTime": {
     "end_time": "2022-07-21T16:16:09.267588Z",
     "start_time": "2022-07-21T16:16:09.253584Z"
    },
    "execution": {
     "iopub.execute_input": "2023-09-05T04:56:55.091611Z",
     "iopub.status.busy": "2023-09-05T04:56:55.090612Z",
     "iopub.status.idle": "2023-09-05T04:56:55.095869Z",
     "shell.execute_reply": "2023-09-05T04:56:55.094861Z",
     "shell.execute_reply.started": "2023-09-05T04:56:55.091611Z"
    }
   },
   "outputs": [],
   "source": [
    "# 데이터를 세부적으로 확인하기 위해서,\n",
    "# 1) 데이터의 수집기간을 확인하기 위해 중복되지 않은 년월(YYYYDD) 값들 출력\n",
    "# 2) 년월별 샘플(행, row)의 갯수를 확인하기 위해 년월과 대응되는 샘플수 출력\n",
    "\n",
    "\n"
   ]
  },
  {
   "cell_type": "code",
   "execution_count": 173,
   "metadata": {
    "ExecuteTime": {
     "end_time": "2022-07-21T16:16:09.283579Z",
     "start_time": "2022-07-21T16:16:09.270589Z"
    },
    "execution": {
     "iopub.execute_input": "2023-09-05T04:56:55.096871Z",
     "iopub.status.busy": "2023-09-05T04:56:55.095869Z",
     "iopub.status.idle": "2023-09-05T04:56:55.100494Z",
     "shell.execute_reply": "2023-09-05T04:56:55.099471Z",
     "shell.execute_reply.started": "2023-09-05T04:56:55.096871Z"
    }
   },
   "outputs": [],
   "source": [
    "# 전체 기간의 사용량 최소값, 평균, 최대값 출력\n"
   ]
  },
  {
   "cell_type": "code",
   "execution_count": 174,
   "metadata": {
    "ExecuteTime": {
     "end_time": "2022-07-21T16:16:09.298584Z",
     "start_time": "2022-07-21T16:16:09.284580Z"
    },
    "execution": {
     "iopub.execute_input": "2023-09-05T04:56:55.102483Z",
     "iopub.status.busy": "2023-09-05T04:56:55.101481Z",
     "iopub.status.idle": "2023-09-05T04:56:55.106912Z",
     "shell.execute_reply": "2023-09-05T04:56:55.105900Z",
     "shell.execute_reply.started": "2023-09-05T04:56:55.102483Z"
    }
   },
   "outputs": [],
   "source": [
    "# 년월과 대응되는 사용량 최소값, 평균, 최대값 출력\n",
    "# 출력형식: '년월: 202001 , 사용량최소값: 0 , 사용량평균: 100 , 사용량최소값: 100000'\n",
    "#           '년월: 202002 , 사용량최소값: 0 , 사용량평균: 100 , 사용량최소값: 100000'\n",
    "#             ...\n",
    "\n",
    "\n"
   ]
  },
  {
   "cell_type": "code",
   "execution_count": 175,
   "metadata": {
    "ExecuteTime": {
     "end_time": "2022-07-21T16:16:09.313582Z",
     "start_time": "2022-07-21T16:16:09.301581Z"
    },
    "execution": {
     "iopub.execute_input": "2023-09-05T04:56:55.107913Z",
     "iopub.status.busy": "2023-09-05T04:56:55.107913Z",
     "iopub.status.idle": "2023-09-05T04:56:55.112332Z",
     "shell.execute_reply": "2023-09-05T04:56:55.111320Z",
     "shell.execute_reply.started": "2023-09-05T04:56:55.107913Z"
    }
   },
   "outputs": [],
   "source": [
    "# 년월과 대응되는 전기요금 최소값, 평균, 중앙값, 최대값, 분산 출력\n",
    "# 출력형식: '년월: 202001.0 , 전기요금최소값: 10 , 전기요금평균: 400 , 전기요금중앙값: 300 , 전기요금최대값: 10000 , 전기요금분산: 100'\n",
    "#           '년월: 202002.0 , 전기요금최소값: 10 , 전기요금평균: 400 , 전기요금중앙값: 300 , 전기요금최대값: 10000 , 전기요금분산: 100'\n",
    "#             ...\n",
    "\n",
    "\n"
   ]
  },
  {
   "cell_type": "code",
   "execution_count": 176,
   "metadata": {
    "ExecuteTime": {
     "end_time": "2022-07-21T16:16:09.328581Z",
     "start_time": "2022-07-21T16:16:09.314581Z"
    },
    "execution": {
     "iopub.execute_input": "2023-09-05T04:56:55.113332Z",
     "iopub.status.busy": "2023-09-05T04:56:55.113332Z",
     "iopub.status.idle": "2023-09-05T04:56:55.117798Z",
     "shell.execute_reply": "2023-09-05T04:56:55.116786Z",
     "shell.execute_reply.started": "2023-09-05T04:56:55.113332Z"
    }
   },
   "outputs": [],
   "source": [
    "# 년월과 대응되는 가구수 평균, 1가구당 평균 사용량, 1가구당 평균 전기요금 출력\n",
    "# 출력형식: '년월: 202001.0 , 가구수 평균: 10 , 1가구당 평균 사용량: 100 , 1가구당 평균 전기요금: 1000'\n",
    "#           '년월: 202002.0 , 가구수 평균: 5 , 1가구당 평균 사용량: 100 , 1가구당 평균 전기요금: 1000'\n",
    "#             ...\n",
    "\n",
    "\n"
   ]
  },
  {
   "cell_type": "code",
   "execution_count": 177,
   "metadata": {
    "ExecuteTime": {
     "end_time": "2022-07-21T16:16:09.344583Z",
     "start_time": "2022-07-21T16:16:09.332584Z"
    },
    "execution": {
     "iopub.execute_input": "2023-09-05T04:56:55.118799Z",
     "iopub.status.busy": "2023-09-05T04:56:55.118799Z",
     "iopub.status.idle": "2023-09-05T04:56:55.123793Z",
     "shell.execute_reply": "2023-09-05T04:56:55.122781Z",
     "shell.execute_reply.started": "2023-09-05T04:56:55.118799Z"
    }
   },
   "outputs": [],
   "source": [
    "# 데이터를 입력받아 데이터가 포함하고 있는 \n",
    "# 년월과 대응되는 가구수 평균, 1가구당 평균 사용량, 1가구당 평균 전기요금 출력하는 함수를 작성하여\n",
    "# 데이터가 바뀌어도 쉽게 전기사용 패턴을 알 수 있도록 자동화 해둔다\n",
    "# 따라서 함수를 만든 후 입력은 raw_filter 출력은 이전 셀과 동일한 결과가 출력되는지 확인한다\n",
    "\n",
    "\n",
    "\n"
   ]
  },
  {
   "cell_type": "code",
   "execution_count": 178,
   "metadata": {
    "ExecuteTime": {
     "end_time": "2022-07-21T16:16:09.359585Z",
     "start_time": "2022-07-21T16:16:09.347583Z"
    },
    "execution": {
     "iopub.execute_input": "2023-09-05T04:56:55.124793Z",
     "iopub.status.busy": "2023-09-05T04:56:55.124793Z",
     "iopub.status.idle": "2023-09-05T04:56:55.129112Z",
     "shell.execute_reply": "2023-09-05T04:56:55.128101Z",
     "shell.execute_reply.started": "2023-09-05T04:56:55.124793Z"
    }
   },
   "outputs": [],
   "source": [
    "# 소비자 입장에선 최대손실 생산자 입장에선 VVIP 고객의 사용패턴을 파악하기 위한 분석 결과 출력\n",
    "\n",
    "\n",
    "# 전기요금으로 1조(1000000000000)가 넘는 비용을 지출한 VVIP의 년월과 계절패턴이 언제인지 주석으로 작성\n",
    "\n"
   ]
  },
  {
   "cell_type": "code",
   "execution_count": 179,
   "metadata": {
    "ExecuteTime": {
     "end_time": "2024-11-17T14:54:16.871720Z",
     "start_time": "2024-11-17T14:54:16.870058Z"
    }
   },
   "outputs": [],
   "source": [
    "# 소비자 입장에선 최대손실 생산자 입장에선 VVIP 고객의 사용패턴을 파악하기 위한 분석 필요\n",
    "# 위에서 자동화한 함수를 사용하여 \n",
    "# 1) VVIP의 사용년월과 대응되는 가구수 평균, 1가구당 평균 사용량, 1가구당 평균 전기요금 출력\n",
    "# 출력형식: '년월: 202001.0 , 가구수 평균: 10 , 1가구당 평균 사용량: 100 , 1가구당 평균 전기요금: 1000'\n",
    "#           '년월: 202002.0 , 가구수 평균: 5 , 1가구당 평균 사용량: 100 , 1가구당 평균 전기요금: 1000'\n",
    "#             ...\n",
    "\n",
    "\n",
    "# 2) 평균상 VVIP가 가장 많은 가구수가 있는 년월을 주석으로 작성\n",
    "\n"
   ]
  },
  {
   "cell_type": "code",
   "execution_count": null,
   "metadata": {},
   "outputs": [],
   "source": [
    "# 정부는 생산자의 매출을 증가시키기 위해 \n",
    "# VVIP가 가장 많은 가구수인 년월에만 \"평균판매단가\"를 5% 상승시키는 정책을 하려한다\n",
    "# 그럴 경우 VVIP가 부담해야 할 전기요금 또는 생산자의 매출은 실제로 얼마나 증가되는지 시뮬레이션 분석하여\n",
    "# 정책의 효용을 검증 해야한다\n",
    "# 1) [정책반영 데이터 업데이트] 따라서 raw_filter_new = raw_filter.copy() 코드를 사용하여 기존 데이터를 복사한 후,\n",
    "# raw_filter_new에 정부의 정책을 반영하여 데이터를 업데이트 한다\n",
    "# 2) [시뮬레이션 기반 정책효과 검증] 이후 위에서 자동화한 함수와 신규 정책 데이터(raw_filter_new)을 사용하여,\n",
    "# VVIP는 앞서 분석했던 VVIP가 가장 많은 가구수인 년월에 기존(raw_filter) 대비 몇 퍼센트의 요금상승을 발생시키는지 계산 출력\n",
    "\n",
    "\n",
    "\n"
   ]
  },
  {
   "cell_type": "code",
   "execution_count": 181,
   "metadata": {
    "ExecuteTime": {
     "end_time": "2024-11-17T14:54:19.774596Z",
     "start_time": "2024-11-17T14:54:19.772273Z"
    }
   },
   "outputs": [],
   "source": [
    "# 정부정책의 효과를 확인하기 위해 VVIP 이외에 Non-vvip 집단과의 정책 효용을 비교한다\n",
    "# 앞서 분석했던 VVIP가 가장 많은 가구수인 년월에\n",
    "# 1) [시뮬레이션 기반 정책효과 검증] 이후 위에서 자동화한 함수와 신규 정책 데이터(raw_filter_new)을 사용하여,\n",
    "# 민간 또는 소기업으로 볼 수 있는 전기요금 1억(100000000) 미만인 Non-vvip는\n",
    "# 앞서 분석했던 VVIP가 가장 많은 가구수인 년월에 기존(raw_filter) 대비 몇 퍼센트의 요금상승을 발생시키는지 계산 출력\n",
    "\n",
    "\n",
    "\n"
   ]
  },
  {
   "cell_type": "code",
   "execution_count": 182,
   "metadata": {
    "ExecuteTime": {
     "end_time": "2024-11-17T14:54:21.191759Z",
     "start_time": "2024-11-17T14:54:21.189374Z"
    }
   },
   "outputs": [],
   "source": [
    "# 2) [데이터기반 의사결정] 정부의 정책 효과를 주석으로 작성하고\n",
    "\n",
    "\n",
    "# 3) [의사결정기반 신규 정책 제시] 위 VIP의 5% 평균판매단가 증가 정책에 더하여,\n",
    "# 어떤 정책을 추가해야 Non-vip의 비용이 줄어들지(요금하락) 또는 늘어나게(요금상승) 될지 의견을 제시하고\n",
    "# 위 데이터 기반의 시뮬레이션처럼 신규 추가 정책의 요금변화 수치를 근거로 제시하라\n",
    "\n",
    "\n",
    "\n"
   ]
  },
  {
   "cell_type": "code",
   "execution_count": null,
   "metadata": {},
   "outputs": [],
   "source": []
  }
 ],
 "metadata": {
  "hide_input": false,
  "kernelspec": {
   "display_name": "Python 3 (ipykernel)",
   "language": "python",
   "name": "python3"
  },
  "language_info": {
   "codemirror_mode": {
    "name": "ipython",
    "version": 3
   },
   "file_extension": ".py",
   "mimetype": "text/x-python",
   "name": "python",
   "nbconvert_exporter": "python",
   "pygments_lexer": "ipython3",
   "version": "3.12.4"
  },
  "toc": {
   "base_numbering": 1,
   "nav_menu": {},
   "number_sections": true,
   "sideBar": true,
   "skip_h1_title": false,
   "title_cell": "Table of Contents",
   "title_sidebar": "Contents",
   "toc_cell": false,
   "toc_position": {
    "height": "calc(100% - 180px)",
    "left": "10px",
    "top": "150px",
    "width": "394px"
   },
   "toc_section_display": true,
   "toc_window_display": true
  },
  "toc-autonumbering": true,
  "toc-showmarkdowntxt": false,
  "varInspector": {
   "cols": {
    "lenName": 16,
    "lenType": 16,
    "lenVar": 40
   },
   "kernels_config": {
    "python": {
     "delete_cmd_postfix": "",
     "delete_cmd_prefix": "del ",
     "library": "var_list.py",
     "varRefreshCmd": "print(var_dic_list())"
    },
    "r": {
     "delete_cmd_postfix": ") ",
     "delete_cmd_prefix": "rm(",
     "library": "var_list.r",
     "varRefreshCmd": "cat(var_dic_list()) "
    }
   },
   "types_to_exclude": [
    "module",
    "function",
    "builtin_function_or_method",
    "instance",
    "_Feature"
   ],
   "window_display": false
  }
 },
 "nbformat": 4,
 "nbformat_minor": 4
}
